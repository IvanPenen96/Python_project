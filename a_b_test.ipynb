{
 "cells": [
  {
   "cell_type": "markdown",
   "metadata": {},
   "source": [
    "# Выпускной проект\n",
    "Проведение A/B-теста"
   ]
  },
  {
   "cell_type": "markdown",
   "metadata": {},
   "source": [
    "# Задача\n",
    "\n",
    "Провести оценку результатов A/B-теста."
   ]
  },
  {
   "cell_type": "markdown",
   "metadata": {},
   "source": [
    "**Техническое задание**\n",
    "\n",
    "1. Название теста: recommender_system_test;\n",
    "2. Группы: А (контрольная), B (новая платёжная воронка);\n",
    "3. Дата запуска: 2020-12-07;\n",
    "4. Дата остановки набора новых пользователей: 2020-12-21;\n",
    "5. Дата остановки: 2021-01-04;\n",
    "6. Аудитория: 15% новых пользователей из региона EU;\n",
    "7. Назначение теста: тестирование изменений, связанных с внедрением улучшенной рекомендательной системы;\n",
    "8. Ожидаемое количество участников теста: 6000.\n",
    "9. Ожидаемый эффект: за 14 дней с момента регистрации в системе пользователи покажут улучшение каждой метрики не менее, чем на 10%:\n",
    " * конверсии в просмотр карточек товаров — событие product_page\n",
    " * просмотры корзины — product_cart\n",
    " * покупки — purchase."
   ]
  },
  {
   "cell_type": "markdown",
   "metadata": {},
   "source": [
    "## Описание данных\n",
    "**/datasets/marketing_events.csv — календарь маркетинговых событий на 2020 год;**\n",
    "\n",
    "Структура файла:\n",
    "  \n",
    "* name — название маркетингового события;\n",
    "* regions — регионы, в которых будет проводиться рекламная кампания;\n",
    "* start_dt — дата начала кампании;\n",
    "* finish_dt — дата завершения кампании.\n",
    "\n",
    "**/datasets/users.csv — все пользователи, зарегистрировавшиеся в интернет-магазине в период с 7 по 21 декабря 2020 года;**\n",
    "\n",
    "Структура файла:\n",
    "\n",
    "* user_id — идентификатор пользователя;\n",
    "* first_date — дата регистрации;\n",
    "* region — регион пользователя;\n",
    "* device — устройство, с которого происходила регистрация.\n",
    "\n",
    "**/datasets/events.csv — все события новых пользователей в период с 7 декабря 2020 по 4 января 2021 года;**\n",
    "\n",
    "Структура файла:\n",
    "\n",
    "* user_id — идентификатор пользователя;\n",
    "* event_dt — дата и время события;\n",
    "* event_name — тип события;\n",
    "* details — дополнительные данные о событии. Например, для покупок, purchase, в этом поле хранится стоимость покупки в долларах.\n",
    "\n",
    "**/datasets/participants.csv — таблица участников тестов.**\n",
    "\n",
    "Структура файла:\n",
    "\n",
    "* user_id — идентификатор пользователя;\n",
    "* ab_test — название теста;\n",
    "* group — группа пользователя."
   ]
  },
  {
   "cell_type": "markdown",
   "metadata": {},
   "source": [
    "## Задачи исследования\n",
    "1. Шаг 1. Откройте файл с данными и изучите общую информацию\n",
    "2. Шаг 2. Предобработка данных\n",
    " * Изучить и обработать пропуски(если это возможно)\n",
    " * Обработать дубликаты\n",
    " * Изменить формат столбцов\n",
    "3. Шаг 3. Оценка корректность проведения теста.\n",
    " * Соответствие данных требованиям технического задания. \n",
    " * Время проведения теста. \n",
    " * Аудиторию теста.\n",
    "4. Шаг 4. Иследовательский анализ данных:\n",
    " * Количество событий на пользователя одинаково распределены в выборках?\n",
    " * Как число событий в выборках распределено по дням?\n",
    " * Как меняется конверсия в воронке в выборках на разных этапах?\n",
    " * Какие особенности данных нужно учесть, прежде чем приступать к A/B-тестированию?\n",
    "5. A/B-тестирования:\n",
    " * Проверьте статистическую разницу долей z-критерием\n",
    "6. Вывод"
   ]
  },
  {
   "cell_type": "markdown",
   "metadata": {},
   "source": [
    "## Шаг 1. Откройте файл с данными и изучите общую информацию"
   ]
  },
  {
   "cell_type": "code",
   "execution_count": 82,
   "metadata": {},
   "outputs": [],
   "source": [
    "# <импорт библиотек>\n",
    "import pandas as pd\n",
    "import matplotlib.pyplot as plt\n",
    "import numpy as np\n",
    "from scipy import stats as st\n",
    "import seaborn as sns\n",
    "import math\n",
    "from plotly import graph_objects as go\n",
    "import plotly.express as px\n",
    "\n",
    "\n",
    "# <настройки>\n",
    "pd.set_option('display.max_columns',90000)\n",
    "pd.set_option('display.float_format',lambda x: '%.2f' % x)\n",
    "pd.set_option('display.max_colwidth', 0)"
   ]
  },
  {
   "cell_type": "markdown",
   "metadata": {},
   "source": [
    "<div class=\"alert alert-block alert-success\">✔️\n",
    "    \n",
    "\n",
    "__Комментарий от тимлида №1__\n",
    "\n",
    "Хорошо, модули загружены\n",
    "</div>"
   ]
  },
  {
   "cell_type": "code",
   "execution_count": 83,
   "metadata": {},
   "outputs": [],
   "source": [
    "# Создание переменных с данными\n",
    "events = pd.read_csv('/datasets/final_ab_events.csv')\n",
    "participants = pd.read_csv('/datasets/final_ab_participants.csv')\n",
    "users = pd.read_csv('/datasets/final_ab_new_users.csv')\n",
    "marketing_events = pd.read_csv('/datasets/ab_project_marketing_events.csv')\n"
   ]
  },
  {
   "cell_type": "markdown",
   "metadata": {},
   "source": [
    "<div class=\"alert alert-block alert-success\">✔️\n",
    "    \n",
    "\n",
    "__Комментарий от тимлида №1__\n",
    "\n",
    "\n",
    "Для подгрузки данных можно использовать конструкцию `try-except`, она поможет избежать потенциальных ошибок при загрузке данных, связанных, например, с некорректным указанием путей.\n",
    "        \n",
    "Подробнее о конструкции по ссылке:\n",
    "        \n",
    "https://pythonworld.ru/tipy-dannyx-v-python/isklyucheniya-v-python-konstrukciya-try-except-dlya-obrabotki-isklyuchenij.html\n",
    "        \n",
    "Либо же можно использовать стандартную библиотеку os:\n",
    "        \n",
    "https://pythonworld.ru/moduli/modul-os.html\n",
    "\n",
    "    \n",
    "Несколько интересных статей кейсы использования конструкции:\n",
    "    \n",
    "https://www.programiz.com/python-programming/exception-handling\n",
    "    \n",
    "https://towardsdatascience.com/do-not-abuse-try-except-in-python-d9b8ee59e23b\n",
    "    \n",
    "https://www.techbeamers.com/use-try-except-python/\n",
    "        \n",
    "Как вариант в try можно указать корректные пути (в нашем случае глобальные) в except - некорректные (локальные). Можно также специфицровать тип ошибки, FileNotFoundError или задать кастомный тип ошибки (FilePathError, например)\n",
    "        \n",
    "Она полезна, если ты работаешь локально, а потом подгружаешь проект на платформу. Конструкция позволит не падать коду и локально, и на сервере ЯП, так как если не сработает один блок с путями, сработает другой.\n",
    "        \n",
    "Ну и вообще, в целом полезно про эту констуркцию знать, она универсальна и может быть использована в разных задачах.\n",
    "</div>"
   ]
  },
  {
   "cell_type": "code",
   "execution_count": 84,
   "metadata": {
    "scrolled": false
   },
   "outputs": [
    {
     "data": {
      "text/html": [
       "<div>\n",
       "<style scoped>\n",
       "    .dataframe tbody tr th:only-of-type {\n",
       "        vertical-align: middle;\n",
       "    }\n",
       "\n",
       "    .dataframe tbody tr th {\n",
       "        vertical-align: top;\n",
       "    }\n",
       "\n",
       "    .dataframe thead th {\n",
       "        text-align: right;\n",
       "    }\n",
       "</style>\n",
       "<table border=\"1\" class=\"dataframe\">\n",
       "  <thead>\n",
       "    <tr style=\"text-align: right;\">\n",
       "      <th></th>\n",
       "      <th>user_id</th>\n",
       "      <th>event_dt</th>\n",
       "      <th>event_name</th>\n",
       "      <th>details</th>\n",
       "    </tr>\n",
       "  </thead>\n",
       "  <tbody>\n",
       "    <tr>\n",
       "      <th>0</th>\n",
       "      <td>E1BDDCE0DAFA2679</td>\n",
       "      <td>2020-12-07 20:22:03</td>\n",
       "      <td>purchase</td>\n",
       "      <td>99.99</td>\n",
       "    </tr>\n",
       "    <tr>\n",
       "      <th>1</th>\n",
       "      <td>7B6452F081F49504</td>\n",
       "      <td>2020-12-07 09:22:53</td>\n",
       "      <td>purchase</td>\n",
       "      <td>9.99</td>\n",
       "    </tr>\n",
       "    <tr>\n",
       "      <th>2</th>\n",
       "      <td>9CD9F34546DF254C</td>\n",
       "      <td>2020-12-07 12:59:29</td>\n",
       "      <td>purchase</td>\n",
       "      <td>4.99</td>\n",
       "    </tr>\n",
       "    <tr>\n",
       "      <th>3</th>\n",
       "      <td>96F27A054B191457</td>\n",
       "      <td>2020-12-07 04:02:40</td>\n",
       "      <td>purchase</td>\n",
       "      <td>4.99</td>\n",
       "    </tr>\n",
       "    <tr>\n",
       "      <th>4</th>\n",
       "      <td>1FD7660FDF94CA1F</td>\n",
       "      <td>2020-12-07 10:15:09</td>\n",
       "      <td>purchase</td>\n",
       "      <td>4.99</td>\n",
       "    </tr>\n",
       "  </tbody>\n",
       "</table>\n",
       "</div>"
      ],
      "text/plain": [
       "            user_id             event_dt event_name  details\n",
       "0  E1BDDCE0DAFA2679  2020-12-07 20:22:03  purchase  99.99   \n",
       "1  7B6452F081F49504  2020-12-07 09:22:53  purchase  9.99    \n",
       "2  9CD9F34546DF254C  2020-12-07 12:59:29  purchase  4.99    \n",
       "3  96F27A054B191457  2020-12-07 04:02:40  purchase  4.99    \n",
       "4  1FD7660FDF94CA1F  2020-12-07 10:15:09  purchase  4.99    "
      ]
     },
     "metadata": {},
     "output_type": "display_data"
    },
    {
     "name": "stdout",
     "output_type": "stream",
     "text": [
      "<class 'pandas.core.frame.DataFrame'>\n",
      "RangeIndex: 440317 entries, 0 to 440316\n",
      "Data columns (total 4 columns):\n",
      " #   Column      Non-Null Count   Dtype  \n",
      "---  ------      --------------   -----  \n",
      " 0   user_id     440317 non-null  object \n",
      " 1   event_dt    440317 non-null  object \n",
      " 2   event_name  440317 non-null  object \n",
      " 3   details     62740 non-null   float64\n",
      "dtypes: float64(1), object(3)\n",
      "memory usage: 13.4+ MB\n"
     ]
    },
    {
     "data": {
      "text/plain": [
       "None"
      ]
     },
     "metadata": {},
     "output_type": "display_data"
    },
    {
     "data": {
      "text/plain": [
       "'Количество дубликатов'"
      ]
     },
     "metadata": {},
     "output_type": "display_data"
    },
    {
     "data": {
      "text/plain": [
       "0"
      ]
     },
     "metadata": {},
     "output_type": "display_data"
    },
    {
     "data": {
      "text/plain": [
       "'------------------------------'"
      ]
     },
     "metadata": {},
     "output_type": "display_data"
    },
    {
     "data": {
      "text/html": [
       "<div>\n",
       "<style scoped>\n",
       "    .dataframe tbody tr th:only-of-type {\n",
       "        vertical-align: middle;\n",
       "    }\n",
       "\n",
       "    .dataframe tbody tr th {\n",
       "        vertical-align: top;\n",
       "    }\n",
       "\n",
       "    .dataframe thead th {\n",
       "        text-align: right;\n",
       "    }\n",
       "</style>\n",
       "<table border=\"1\" class=\"dataframe\">\n",
       "  <thead>\n",
       "    <tr style=\"text-align: right;\">\n",
       "      <th></th>\n",
       "      <th>user_id</th>\n",
       "      <th>group</th>\n",
       "      <th>ab_test</th>\n",
       "    </tr>\n",
       "  </thead>\n",
       "  <tbody>\n",
       "    <tr>\n",
       "      <th>0</th>\n",
       "      <td>D1ABA3E2887B6A73</td>\n",
       "      <td>A</td>\n",
       "      <td>recommender_system_test</td>\n",
       "    </tr>\n",
       "    <tr>\n",
       "      <th>1</th>\n",
       "      <td>A7A3664BD6242119</td>\n",
       "      <td>A</td>\n",
       "      <td>recommender_system_test</td>\n",
       "    </tr>\n",
       "    <tr>\n",
       "      <th>2</th>\n",
       "      <td>DABC14FDDFADD29E</td>\n",
       "      <td>A</td>\n",
       "      <td>recommender_system_test</td>\n",
       "    </tr>\n",
       "    <tr>\n",
       "      <th>3</th>\n",
       "      <td>04988C5DF189632E</td>\n",
       "      <td>A</td>\n",
       "      <td>recommender_system_test</td>\n",
       "    </tr>\n",
       "    <tr>\n",
       "      <th>4</th>\n",
       "      <td>482F14783456D21B</td>\n",
       "      <td>B</td>\n",
       "      <td>recommender_system_test</td>\n",
       "    </tr>\n",
       "  </tbody>\n",
       "</table>\n",
       "</div>"
      ],
      "text/plain": [
       "            user_id group                  ab_test\n",
       "0  D1ABA3E2887B6A73  A     recommender_system_test\n",
       "1  A7A3664BD6242119  A     recommender_system_test\n",
       "2  DABC14FDDFADD29E  A     recommender_system_test\n",
       "3  04988C5DF189632E  A     recommender_system_test\n",
       "4  482F14783456D21B  B     recommender_system_test"
      ]
     },
     "metadata": {},
     "output_type": "display_data"
    },
    {
     "name": "stdout",
     "output_type": "stream",
     "text": [
      "<class 'pandas.core.frame.DataFrame'>\n",
      "RangeIndex: 18268 entries, 0 to 18267\n",
      "Data columns (total 3 columns):\n",
      " #   Column   Non-Null Count  Dtype \n",
      "---  ------   --------------  ----- \n",
      " 0   user_id  18268 non-null  object\n",
      " 1   group    18268 non-null  object\n",
      " 2   ab_test  18268 non-null  object\n",
      "dtypes: object(3)\n",
      "memory usage: 428.3+ KB\n"
     ]
    },
    {
     "data": {
      "text/plain": [
       "None"
      ]
     },
     "metadata": {},
     "output_type": "display_data"
    },
    {
     "data": {
      "text/plain": [
       "'Количество дубликатов'"
      ]
     },
     "metadata": {},
     "output_type": "display_data"
    },
    {
     "data": {
      "text/plain": [
       "0"
      ]
     },
     "metadata": {},
     "output_type": "display_data"
    },
    {
     "data": {
      "text/plain": [
       "'------------------------------'"
      ]
     },
     "metadata": {},
     "output_type": "display_data"
    },
    {
     "data": {
      "text/html": [
       "<div>\n",
       "<style scoped>\n",
       "    .dataframe tbody tr th:only-of-type {\n",
       "        vertical-align: middle;\n",
       "    }\n",
       "\n",
       "    .dataframe tbody tr th {\n",
       "        vertical-align: top;\n",
       "    }\n",
       "\n",
       "    .dataframe thead th {\n",
       "        text-align: right;\n",
       "    }\n",
       "</style>\n",
       "<table border=\"1\" class=\"dataframe\">\n",
       "  <thead>\n",
       "    <tr style=\"text-align: right;\">\n",
       "      <th></th>\n",
       "      <th>user_id</th>\n",
       "      <th>first_date</th>\n",
       "      <th>region</th>\n",
       "      <th>device</th>\n",
       "    </tr>\n",
       "  </thead>\n",
       "  <tbody>\n",
       "    <tr>\n",
       "      <th>0</th>\n",
       "      <td>D72A72121175D8BE</td>\n",
       "      <td>2020-12-07</td>\n",
       "      <td>EU</td>\n",
       "      <td>PC</td>\n",
       "    </tr>\n",
       "    <tr>\n",
       "      <th>1</th>\n",
       "      <td>F1C668619DFE6E65</td>\n",
       "      <td>2020-12-07</td>\n",
       "      <td>N.America</td>\n",
       "      <td>Android</td>\n",
       "    </tr>\n",
       "    <tr>\n",
       "      <th>2</th>\n",
       "      <td>2E1BF1D4C37EA01F</td>\n",
       "      <td>2020-12-07</td>\n",
       "      <td>EU</td>\n",
       "      <td>PC</td>\n",
       "    </tr>\n",
       "    <tr>\n",
       "      <th>3</th>\n",
       "      <td>50734A22C0C63768</td>\n",
       "      <td>2020-12-07</td>\n",
       "      <td>EU</td>\n",
       "      <td>iPhone</td>\n",
       "    </tr>\n",
       "    <tr>\n",
       "      <th>4</th>\n",
       "      <td>E1BDDCE0DAFA2679</td>\n",
       "      <td>2020-12-07</td>\n",
       "      <td>N.America</td>\n",
       "      <td>iPhone</td>\n",
       "    </tr>\n",
       "  </tbody>\n",
       "</table>\n",
       "</div>"
      ],
      "text/plain": [
       "            user_id  first_date     region   device\n",
       "0  D72A72121175D8BE  2020-12-07  EU         PC     \n",
       "1  F1C668619DFE6E65  2020-12-07  N.America  Android\n",
       "2  2E1BF1D4C37EA01F  2020-12-07  EU         PC     \n",
       "3  50734A22C0C63768  2020-12-07  EU         iPhone \n",
       "4  E1BDDCE0DAFA2679  2020-12-07  N.America  iPhone "
      ]
     },
     "metadata": {},
     "output_type": "display_data"
    },
    {
     "name": "stdout",
     "output_type": "stream",
     "text": [
      "<class 'pandas.core.frame.DataFrame'>\n",
      "RangeIndex: 61733 entries, 0 to 61732\n",
      "Data columns (total 4 columns):\n",
      " #   Column      Non-Null Count  Dtype \n",
      "---  ------      --------------  ----- \n",
      " 0   user_id     61733 non-null  object\n",
      " 1   first_date  61733 non-null  object\n",
      " 2   region      61733 non-null  object\n",
      " 3   device      61733 non-null  object\n",
      "dtypes: object(4)\n",
      "memory usage: 1.9+ MB\n"
     ]
    },
    {
     "data": {
      "text/plain": [
       "None"
      ]
     },
     "metadata": {},
     "output_type": "display_data"
    },
    {
     "data": {
      "text/plain": [
       "'Количество дубликатов'"
      ]
     },
     "metadata": {},
     "output_type": "display_data"
    },
    {
     "data": {
      "text/plain": [
       "0"
      ]
     },
     "metadata": {},
     "output_type": "display_data"
    },
    {
     "data": {
      "text/plain": [
       "'------------------------------'"
      ]
     },
     "metadata": {},
     "output_type": "display_data"
    },
    {
     "data": {
      "text/html": [
       "<div>\n",
       "<style scoped>\n",
       "    .dataframe tbody tr th:only-of-type {\n",
       "        vertical-align: middle;\n",
       "    }\n",
       "\n",
       "    .dataframe tbody tr th {\n",
       "        vertical-align: top;\n",
       "    }\n",
       "\n",
       "    .dataframe thead th {\n",
       "        text-align: right;\n",
       "    }\n",
       "</style>\n",
       "<table border=\"1\" class=\"dataframe\">\n",
       "  <thead>\n",
       "    <tr style=\"text-align: right;\">\n",
       "      <th></th>\n",
       "      <th>name</th>\n",
       "      <th>regions</th>\n",
       "      <th>start_dt</th>\n",
       "      <th>finish_dt</th>\n",
       "    </tr>\n",
       "  </thead>\n",
       "  <tbody>\n",
       "    <tr>\n",
       "      <th>0</th>\n",
       "      <td>Christmas&amp;New Year Promo</td>\n",
       "      <td>EU, N.America</td>\n",
       "      <td>2020-12-25</td>\n",
       "      <td>2021-01-03</td>\n",
       "    </tr>\n",
       "    <tr>\n",
       "      <th>1</th>\n",
       "      <td>St. Valentine's Day Giveaway</td>\n",
       "      <td>EU, CIS, APAC, N.America</td>\n",
       "      <td>2020-02-14</td>\n",
       "      <td>2020-02-16</td>\n",
       "    </tr>\n",
       "    <tr>\n",
       "      <th>2</th>\n",
       "      <td>St. Patric's Day Promo</td>\n",
       "      <td>EU, N.America</td>\n",
       "      <td>2020-03-17</td>\n",
       "      <td>2020-03-19</td>\n",
       "    </tr>\n",
       "    <tr>\n",
       "      <th>3</th>\n",
       "      <td>Easter Promo</td>\n",
       "      <td>EU, CIS, APAC, N.America</td>\n",
       "      <td>2020-04-12</td>\n",
       "      <td>2020-04-19</td>\n",
       "    </tr>\n",
       "    <tr>\n",
       "      <th>4</th>\n",
       "      <td>4th of July Promo</td>\n",
       "      <td>N.America</td>\n",
       "      <td>2020-07-04</td>\n",
       "      <td>2020-07-11</td>\n",
       "    </tr>\n",
       "  </tbody>\n",
       "</table>\n",
       "</div>"
      ],
      "text/plain": [
       "                           name                   regions    start_dt  \\\n",
       "0  Christmas&New Year Promo      EU, N.America             2020-12-25   \n",
       "1  St. Valentine's Day Giveaway  EU, CIS, APAC, N.America  2020-02-14   \n",
       "2  St. Patric's Day Promo        EU, N.America             2020-03-17   \n",
       "3  Easter Promo                  EU, CIS, APAC, N.America  2020-04-12   \n",
       "4  4th of July Promo             N.America                 2020-07-04   \n",
       "\n",
       "    finish_dt  \n",
       "0  2021-01-03  \n",
       "1  2020-02-16  \n",
       "2  2020-03-19  \n",
       "3  2020-04-19  \n",
       "4  2020-07-11  "
      ]
     },
     "metadata": {},
     "output_type": "display_data"
    },
    {
     "name": "stdout",
     "output_type": "stream",
     "text": [
      "<class 'pandas.core.frame.DataFrame'>\n",
      "RangeIndex: 14 entries, 0 to 13\n",
      "Data columns (total 4 columns):\n",
      " #   Column     Non-Null Count  Dtype \n",
      "---  ------     --------------  ----- \n",
      " 0   name       14 non-null     object\n",
      " 1   regions    14 non-null     object\n",
      " 2   start_dt   14 non-null     object\n",
      " 3   finish_dt  14 non-null     object\n",
      "dtypes: object(4)\n",
      "memory usage: 576.0+ bytes\n"
     ]
    },
    {
     "data": {
      "text/plain": [
       "None"
      ]
     },
     "metadata": {},
     "output_type": "display_data"
    },
    {
     "data": {
      "text/plain": [
       "'Количество дубликатов'"
      ]
     },
     "metadata": {},
     "output_type": "display_data"
    },
    {
     "data": {
      "text/plain": [
       "0"
      ]
     },
     "metadata": {},
     "output_type": "display_data"
    },
    {
     "data": {
      "text/plain": [
       "'------------------------------'"
      ]
     },
     "metadata": {},
     "output_type": "display_data"
    }
   ],
   "source": [
    "# Создания цикла , который поочередно выведет информацию по нашим данным\n",
    "for a in [events,participants,users,marketing_events]:\n",
    "    display(a.head())\n",
    "    display(a.info(5))\n",
    "    display('Количество дубликатов',a.duplicated().sum())\n",
    "    display('------------------------------')\n",
    "\n"
   ]
  },
  {
   "cell_type": "markdown",
   "metadata": {},
   "source": [
    "<div class=\"alert alert-block alert-success\">✔️\n",
    "    \n",
    "\n",
    "__Комментарий от тимлида №1__\n",
    "\n",
    "\n",
    "Здорово, что используешь собственные функции\n",
    "</div>"
   ]
  },
  {
   "cell_type": "code",
   "execution_count": 85,
   "metadata": {},
   "outputs": [
    {
     "data": {
      "text/html": [
       "<style  type=\"text/css\" >\n",
       "#T_5faeb_row0_col0,#T_5faeb_row1_col0,#T_5faeb_row2_col0{\n",
       "            background-color:  #3b4cc0;\n",
       "            color:  #f1f1f1;\n",
       "        }#T_5faeb_row3_col0{\n",
       "            background-color:  #b40426;\n",
       "            color:  #f1f1f1;\n",
       "        }</style><table id=\"T_5faeb_\" ><thead>    <tr>        <th class=\"blank level0\" ></th>        <th class=\"col_heading level0 col0\" >0</th>    </tr></thead><tbody>\n",
       "                <tr>\n",
       "                        <th id=\"T_5faeb_level0_row0\" class=\"row_heading level0 row0\" >user_id</th>\n",
       "                        <td id=\"T_5faeb_row0_col0\" class=\"data row0 col0\" >0.000000</td>\n",
       "            </tr>\n",
       "            <tr>\n",
       "                        <th id=\"T_5faeb_level0_row1\" class=\"row_heading level0 row1\" >event_dt</th>\n",
       "                        <td id=\"T_5faeb_row1_col0\" class=\"data row1 col0\" >0.000000</td>\n",
       "            </tr>\n",
       "            <tr>\n",
       "                        <th id=\"T_5faeb_level0_row2\" class=\"row_heading level0 row2\" >event_name</th>\n",
       "                        <td id=\"T_5faeb_row2_col0\" class=\"data row2 col0\" >0.000000</td>\n",
       "            </tr>\n",
       "            <tr>\n",
       "                        <th id=\"T_5faeb_level0_row3\" class=\"row_heading level0 row3\" >details</th>\n",
       "                        <td id=\"T_5faeb_row3_col0\" class=\"data row3 col0\" >85.800000</td>\n",
       "            </tr>\n",
       "    </tbody></table>"
      ],
      "text/plain": [
       "<pandas.io.formats.style.Styler at 0x7f8109da8970>"
      ]
     },
     "execution_count": 85,
     "metadata": {},
     "output_type": "execute_result"
    }
   ],
   "source": [
    "# Так как пропуски были только в событиях выведем пропуски\n",
    "pd.DataFrame(round(events.isna().mean()*100,1)).style.background_gradient('coolwarm')"
   ]
  },
  {
   "cell_type": "markdown",
   "metadata": {},
   "source": [
    "#### Вывод\n",
    "* Были импортированы необходимые библиотеки\n",
    "* Данным присвоены переменные\n",
    "* Дубликатов не найдено\n",
    "* Пропуски присутствуют в только в переменной final_ab_events и составляют 85% процентов датасета\n",
    "* Необходимо изменить формат для ячеек содержащих даты"
   ]
  },
  {
   "cell_type": "markdown",
   "metadata": {},
   "source": [
    "<div class=\"alert alert-block alert-success\">✔️\n",
    "    \n",
    "\n",
    "__Комментарий от тимлида №1__\n",
    "\n",
    "    \n",
    "Отлично! Первый взгляд на данные есть"
   ]
  },
  {
   "cell_type": "markdown",
   "metadata": {},
   "source": [
    "## Шаг 2. Предобработка данных"
   ]
  },
  {
   "cell_type": "markdown",
   "metadata": {},
   "source": [
    "### Обработка пропусков"
   ]
  },
  {
   "cell_type": "code",
   "execution_count": 86,
   "metadata": {},
   "outputs": [
    {
     "data": {
      "text/plain": [
       "login           189552\n",
       "product_page    125563\n",
       "product_cart    62462 \n",
       "Name: event_name, dtype: int64"
      ]
     },
     "execution_count": 86,
     "metadata": {},
     "output_type": "execute_result"
    }
   ],
   "source": [
    "# Выведем события с пропусками\n",
    "events.query('details.isnull()')['event_name'].value_counts()"
   ]
  },
  {
   "cell_type": "markdown",
   "metadata": {},
   "source": [
    "#### Вывод\n",
    "Можно заметить что все пропуска находятся в событиях не связанных с оплатой, так как в столбце details отображаются данные об оплате. Оставляем пропуски как есть, в данном случае заменить числовым значением их нельзя.\n",
    "\n",
    "Если правильно понял пропуски относятся к категории:\n",
    "- **MNAR** (Missing Not At Random / Отсутствует не случайно) — пропуски зависят от данных, без дополнительного обоснования их нельзя отбрасывать или заполнять одним значением, т.к. это приведёт к заметным искажениям."
   ]
  },
  {
   "cell_type": "markdown",
   "metadata": {},
   "source": [
    "<div class=\"alert alert-block alert-success\">✔️\n",
    "    \n",
    "\n",
    "__Комментарий от тимлида №1__\n",
    "\n",
    "\n",
    "Смотри, не есть хорошо, когда налево и направо пытаться заполнить пропуски. В реальной работе - сейчас заменил на ноль, а через месяц забыл и среднее подсчитал. Плюс могут быть моменты, когда покупка бонусная или подарок, будет ноль стоить. В общем, если можно оставить пропуски пропусками - а тут это можно сделать, то лучше так и сделать, на результаты, даже если мы что-то захотим подсчитать - это не повлияет"
   ]
  },
  {
   "cell_type": "markdown",
   "metadata": {},
   "source": [
    "### Изменение формата ячеек"
   ]
  },
  {
   "cell_type": "code",
   "execution_count": 87,
   "metadata": {},
   "outputs": [],
   "source": [
    "events['event_dt'] = events['event_dt'].astype('datetime64[D]')\n",
    "users['first_date'] = pd.to_datetime(users['first_date'], format='%Y-%m-%d')\n",
    "marketing_events['start_dt'] = pd.to_datetime(marketing_events['start_dt'], format='%Y-%m-%d')\n",
    "marketing_events['finish_dt'] = pd.to_datetime(marketing_events['finish_dt'], format='%Y-%m-%d')"
   ]
  },
  {
   "cell_type": "code",
   "execution_count": 88,
   "metadata": {},
   "outputs": [
    {
     "data": {
      "text/html": [
       "<div>\n",
       "<style scoped>\n",
       "    .dataframe tbody tr th:only-of-type {\n",
       "        vertical-align: middle;\n",
       "    }\n",
       "\n",
       "    .dataframe tbody tr th {\n",
       "        vertical-align: top;\n",
       "    }\n",
       "\n",
       "    .dataframe thead th {\n",
       "        text-align: right;\n",
       "    }\n",
       "</style>\n",
       "<table border=\"1\" class=\"dataframe\">\n",
       "  <thead>\n",
       "    <tr style=\"text-align: right;\">\n",
       "      <th></th>\n",
       "      <th></th>\n",
       "      <th>user_id</th>\n",
       "    </tr>\n",
       "    <tr>\n",
       "      <th>ab_test</th>\n",
       "      <th>group</th>\n",
       "      <th></th>\n",
       "    </tr>\n",
       "  </thead>\n",
       "  <tbody>\n",
       "    <tr>\n",
       "      <th rowspan=\"2\" valign=\"top\">interface_eu_test</th>\n",
       "      <th>A</th>\n",
       "      <td>5467</td>\n",
       "    </tr>\n",
       "    <tr>\n",
       "      <th>B</th>\n",
       "      <td>5383</td>\n",
       "    </tr>\n",
       "    <tr>\n",
       "      <th rowspan=\"2\" valign=\"top\">recommender_system_test</th>\n",
       "      <th>A</th>\n",
       "      <td>2747</td>\n",
       "    </tr>\n",
       "    <tr>\n",
       "      <th>B</th>\n",
       "      <td>928</td>\n",
       "    </tr>\n",
       "  </tbody>\n",
       "</table>\n",
       "</div>"
      ],
      "text/plain": [
       "                               user_id\n",
       "ab_test                 group         \n",
       "interface_eu_test       A      5467   \n",
       "                        B      5383   \n",
       "recommender_system_test A      2747   \n",
       "                        B      928    "
      ]
     },
     "execution_count": 88,
     "metadata": {},
     "output_type": "execute_result"
    }
   ],
   "source": [
    "merge_table_all = events.merge(participants, on = 'user_id')\n",
    "merge_table_all = merge_table_all.merge(users, on ='user_id')\n",
    "merge_table_all.groupby(['ab_test', 'group']).agg({'user_id': 'nunique'})"
   ]
  },
  {
   "cell_type": "markdown",
   "metadata": {},
   "source": [
    "#### Вывод\n",
    "Произведена замена формата ячеек с датой, final_ab_events['event_dt'] также убрано время, так как оно не используется в дальнейшем анализе"
   ]
  },
  {
   "cell_type": "markdown",
   "metadata": {},
   "source": [
    "<div class=\"alert alert-block alert-warning\">📝\n",
    "    \n",
    "\n",
    "__Комментарий от тимлида №1__\n",
    "\n",
    "\n",
    "Было бы хорошо привести более детальные выводы по категориальным данным: количество тестов (именно на этапе предобработки), регионов, устройств.\n",
    "</div>"
   ]
  },
  {
   "cell_type": "markdown",
   "metadata": {},
   "source": [
    "## Шаг 3. Оценка корректность проведения теста."
   ]
  },
  {
   "cell_type": "markdown",
   "metadata": {},
   "source": [
    "### Данные по времени теста и набору пользователей:\n",
    "\n",
    "1. Дата запуска: 2020-12-07;\n",
    "2. Дата остановки набора новых пользователей: 2020-12-21;\n",
    "3. Дата остановки: 2021-01-04;"
   ]
  },
  {
   "cell_type": "code",
   "execution_count": 89,
   "metadata": {},
   "outputs": [
    {
     "name": "stdout",
     "output_type": "stream",
     "text": [
      "Данные о пользователях с 2020-12-07 00:00:00 по 2020-12-21 00:00:00\n",
      "Данные о событиях с 2020-12-07 00:00:00 по 2020-12-30 00:00:00\n",
      "Данные о пользователях с 2020-12-07 00:00:00 по 2020-12-21 00:00:00\n"
     ]
    }
   ],
   "source": [
    "rec = users.merge(participants, on = 'user_id')\n",
    "rec = rec.query('ab_test == \"recommender_system_test\"')\n",
    "print('Данные о пользователях с',rec['first_date'].min(), 'по',rec['first_date'].max() )\n",
    "# Выведем даты максимальную и минимальную по регистрации пользователя и события\n",
    "print('Данные о событиях с',events['event_dt'].min(), 'по',events['event_dt'].max() )\n",
    "print('Данные о пользователях с',rec['first_date'].min(), 'по',rec['first_date'].max() )"
   ]
  },
  {
   "cell_type": "markdown",
   "metadata": {},
   "source": [
    "#### Вывод\n",
    "Видим, что данные:\n",
    " * Дата запуска соответствует ТЗ в обоих случаях\n",
    " * Данные по зарегистрированным пользователям были выгруженные по 21 число, что соответствует ТЗ \n",
    " * Дата остановки не соответсвует ТЗ данные по остановки события были выгружены до 2020-12-30, а должны были по 2021-01-04"
   ]
  },
  {
   "cell_type": "markdown",
   "metadata": {},
   "source": [
    "<div class=\"alert alert-block alert-success\">✔️\n",
    "    \n",
    "\n",
    "__Комментарий от тимлида №1__\n",
    "\n",
    "Согласен, тест остановлен раньше на 5 дней\n",
    "</div>"
   ]
  },
  {
   "cell_type": "markdown",
   "metadata": {},
   "source": [
    "### Убедитесь, что оно не совпадает с маркетинговыми и другими активностями\n"
   ]
  },
  {
   "cell_type": "code",
   "execution_count": 90,
   "metadata": {},
   "outputs": [
    {
     "data": {
      "text/html": [
       "<div>\n",
       "<style scoped>\n",
       "    .dataframe tbody tr th:only-of-type {\n",
       "        vertical-align: middle;\n",
       "    }\n",
       "\n",
       "    .dataframe tbody tr th {\n",
       "        vertical-align: top;\n",
       "    }\n",
       "\n",
       "    .dataframe thead th {\n",
       "        text-align: right;\n",
       "    }\n",
       "</style>\n",
       "<table border=\"1\" class=\"dataframe\">\n",
       "  <thead>\n",
       "    <tr style=\"text-align: right;\">\n",
       "      <th></th>\n",
       "      <th>name</th>\n",
       "      <th>regions</th>\n",
       "      <th>start_dt</th>\n",
       "      <th>finish_dt</th>\n",
       "    </tr>\n",
       "  </thead>\n",
       "  <tbody>\n",
       "    <tr>\n",
       "      <th>0</th>\n",
       "      <td>Christmas&amp;New Year Promo</td>\n",
       "      <td>EU, N.America</td>\n",
       "      <td>2020-12-25</td>\n",
       "      <td>2021-01-03</td>\n",
       "    </tr>\n",
       "    <tr>\n",
       "      <th>10</th>\n",
       "      <td>CIS New Year Gift Lottery</td>\n",
       "      <td>CIS</td>\n",
       "      <td>2020-12-30</td>\n",
       "      <td>2021-01-07</td>\n",
       "    </tr>\n",
       "  </tbody>\n",
       "</table>\n",
       "</div>"
      ],
      "text/plain": [
       "                         name        regions   start_dt  finish_dt\n",
       "0   Christmas&New Year Promo   EU, N.America 2020-12-25 2021-01-03\n",
       "10  CIS New Year Gift Lottery  CIS           2020-12-30 2021-01-07"
      ]
     },
     "metadata": {},
     "output_type": "display_data"
    }
   ],
   "source": [
    "# Выведем маркетинговые события по дате\n",
    "display(marketing_events.query('start_dt >= \"2020-12-01\"'))"
   ]
  },
  {
   "cell_type": "markdown",
   "metadata": {},
   "source": [
    "#### Вывод\n",
    "В соответсвие с регионом проведения теста EU, наша испытуемая группа попала под влияние 'Christmas&New Year Promo', что непосредственно отразится на результативности данных"
   ]
  },
  {
   "cell_type": "markdown",
   "metadata": {},
   "source": [
    "<div class=\"alert alert-block alert-success\">✔️\n",
    "    \n",
    "\n",
    "__Комментарий от тимлида №1__\n",
    "\n",
    "События, праздники и тп - влияют на две группы одинаково. Это просто изменение качества пользователей, но относительную конверсию группы В к группе А - не будет иметь воздействие. Но это нужно учитывать при изучении абсолютных данных.\n",
    "</div>"
   ]
  },
  {
   "cell_type": "markdown",
   "metadata": {},
   "source": [
    "### Пересечение пользователей в конкурирующих тестах"
   ]
  },
  {
   "cell_type": "code",
   "execution_count": 91,
   "metadata": {},
   "outputs": [
    {
     "data": {
      "text/html": [
       "<div>\n",
       "<style scoped>\n",
       "    .dataframe tbody tr th:only-of-type {\n",
       "        vertical-align: middle;\n",
       "    }\n",
       "\n",
       "    .dataframe tbody tr th {\n",
       "        vertical-align: top;\n",
       "    }\n",
       "\n",
       "    .dataframe thead th {\n",
       "        text-align: right;\n",
       "    }\n",
       "</style>\n",
       "<table border=\"1\" class=\"dataframe\">\n",
       "  <thead>\n",
       "    <tr style=\"text-align: right;\">\n",
       "      <th></th>\n",
       "      <th>ab_test</th>\n",
       "      <th>group</th>\n",
       "      <th>region</th>\n",
       "      <th>user_id</th>\n",
       "    </tr>\n",
       "  </thead>\n",
       "  <tbody>\n",
       "    <tr>\n",
       "      <th>0</th>\n",
       "      <td>interface_eu_test</td>\n",
       "      <td>A</td>\n",
       "      <td>EU</td>\n",
       "      <td>5831</td>\n",
       "    </tr>\n",
       "    <tr>\n",
       "      <th>1</th>\n",
       "      <td>interface_eu_test</td>\n",
       "      <td>B</td>\n",
       "      <td>EU</td>\n",
       "      <td>5736</td>\n",
       "    </tr>\n",
       "    <tr>\n",
       "      <th>2</th>\n",
       "      <td>recommender_system_test</td>\n",
       "      <td>A</td>\n",
       "      <td>APAC</td>\n",
       "      <td>37</td>\n",
       "    </tr>\n",
       "    <tr>\n",
       "      <th>3</th>\n",
       "      <td>recommender_system_test</td>\n",
       "      <td>A</td>\n",
       "      <td>CIS</td>\n",
       "      <td>25</td>\n",
       "    </tr>\n",
       "    <tr>\n",
       "      <th>4</th>\n",
       "      <td>recommender_system_test</td>\n",
       "      <td>A</td>\n",
       "      <td>EU</td>\n",
       "      <td>3634</td>\n",
       "    </tr>\n",
       "    <tr>\n",
       "      <th>5</th>\n",
       "      <td>recommender_system_test</td>\n",
       "      <td>A</td>\n",
       "      <td>N.America</td>\n",
       "      <td>128</td>\n",
       "    </tr>\n",
       "    <tr>\n",
       "      <th>6</th>\n",
       "      <td>recommender_system_test</td>\n",
       "      <td>B</td>\n",
       "      <td>APAC</td>\n",
       "      <td>35</td>\n",
       "    </tr>\n",
       "    <tr>\n",
       "      <th>7</th>\n",
       "      <td>recommender_system_test</td>\n",
       "      <td>B</td>\n",
       "      <td>CIS</td>\n",
       "      <td>30</td>\n",
       "    </tr>\n",
       "    <tr>\n",
       "      <th>8</th>\n",
       "      <td>recommender_system_test</td>\n",
       "      <td>B</td>\n",
       "      <td>EU</td>\n",
       "      <td>2717</td>\n",
       "    </tr>\n",
       "    <tr>\n",
       "      <th>9</th>\n",
       "      <td>recommender_system_test</td>\n",
       "      <td>B</td>\n",
       "      <td>N.America</td>\n",
       "      <td>95</td>\n",
       "    </tr>\n",
       "  </tbody>\n",
       "</table>\n",
       "</div>"
      ],
      "text/plain": [
       "                   ab_test group     region  user_id\n",
       "0  interface_eu_test        A     EU         5831   \n",
       "1  interface_eu_test        B     EU         5736   \n",
       "2  recommender_system_test  A     APAC       37     \n",
       "3  recommender_system_test  A     CIS        25     \n",
       "4  recommender_system_test  A     EU         3634   \n",
       "5  recommender_system_test  A     N.America  128    \n",
       "6  recommender_system_test  B     APAC       35     \n",
       "7  recommender_system_test  B     CIS        30     \n",
       "8  recommender_system_test  B     EU         2717   \n",
       "9  recommender_system_test  B     N.America  95     "
      ]
     },
     "execution_count": 91,
     "metadata": {},
     "output_type": "execute_result"
    }
   ],
   "source": [
    "# Обьединим таблицы методом merge использовал столбец user как основной получим таблицу с пользователями участвующмим в тестах и нет\n",
    "users_participants = users.merge(participants, how='left', on='user_id')\n",
    "users_participants.groupby(['ab_test', 'group', 'region'], as_index=False).agg({'user_id':'nunique'})\n"
   ]
  },
  {
   "cell_type": "markdown",
   "metadata": {},
   "source": [
    "#### Вывод\n",
    "**Видим что в базе данных находятся пользователи из разных тестов и из разных регионов**"
   ]
  },
  {
   "cell_type": "code",
   "execution_count": 92,
   "metadata": {},
   "outputs": [
    {
     "name": "stdout",
     "output_type": "stream",
     "text": [
      "1602\n"
     ]
    }
   ],
   "source": [
    "# создаю список уникальных id пользователей в группе\n",
    "interface_eu_test = users_participants.query('ab_test ==\"interface_eu_test\" & region==\"EU\"')['user_id'].unique()\n",
    "recommender_system_test = users_participants.query('ab_test ==\"recommender_system_test\" & region==\"EU\"')['user_id'].unique()\n",
    "\n",
    "# проверяем данные на пользователей одновременно находлящихся в двух группах\n",
    "dubl = set(interface_eu_test) & set(recommender_system_test)\n",
    "print(len(dubl))"
   ]
  },
  {
   "cell_type": "markdown",
   "metadata": {},
   "source": [
    "#### Вывод\n",
    "Видим, что паралельно с нашим тестом проводился тест который назывался interface_eu_test и можно предположить что это тест тестового интерфейса для пользователей европы\n",
    "\n",
    "**Тест интерфейса:**\n",
    "* Группа А 5831 человек\n",
    "* Группа В 5736 человек\n",
    "\n",
    "**Тест рекомендательной системы:**\n",
    "\n",
    "* Группа А 3634 человек\n",
    "* Группа В 2717 человек\n",
    "\n",
    "Количество пользователей попавших в оба теста в регионе EU 1602 человека"
   ]
  },
  {
   "cell_type": "markdown",
   "metadata": {},
   "source": [
    "<div class=\"alert alert-block alert-warning\">📝\n",
    "    \n",
    "\n",
    "__Комментарий от тимлида №1__\n",
    "    \n",
    "Верное наблюдение.    \n",
    "    \n",
    "В данной ситуации, наиболее корректным решением будет проверить в какие именно группы теста interface_eu_test попали пользователи теста recommender_system_test. Ведь если они попали только в контрольную группу - это значит, что тест interface_eu_test никак на них не повлиял\n",
    "</div>"
   ]
  },
  {
   "cell_type": "markdown",
   "metadata": {},
   "source": [
    "### Распределение пользователей участвующих в обоих тестах"
   ]
  },
  {
   "cell_type": "code",
   "execution_count": 93,
   "metadata": {},
   "outputs": [
    {
     "data": {
      "text/html": [
       "<div>\n",
       "<style scoped>\n",
       "    .dataframe tbody tr th:only-of-type {\n",
       "        vertical-align: middle;\n",
       "    }\n",
       "\n",
       "    .dataframe tbody tr th {\n",
       "        vertical-align: top;\n",
       "    }\n",
       "\n",
       "    .dataframe thead th {\n",
       "        text-align: right;\n",
       "    }\n",
       "</style>\n",
       "<table border=\"1\" class=\"dataframe\">\n",
       "  <thead>\n",
       "    <tr style=\"text-align: right;\">\n",
       "      <th></th>\n",
       "      <th>ab_test</th>\n",
       "      <th>group</th>\n",
       "      <th>user_id</th>\n",
       "    </tr>\n",
       "  </thead>\n",
       "  <tbody>\n",
       "    <tr>\n",
       "      <th>0</th>\n",
       "      <td>interface_eu_test</td>\n",
       "      <td>A</td>\n",
       "      <td>819</td>\n",
       "    </tr>\n",
       "    <tr>\n",
       "      <th>1</th>\n",
       "      <td>interface_eu_test</td>\n",
       "      <td>B</td>\n",
       "      <td>783</td>\n",
       "    </tr>\n",
       "    <tr>\n",
       "      <th>2</th>\n",
       "      <td>recommender_system_test</td>\n",
       "      <td>A</td>\n",
       "      <td>921</td>\n",
       "    </tr>\n",
       "    <tr>\n",
       "      <th>3</th>\n",
       "      <td>recommender_system_test</td>\n",
       "      <td>B</td>\n",
       "      <td>681</td>\n",
       "    </tr>\n",
       "  </tbody>\n",
       "</table>\n",
       "</div>"
      ],
      "text/plain": [
       "                   ab_test group  user_id\n",
       "0  interface_eu_test        A     819    \n",
       "1  interface_eu_test        B     783    \n",
       "2  recommender_system_test  A     921    \n",
       "3  recommender_system_test  B     681    "
      ]
     },
     "execution_count": 93,
     "metadata": {},
     "output_type": "execute_result"
    }
   ],
   "source": [
    "# Создадим переменную с пользователями попавшими в оба теста \n",
    "participants_dubl = users_participants[users_participants['user_id'].isin(dubl)]\n",
    "participants_dubl.groupby(['ab_test', 'group'], as_index=False).agg({'user_id':'nunique'})"
   ]
  },
  {
   "cell_type": "markdown",
   "metadata": {},
   "source": [
    "#### Вывод\n",
    "Видим распределение людей которые участвовали в обоих тестах, получается люди участвующие в теста обновленного интерфейса могли оказать влияние на проведение теста по изменению рекомендаций."
   ]
  },
  {
   "cell_type": "markdown",
   "metadata": {},
   "source": [
    "### Определение пользователей из теста по изменению интерфейса и чистка данных от этих пользователей"
   ]
  },
  {
   "cell_type": "code",
   "execution_count": 94,
   "metadata": {},
   "outputs": [],
   "source": [
    "# Создадим переменную с пользователями  с измененым интерфейсом\n",
    "id_participants_B =  participants_dubl.query('ab_test == \"interface_eu_test\" & group ==\"B\"')['user_id']"
   ]
  },
  {
   "cell_type": "code",
   "execution_count": 95,
   "metadata": {},
   "outputs": [
    {
     "data": {
      "text/html": [
       "<div>\n",
       "<style scoped>\n",
       "    .dataframe tbody tr th:only-of-type {\n",
       "        vertical-align: middle;\n",
       "    }\n",
       "\n",
       "    .dataframe tbody tr th {\n",
       "        vertical-align: top;\n",
       "    }\n",
       "\n",
       "    .dataframe thead th {\n",
       "        text-align: right;\n",
       "    }\n",
       "</style>\n",
       "<table border=\"1\" class=\"dataframe\">\n",
       "  <thead>\n",
       "    <tr style=\"text-align: right;\">\n",
       "      <th></th>\n",
       "      <th></th>\n",
       "      <th>user_id</th>\n",
       "    </tr>\n",
       "    <tr>\n",
       "      <th>ab_test</th>\n",
       "      <th>group</th>\n",
       "      <th></th>\n",
       "    </tr>\n",
       "  </thead>\n",
       "  <tbody>\n",
       "    <tr>\n",
       "      <th rowspan=\"2\" valign=\"top\">recommender_system_test</th>\n",
       "      <th>A</th>\n",
       "      <td>439</td>\n",
       "    </tr>\n",
       "    <tr>\n",
       "      <th>B</th>\n",
       "      <td>344</td>\n",
       "    </tr>\n",
       "  </tbody>\n",
       "</table>\n",
       "</div>"
      ],
      "text/plain": [
       "                               user_id\n",
       "ab_test                 group         \n",
       "recommender_system_test A      439    \n",
       "                        B      344    "
      ]
     },
     "execution_count": 95,
     "metadata": {},
     "output_type": "execute_result"
    }
   ],
   "source": [
    "# выделяеи пользователей, участвующих в обоих тестах, в отдельный датафрейм\n",
    "participants_new_B = participants[participants['user_id'].isin(id_participants_B)]\n",
    "\n",
    "# оставляем среди них пользователей только нашего теста:\n",
    "participants_new_B = participants_new_B.query('ab_test == \"recommender_system_test\"')\n",
    "# Веделим как рапределены пользователи с новым интерфейсом в нашем тесте\n",
    "participants_new_B.groupby(['ab_test', 'group']).agg({'user_id': 'nunique'})"
   ]
  },
  {
   "cell_type": "code",
   "execution_count": 96,
   "metadata": {},
   "outputs": [
    {
     "data": {
      "text/html": [
       "<div>\n",
       "<style scoped>\n",
       "    .dataframe tbody tr th:only-of-type {\n",
       "        vertical-align: middle;\n",
       "    }\n",
       "\n",
       "    .dataframe tbody tr th {\n",
       "        vertical-align: top;\n",
       "    }\n",
       "\n",
       "    .dataframe thead th {\n",
       "        text-align: right;\n",
       "    }\n",
       "</style>\n",
       "<table border=\"1\" class=\"dataframe\">\n",
       "  <thead>\n",
       "    <tr style=\"text-align: right;\">\n",
       "      <th></th>\n",
       "      <th></th>\n",
       "      <th>user_id</th>\n",
       "    </tr>\n",
       "    <tr>\n",
       "      <th>ab_test</th>\n",
       "      <th>group</th>\n",
       "      <th></th>\n",
       "    </tr>\n",
       "  </thead>\n",
       "  <tbody>\n",
       "    <tr>\n",
       "      <th rowspan=\"2\" valign=\"top\">recommender_system_test</th>\n",
       "      <th>A</th>\n",
       "      <td>3385</td>\n",
       "    </tr>\n",
       "    <tr>\n",
       "      <th>B</th>\n",
       "      <td>2533</td>\n",
       "    </tr>\n",
       "  </tbody>\n",
       "</table>\n",
       "</div>"
      ],
      "text/plain": [
       "                               user_id\n",
       "ab_test                 group         \n",
       "recommender_system_test A      3385   \n",
       "                        B      2533   "
      ]
     },
     "execution_count": 96,
     "metadata": {},
     "output_type": "execute_result"
    }
   ],
   "source": [
    "# Обновляем датасет удалив из него пользователей группы B с измененным интерфейсом\n",
    "participants = participants[~participants['user_id'].isin(participants_new_B['user_id'])]\n",
    "# Оставляем польхзователей только нашего теста\n",
    "participants = participants.query('ab_test == \"recommender_system_test\"')\n",
    "\n",
    "participants.groupby(['ab_test', 'group']).agg({'user_id': 'nunique'})"
   ]
  },
  {
   "cell_type": "code",
   "execution_count": 97,
   "metadata": {},
   "outputs": [
    {
     "name": "stdout",
     "output_type": "stream",
     "text": [
      "0\n"
     ]
    }
   ],
   "source": [
    "# создаю список уникальных id пользователей в группе\n",
    "interface_test = participants.query('ab_test ==\"recommender_system_test\" & group==\"A\"')['user_id'].unique()\n",
    "recommender_system_test = participants.query('ab_test ==\"recommender_system_test\" & group==\"B\"')['user_id'].unique()\n",
    "\n",
    "# проверяем данные на пользователей одновременно находлящихся в двух группах\n",
    "dubl = set(interface_test) & set(recommender_system_test)\n",
    "print(len(dubl))"
   ]
  },
  {
   "cell_type": "markdown",
   "metadata": {},
   "source": [
    "#### Вывод\n",
    "\n",
    "**Тест рекомендательной системы:** Был:\n",
    "\n",
    "* Группа А 3634 человек\n",
    "* Группа В 2717 человек\n",
    "\n",
    "**Тест рекомендательной системы:** Стал:\n",
    "\n",
    "* Группа А 3385 человек\n",
    "* Группа В 2533 человек"
   ]
  },
  {
   "cell_type": "markdown",
   "metadata": {},
   "source": [
    "<div class=\"alert alert-block alert-success\">✔️\n",
    "    \n",
    "\n",
    "__Комментарий от тимлида__\n",
    "\n",
    "Да, внутри теста всё хорошо\n",
    "</div>"
   ]
  },
  {
   "cell_type": "markdown",
   "metadata": {},
   "source": [
    "### Ожидаемое количество участников теста и аудитория "
   ]
  },
  {
   "cell_type": "code",
   "execution_count": 98,
   "metadata": {},
   "outputs": [
    {
     "data": {
      "text/plain": [
       "13.977326405290505"
      ]
     },
     "execution_count": 98,
     "metadata": {},
     "output_type": "execute_result"
    }
   ],
   "source": [
    "## Дата остановки набора пользователя 2020-12-21 , создаем новую переменную по ТЗ теста\n",
    "''' \n",
    " Так как начала набора пользователей соответствовало условиям нам необходимо ограничить \n",
    "     дату регистрации пользователей исключив лишние 2 дня, а именно 22 и 23 число\n",
    "'''\n",
    "eu_users = users.query('region == \"EU\" & first_date <= \"2020-12-21\"')['user_id'].nunique()\n",
    "\n",
    "test_users = participants['user_id'].nunique()\n",
    "\n",
    "test_users / eu_users*100"
   ]
  },
  {
   "cell_type": "markdown",
   "metadata": {},
   "source": [
    "#### Вывод\n",
    "\n",
    "После очистки пользователей, что было необходимо:\n",
    "* Доля пользователей  EU  не соответсвует ТЗ и состовляет 13.97\n",
    "* Ожидаемое количество участников 5918 из EU , что  не соответствует ТЗ"
   ]
  },
  {
   "cell_type": "markdown",
   "metadata": {},
   "source": [
    "<div class=\"alert alert-block alert-success\">✔️\n",
    "    \n",
    "\n",
    "__Комментарий от тимлида №1__\n",
    "\n",
    "Ты верно посчитал этот пункт\n",
    "</div>"
   ]
  },
  {
   "cell_type": "markdown",
   "metadata": {},
   "source": [
    "### Определение пользователей совершивших событие "
   ]
  },
  {
   "cell_type": "code",
   "execution_count": 99,
   "metadata": {
    "scrolled": false
   },
   "outputs": [],
   "source": [
    "# добавим информацию в таблицу merge_table:\n",
    "merge_table = events.merge(participants, on = 'user_id')\n",
    "merge_table = merge_table.merge(users, on = 'user_id')\n"
   ]
  },
  {
   "cell_type": "code",
   "execution_count": 100,
   "metadata": {},
   "outputs": [],
   "source": [
    "# подсчитаем разницу в днях между регистрацией и событием\n",
    "merge_table['diff'] = merge_table['event_dt'] - merge_table['first_date']\n",
    "\n",
    "# уберем все, что находится за границей 14 дней с момента регистрации\n",
    "merge_table = merge_table.query('diff <= \"14 days\"')"
   ]
  },
  {
   "cell_type": "markdown",
   "metadata": {},
   "source": [
    "<div class=\"alert alert-block alert-success\">✔️\n",
    "    \n",
    "\n",
    "__Комментарий от тимлида №1__\n",
    "\n",
    "Корректная реализация. Молодец!\n",
    "</div>"
   ]
  },
  {
   "cell_type": "code",
   "execution_count": 101,
   "metadata": {},
   "outputs": [
    {
     "data": {
      "text/html": [
       "<div>\n",
       "<style scoped>\n",
       "    .dataframe tbody tr th:only-of-type {\n",
       "        vertical-align: middle;\n",
       "    }\n",
       "\n",
       "    .dataframe tbody tr th {\n",
       "        vertical-align: top;\n",
       "    }\n",
       "\n",
       "    .dataframe thead th {\n",
       "        text-align: right;\n",
       "    }\n",
       "</style>\n",
       "<table border=\"1\" class=\"dataframe\">\n",
       "  <thead>\n",
       "    <tr style=\"text-align: right;\">\n",
       "      <th></th>\n",
       "      <th>group</th>\n",
       "      <th>user_id</th>\n",
       "    </tr>\n",
       "  </thead>\n",
       "  <tbody>\n",
       "    <tr>\n",
       "      <th>0</th>\n",
       "      <td>A</td>\n",
       "      <td>2422</td>\n",
       "    </tr>\n",
       "    <tr>\n",
       "      <th>1</th>\n",
       "      <td>B</td>\n",
       "      <td>822</td>\n",
       "    </tr>\n",
       "  </tbody>\n",
       "</table>\n",
       "</div>"
      ],
      "text/plain": [
       "  group  user_id\n",
       "0  A     2422   \n",
       "1  B     822    "
      ]
     },
     "execution_count": 101,
     "metadata": {},
     "output_type": "execute_result"
    }
   ],
   "source": [
    "merge_table.groupby('group').agg({'user_id': 'nunique'}).reset_index()"
   ]
  },
  {
   "cell_type": "markdown",
   "metadata": {},
   "source": [
    "#### Вывод\n",
    "Видим пользователей совершивших хотябы одно событие в течение 14 дней с момента регистрации.\n",
    "Существует оченб большое отличие у иследуемых группп группа В по размеру на 66% меньше группы А"
   ]
  },
  {
   "cell_type": "markdown",
   "metadata": {},
   "source": [
    "<div class=\"alert alert-block alert-success\">✔️\n",
    "    \n",
    "\n",
    "__Комментарий от тимлида №1__\n",
    "    \n",
    "По поводу неактивных пользователей - то могут быть пользователи, которые только зарегистрировались и больше не заходили на ресурс или может быть ошибка в логировании. Если первое - то таких пользователей нужно учитывать, а если второе - то лучше отфильтровать.\n",
    "    \n",
    "Как мы можем проверить - посмотреть на распределение этих пользователей в группе А и В, а также динамику их набора по дням. По идее, мы должны иметь плюс-минус схожее поведение для групп А и В. Если будут какие-то аномальные данные, то скорее всего это ошибка в сборе данных.\n",
    "    \n",
    "\n",
    "</div>"
   ]
  },
  {
   "cell_type": "markdown",
   "metadata": {},
   "source": []
  },
  {
   "cell_type": "markdown",
   "metadata": {},
   "source": [
    "## Иследовательский анализ данных"
   ]
  },
  {
   "cell_type": "markdown",
   "metadata": {},
   "source": [
    "### Количество событий на пользователя одинаково распределены в выборках?"
   ]
  },
  {
   "cell_type": "code",
   "execution_count": 102,
   "metadata": {},
   "outputs": [
    {
     "data": {
      "text/html": [
       "<div>\n",
       "<style scoped>\n",
       "    .dataframe tbody tr th:only-of-type {\n",
       "        vertical-align: middle;\n",
       "    }\n",
       "\n",
       "    .dataframe tbody tr th {\n",
       "        vertical-align: top;\n",
       "    }\n",
       "\n",
       "    .dataframe thead th {\n",
       "        text-align: right;\n",
       "    }\n",
       "</style>\n",
       "<table border=\"1\" class=\"dataframe\">\n",
       "  <thead>\n",
       "    <tr style=\"text-align: right;\">\n",
       "      <th>group</th>\n",
       "      <th>A</th>\n",
       "      <th>B</th>\n",
       "    </tr>\n",
       "  </thead>\n",
       "  <tbody>\n",
       "    <tr>\n",
       "      <th>count</th>\n",
       "      <td>2422.00</td>\n",
       "      <td>822.00</td>\n",
       "    </tr>\n",
       "    <tr>\n",
       "      <th>mean</th>\n",
       "      <td>6.95</td>\n",
       "      <td>5.42</td>\n",
       "    </tr>\n",
       "    <tr>\n",
       "      <th>std</th>\n",
       "      <td>3.85</td>\n",
       "      <td>3.24</td>\n",
       "    </tr>\n",
       "    <tr>\n",
       "      <th>min</th>\n",
       "      <td>1.00</td>\n",
       "      <td>1.00</td>\n",
       "    </tr>\n",
       "    <tr>\n",
       "      <th>25%</th>\n",
       "      <td>4.00</td>\n",
       "      <td>3.00</td>\n",
       "    </tr>\n",
       "    <tr>\n",
       "      <th>50%</th>\n",
       "      <td>6.00</td>\n",
       "      <td>4.00</td>\n",
       "    </tr>\n",
       "    <tr>\n",
       "      <th>75%</th>\n",
       "      <td>9.00</td>\n",
       "      <td>6.00</td>\n",
       "    </tr>\n",
       "    <tr>\n",
       "      <th>max</th>\n",
       "      <td>24.00</td>\n",
       "      <td>24.00</td>\n",
       "    </tr>\n",
       "  </tbody>\n",
       "</table>\n",
       "</div>"
      ],
      "text/plain": [
       "group       A      B\n",
       "count 2422.00 822.00\n",
       "mean  6.95    5.42  \n",
       "std   3.85    3.24  \n",
       "min   1.00    1.00  \n",
       "25%   4.00    3.00  \n",
       "50%   6.00    4.00  \n",
       "75%   9.00    6.00  \n",
       "max   24.00   24.00 "
      ]
     },
     "execution_count": 102,
     "metadata": {},
     "output_type": "execute_result"
    }
   ],
   "source": [
    "# вывод статистических данных в разрезе групп\n",
    "us_events = merge_table.pivot_table (index='user_id', values='event_name', columns='group', aggfunc='count').reset_index()\n",
    "us_events.describe()"
   ]
  },
  {
   "cell_type": "code",
   "execution_count": 103,
   "metadata": {},
   "outputs": [],
   "source": [
    "events_a_b= merge_table.pivot_table(index='event_name', values='user_id', columns='group', aggfunc='count')\n",
    "events_a_b = events_a_b.div(events_a_b.sum(axis = 1), axis = 0)*100"
   ]
  },
  {
   "cell_type": "code",
   "execution_count": 104,
   "metadata": {},
   "outputs": [
    {
     "data": {
      "text/plain": [
       "<matplotlib.legend.Legend at 0x7f810d377520>"
      ]
     },
     "execution_count": 104,
     "metadata": {},
     "output_type": "execute_result"
    },
    {
     "data": {
      "image/png": "[encoded data removed]",
      "text/plain": [
       "<Figure size 432x288 with 1 Axes>"
      ]
     },
     "metadata": {
      "needs_background": "light"
     },
     "output_type": "display_data"
    }
   ],
   "source": [
    "events_a_b.plot(kind = 'barh',stacked = True)\n",
    "plt.title('График соотношения  событий к группам.')\n",
    "plt.xlabel('Соотношение %',fontsize=16)\n",
    "plt.ylabel('Событие',fontsize=16)\n",
    "plt.legend(bbox_to_anchor=(1, 0.6))"
   ]
  },
  {
   "cell_type": "code",
   "execution_count": 105,
   "metadata": {},
   "outputs": [
    {
     "data": {
      "text/html": [
       "<div>\n",
       "<style scoped>\n",
       "    .dataframe tbody tr th:only-of-type {\n",
       "        vertical-align: middle;\n",
       "    }\n",
       "\n",
       "    .dataframe tbody tr th {\n",
       "        vertical-align: top;\n",
       "    }\n",
       "\n",
       "    .dataframe thead th {\n",
       "        text-align: right;\n",
       "    }\n",
       "</style>\n",
       "<table border=\"1\" class=\"dataframe\">\n",
       "  <thead>\n",
       "    <tr style=\"text-align: right;\">\n",
       "      <th></th>\n",
       "      <th>event_name</th>\n",
       "      <th>group</th>\n",
       "      <th>user_id</th>\n",
       "    </tr>\n",
       "  </thead>\n",
       "  <tbody>\n",
       "    <tr>\n",
       "      <th>0</th>\n",
       "      <td>login</td>\n",
       "      <td>A</td>\n",
       "      <td>7450</td>\n",
       "    </tr>\n",
       "    <tr>\n",
       "      <th>1</th>\n",
       "      <td>login</td>\n",
       "      <td>B</td>\n",
       "      <td>2184</td>\n",
       "    </tr>\n",
       "    <tr>\n",
       "      <th>2</th>\n",
       "      <td>product_cart</td>\n",
       "      <td>A</td>\n",
       "      <td>2248</td>\n",
       "    </tr>\n",
       "    <tr>\n",
       "      <th>3</th>\n",
       "      <td>product_cart</td>\n",
       "      <td>B</td>\n",
       "      <td>576</td>\n",
       "    </tr>\n",
       "    <tr>\n",
       "      <th>4</th>\n",
       "      <td>product_page</td>\n",
       "      <td>A</td>\n",
       "      <td>4804</td>\n",
       "    </tr>\n",
       "    <tr>\n",
       "      <th>5</th>\n",
       "      <td>product_page</td>\n",
       "      <td>B</td>\n",
       "      <td>1148</td>\n",
       "    </tr>\n",
       "    <tr>\n",
       "      <th>6</th>\n",
       "      <td>purchase</td>\n",
       "      <td>A</td>\n",
       "      <td>2319</td>\n",
       "    </tr>\n",
       "    <tr>\n",
       "      <th>7</th>\n",
       "      <td>purchase</td>\n",
       "      <td>B</td>\n",
       "      <td>547</td>\n",
       "    </tr>\n",
       "  </tbody>\n",
       "</table>\n",
       "</div>"
      ],
      "text/plain": [
       "     event_name group  user_id\n",
       "0  login         A     7450   \n",
       "1  login         B     2184   \n",
       "2  product_cart  A     2248   \n",
       "3  product_cart  B     576    \n",
       "4  product_page  A     4804   \n",
       "5  product_page  B     1148   \n",
       "6  purchase      A     2319   \n",
       "7  purchase      B     547    "
      ]
     },
     "metadata": {},
     "output_type": "display_data"
    },
    {
     "data": {
      "image/png": "[encoded data removed]",
      "text/plain": [
       "<Figure size 720x288 with 1 Axes>"
      ]
     },
     "metadata": {
      "needs_background": "light"
     },
     "output_type": "display_data"
    }
   ],
   "source": [
    "data_ed = merge_table.groupby(['event_name', 'group'], \\\n",
    "                        as_index = False)[['user_id']].count()\n",
    "display(data_ed)\n",
    "plt.figure(figsize=(10, 4))\n",
    "# строим столбчатый график средствами seaborn\n",
    "sns.barplot(x='user_id', y='event_name', data=data_ed, hue='group')\n",
    "# формируем заголовок графика и подписи осей средствами matplotlib\n",
    "plt.title('График событий в зависимости от группы')\n",
    "plt.xlabel('Количество')\n",
    "plt.ylabel('Событие')\n",
    "# поворачиваем подписи значений по оси X на 45 градусов\n",
    "plt.xticks(rotation=45)\n",
    "# выбираем положение легенды и указываем размер шрифта\n",
    "plt.legend(loc='lower right', fontsize=10)\n",
    "# добавляем сетку\n",
    "plt.grid()\n",
    "# отображаем график на экране\n",
    "plt.show()"
   ]
  },
  {
   "cell_type": "markdown",
   "metadata": {},
   "source": [
    "#### Вывод\n",
    "1. Всего пользователей совершивших события: 3244\n",
    "2. Минимальное количество событий совершенных событий для группы A и B на пользователя 1, максимальное количество событий  для группы A и B на пользователя  24\n",
    "3. Средлнее количество событий на пользователя группы А 6.95, для группы В 5.42\n",
    "4. Мидианное количество событий на пользователя группы А 6, для группы В 4\n",
    "5. По относительному соотношению можем заметить,  что количество событий группы В состовляет примерно 20% от всего числа зобытий\n",
    "6. По абсолютным значения можно также преобладание группы А над Группой В"
   ]
  },
  {
   "cell_type": "markdown",
   "metadata": {},
   "source": [
    "<div class=\"alert alert-block alert-success\">✔️\n",
    "    \n",
    "\n",
    "__Комментарий от тимлида №1__\n",
    "\n",
    "\n",
    "Здорово, что сравнил среднее значение по двум группам. В идеале можно провести ещё стат тест\n",
    "</div>"
   ]
  },
  {
   "cell_type": "markdown",
   "metadata": {},
   "source": [
    "### Как число событий в выборках распределено по дням?"
   ]
  },
  {
   "cell_type": "code",
   "execution_count": 106,
   "metadata": {},
   "outputs": [
    {
     "data": {
      "text/html": [
       "<div>\n",
       "<style scoped>\n",
       "    .dataframe tbody tr th:only-of-type {\n",
       "        vertical-align: middle;\n",
       "    }\n",
       "\n",
       "    .dataframe tbody tr th {\n",
       "        vertical-align: top;\n",
       "    }\n",
       "\n",
       "    .dataframe thead th {\n",
       "        text-align: right;\n",
       "    }\n",
       "</style>\n",
       "<table border=\"1\" class=\"dataframe\">\n",
       "  <thead>\n",
       "    <tr style=\"text-align: right;\">\n",
       "      <th></th>\n",
       "      <th></th>\n",
       "      <th>user_id</th>\n",
       "    </tr>\n",
       "    <tr>\n",
       "      <th>ab_test</th>\n",
       "      <th>group</th>\n",
       "      <th></th>\n",
       "    </tr>\n",
       "  </thead>\n",
       "  <tbody>\n",
       "    <tr>\n",
       "      <th rowspan=\"2\" valign=\"top\">interface_eu_test</th>\n",
       "      <th>A</th>\n",
       "      <td>5467</td>\n",
       "    </tr>\n",
       "    <tr>\n",
       "      <th>B</th>\n",
       "      <td>5383</td>\n",
       "    </tr>\n",
       "    <tr>\n",
       "      <th rowspan=\"2\" valign=\"top\">recommender_system_test</th>\n",
       "      <th>A</th>\n",
       "      <td>2747</td>\n",
       "    </tr>\n",
       "    <tr>\n",
       "      <th>B</th>\n",
       "      <td>928</td>\n",
       "    </tr>\n",
       "  </tbody>\n",
       "</table>\n",
       "</div>"
      ],
      "text/plain": [
       "                               user_id\n",
       "ab_test                 group         \n",
       "interface_eu_test       A      5467   \n",
       "                        B      5383   \n",
       "recommender_system_test A      2747   \n",
       "                        B      928    "
      ]
     },
     "execution_count": 106,
     "metadata": {},
     "output_type": "execute_result"
    }
   ],
   "source": [
    "merge_table_all.groupby(['ab_test', 'group']).agg({'user_id': 'nunique'})"
   ]
  },
  {
   "cell_type": "code",
   "execution_count": 107,
   "metadata": {},
   "outputs": [
    {
     "data": {
      "image/png": "[encoded data removed]",
      "text/plain": [
       "<Figure size 1080x360 with 1 Axes>"
      ]
     },
     "metadata": {
      "needs_background": "light"
     },
     "output_type": "display_data"
    }
   ],
   "source": [
    "plt.title('Распределение логов по дате и времени', loc='left')\n",
    "merge_table_all['event_dt'].hist(bins=21, xrot=15,  figsize=(15, 5), alpha=1)\n",
    "plt.show()"
   ]
  },
  {
   "cell_type": "markdown",
   "metadata": {},
   "source": [
    "\n",
    "    Можем заметить что пик событий произошел 18 декабря, 19 дакабря спад по событиям и резкий взплеск 21 числа поле этого прослеживается плавный спад до конца выгрузки\n"
   ]
  },
  {
   "cell_type": "code",
   "execution_count": 108,
   "metadata": {},
   "outputs": [
    {
     "data": {
      "image/png": "[encoded data removed]",
      "text/plain": [
       "<Figure size 1224x360 with 1 Axes>"
      ]
     },
     "metadata": {
      "needs_background": "light"
     },
     "output_type": "display_data"
    }
   ],
   "source": [
    "plt.figure(figsize=(17, 5))\n",
    "plt.xticks(rotation=45)\n",
    "sns.histplot(data=merge_table, x=\"event_dt\", hue=\"group\", bins = 23)\n",
    "plt.grid()\n",
    "plt.show()"
   ]
  },
  {
   "cell_type": "code",
   "execution_count": 109,
   "metadata": {},
   "outputs": [
    {
     "data": {
      "text/plain": [
       "<matplotlib.legend.Legend at 0x7f810c934880>"
      ]
     },
     "execution_count": 109,
     "metadata": {},
     "output_type": "execute_result"
    },
    {
     "data": {
      "image/png": "[encoded data removed]",
      "text/plain": [
       "<Figure size 432x288 with 1 Axes>"
      ]
     },
     "metadata": {
      "needs_background": "light"
     },
     "output_type": "display_data"
    }
   ],
   "source": [
    "events_a_b= merge_table.pivot_table(index='event_dt', values='user_id', columns='group', aggfunc='count')\n",
    "events_a_b = events_a_b.div(events_a_b.sum(axis = 1), axis = 0)*100\n",
    "events_a_b.plot(kind = 'barh',stacked = True)\n",
    "plt.title('График соотношения  событий к группам по дате.')\n",
    "plt.xlabel('Соотношение %',fontsize=16)\n",
    "plt.ylabel('Дни',fontsize=16)\n",
    "plt.legend(bbox_to_anchor=(1, 0.6))"
   ]
  },
  {
   "cell_type": "markdown",
   "metadata": {},
   "source": [
    "<div class=\"alert alert-info\"> <b>Комментарии студента:</b>\n",
    "В графике распределения можем заметить что соотношения группы В выше к группе А в первые дни нашего теста,с 7 по 13 число в дальнейшем можно заметить снижение соотношения. После 16 числа соотношение подает и сохраняетсч на низком уровне. Необходимо \n",
    "\n",
    "</div>"
   ]
  },
  {
   "cell_type": "markdown",
   "metadata": {},
   "source": [
    "<div class=\"alert alert-block alert-warning\">📝\n",
    "    \n",
    "\n",
    "__Комментарий от тимлида №3__\n",
    "\n",
    "\n",
    "14 - день когда активные пользователи перестали набираться в группе А\n",
    "</div>"
   ]
  },
  {
   "cell_type": "markdown",
   "metadata": {},
   "source": [
    "### Как меняется конверсия в воронке в выборках на разных этапах?"
   ]
  },
  {
   "cell_type": "code",
   "execution_count": 110,
   "metadata": {},
   "outputs": [
    {
     "data": {
      "text/html": [
       "<div>\n",
       "<style scoped>\n",
       "    .dataframe tbody tr th:only-of-type {\n",
       "        vertical-align: middle;\n",
       "    }\n",
       "\n",
       "    .dataframe tbody tr th {\n",
       "        vertical-align: top;\n",
       "    }\n",
       "\n",
       "    .dataframe thead th {\n",
       "        text-align: right;\n",
       "    }\n",
       "</style>\n",
       "<table border=\"1\" class=\"dataframe\">\n",
       "  <thead>\n",
       "    <tr style=\"text-align: right;\">\n",
       "      <th></th>\n",
       "      <th>event_name</th>\n",
       "      <th>total_users</th>\n",
       "      <th>№</th>\n",
       "    </tr>\n",
       "  </thead>\n",
       "  <tbody>\n",
       "    <tr>\n",
       "      <th>0</th>\n",
       "      <td>login</td>\n",
       "      <td>3243</td>\n",
       "      <td>1</td>\n",
       "    </tr>\n",
       "    <tr>\n",
       "      <th>2</th>\n",
       "      <td>product_page</td>\n",
       "      <td>2030</td>\n",
       "      <td>2</td>\n",
       "    </tr>\n",
       "    <tr>\n",
       "      <th>1</th>\n",
       "      <td>product_cart</td>\n",
       "      <td>953</td>\n",
       "      <td>3</td>\n",
       "    </tr>\n",
       "    <tr>\n",
       "      <th>3</th>\n",
       "      <td>purchase</td>\n",
       "      <td>999</td>\n",
       "      <td>4</td>\n",
       "    </tr>\n",
       "  </tbody>\n",
       "</table>\n",
       "</div>"
      ],
      "text/plain": [
       "     event_name  total_users  №\n",
       "0  login         3243         1\n",
       "2  product_page  2030         2\n",
       "1  product_cart  953          3\n",
       "3  purchase      999          4"
      ]
     },
     "execution_count": 110,
     "metadata": {},
     "output_type": "execute_result"
    }
   ],
   "source": [
    "funnel_group = (merge_table.\n",
    "          groupby('event_name').\n",
    "          agg({'user_id': 'nunique'}).\n",
    "          reset_index().\n",
    "          rename(columns={'user_id' : 'total_users'})\n",
    "               )\n",
    "funnel_group['№'] = [1, 3, 2, 4]\n",
    "funnel_group = funnel_group.sort_values(by='№')\n",
    "funnel_group"
   ]
  },
  {
   "cell_type": "code",
   "execution_count": 111,
   "metadata": {},
   "outputs": [
    {
     "data": {
      "application/vnd.plotly.v1+json": {
       "config": {
        "plotlyServerURL": "https://plot.ly"
       },
       "data": [
        {
         "textinfo": "value+percent previous+percent initial",
         "type": "funnel",
         "x": [
          3243,
          2030,
          953,
          999
         ],
         "y": [
          "login",
          "product_page",
          "product_cart",
          "purchase"
         ]
        }
       ],
       "layout": {
        "template": {
         "data": {
          "bar": [
           {
            "error_x": {
             "color": "#2a3f5f"
            },
            "error_y": {
             "color": "#2a3f5f"
            },
            "marker": {
             "line": {
              "color": "#E5ECF6",
              "width": 0.5
             },
             "pattern": {
              "fillmode": "overlay",
              "size": 10,
              "solidity": 0.2
             }
            },
            "type": "bar"
           }
          ],
          "barpolar": [
           {
            "marker": {
             "line": {
              "color": "#E5ECF6",
              "width": 0.5
             },
             "pattern": {
              "fillmode": "overlay",
              "size": 10,
              "solidity": 0.2
             }
            },
            "type": "barpolar"
           }
          ],
          "carpet": [
           {
            "aaxis": {
             "endlinecolor": "#2a3f5f",
             "gridcolor": "white",
             "linecolor": "white",
             "minorgridcolor": "white",
             "startlinecolor": "#2a3f5f"
            },
            "baxis": {
             "endlinecolor": "#2a3f5f",
             "gridcolor": "white",
             "linecolor": "white",
             "minorgridcolor": "white",
             "startlinecolor": "#2a3f5f"
            },
            "type": "carpet"
           }
          ],
          "choropleth": [
           {
            "colorbar": {
             "outlinewidth": 0,
             "ticks": ""
            },
            "type": "choropleth"
           }
          ],
          "contour": [
           {
            "colorbar": {
             "outlinewidth": 0,
             "ticks": ""
            },
            "colorscale": [
             [
              0,
              "#0d0887"
             ],
             [
              0.1111111111111111,
              "#46039f"
             ],
             [
              0.2222222222222222,
              "#7201a8"
             ],
             [
              0.3333333333333333,
              "#9c179e"
             ],
             [
              0.4444444444444444,
              "#bd3786"
             ],
             [
              0.5555555555555556,
              "#d8576b"
             ],
             [
              0.6666666666666666,
              "#ed7953"
             ],
             [
              0.7777777777777778,
              "#fb9f3a"
             ],
             [
              0.8888888888888888,
              "#fdca26"
             ],
             [
              1,
              "#f0f921"
             ]
            ],
            "type": "contour"
           }
          ],
          "contourcarpet": [
           {
            "colorbar": {
             "outlinewidth": 0,
             "ticks": ""
            },
            "type": "contourcarpet"
           }
          ],
          "heatmap": [
           {
            "colorbar": {
             "outlinewidth": 0,
             "ticks": ""
            },
            "colorscale": [
             [
              0,
              "#0d0887"
             ],
             [
              0.1111111111111111,
              "#46039f"
             ],
             [
              0.2222222222222222,
              "#7201a8"
             ],
             [
              0.3333333333333333,
              "#9c179e"
             ],
             [
              0.4444444444444444,
              "#bd3786"
             ],
             [
              0.5555555555555556,
              "#d8576b"
             ],
             [
              0.6666666666666666,
              "#ed7953"
             ],
             [
              0.7777777777777778,
              "#fb9f3a"
             ],
             [
              0.8888888888888888,
              "#fdca26"
             ],
             [
              1,
              "#f0f921"
             ]
            ],
            "type": "heatmap"
           }
          ],
          "heatmapgl": [
           {
            "colorbar": {
             "outlinewidth": 0,
             "ticks": ""
            },
            "colorscale": [
             [
              0,
              "#0d0887"
             ],
             [
              0.1111111111111111,
              "#46039f"
             ],
             [
              0.2222222222222222,
              "#7201a8"
             ],
             [
              0.3333333333333333,
              "#9c179e"
             ],
             [
              0.4444444444444444,
              "#bd3786"
             ],
             [
              0.5555555555555556,
              "#d8576b"
             ],
             [
              0.6666666666666666,
              "#ed7953"
             ],
             [
              0.7777777777777778,
              "#fb9f3a"
             ],
             [
              0.8888888888888888,
              "#fdca26"
             ],
             [
              1,
              "#f0f921"
             ]
            ],
            "type": "heatmapgl"
           }
          ],
          "histogram": [
           {
            "marker": {
             "pattern": {
              "fillmode": "overlay",
              "size": 10,
              "solidity": 0.2
             }
            },
            "type": "histogram"
           }
          ],
          "histogram2d": [
           {
            "colorbar": {
             "outlinewidth": 0,
             "ticks": ""
            },
            "colorscale": [
             [
              0,
              "#0d0887"
             ],
             [
              0.1111111111111111,
              "#46039f"
             ],
             [
              0.2222222222222222,
              "#7201a8"
             ],
             [
              0.3333333333333333,
              "#9c179e"
             ],
             [
              0.4444444444444444,
              "#bd3786"
             ],
             [
              0.5555555555555556,
              "#d8576b"
             ],
             [
              0.6666666666666666,
              "#ed7953"
             ],
             [
              0.7777777777777778,
              "#fb9f3a"
             ],
             [
              0.8888888888888888,
              "#fdca26"
             ],
             [
              1,
              "#f0f921"
             ]
            ],
            "type": "histogram2d"
           }
          ],
          "histogram2dcontour": [
           {
            "colorbar": {
             "outlinewidth": 0,
             "ticks": ""
            },
            "colorscale": [
             [
              0,
              "#0d0887"
             ],
             [
              0.1111111111111111,
              "#46039f"
             ],
             [
              0.2222222222222222,
              "#7201a8"
             ],
             [
              0.3333333333333333,
              "#9c179e"
             ],
             [
              0.4444444444444444,
              "#bd3786"
             ],
             [
              0.5555555555555556,
              "#d8576b"
             ],
             [
              0.6666666666666666,
              "#ed7953"
             ],
             [
              0.7777777777777778,
              "#fb9f3a"
             ],
             [
              0.8888888888888888,
              "#fdca26"
             ],
             [
              1,
              "#f0f921"
             ]
            ],
            "type": "histogram2dcontour"
           }
          ],
          "mesh3d": [
           {
            "colorbar": {
             "outlinewidth": 0,
             "ticks": ""
            },
            "type": "mesh3d"
           }
          ],
          "parcoords": [
           {
            "line": {
             "colorbar": {
              "outlinewidth": 0,
              "ticks": ""
             }
            },
            "type": "parcoords"
           }
          ],
          "pie": [
           {
            "automargin": true,
            "type": "pie"
           }
          ],
          "scatter": [
           {
            "marker": {
             "colorbar": {
              "outlinewidth": 0,
              "ticks": ""
             }
            },
            "type": "scatter"
           }
          ],
          "scatter3d": [
           {
            "line": {
             "colorbar": {
              "outlinewidth": 0,
              "ticks": ""
             }
            },
            "marker": {
             "colorbar": {
              "outlinewidth": 0,
              "ticks": ""
             }
            },
            "type": "scatter3d"
           }
          ],
          "scattercarpet": [
           {
            "marker": {
             "colorbar": {
              "outlinewidth": 0,
              "ticks": ""
             }
            },
            "type": "scattercarpet"
           }
          ],
          "scattergeo": [
           {
            "marker": {
             "colorbar": {
              "outlinewidth": 0,
              "ticks": ""
             }
            },
            "type": "scattergeo"
           }
          ],
          "scattergl": [
           {
            "marker": {
             "colorbar": {
              "outlinewidth": 0,
              "ticks": ""
             }
            },
            "type": "scattergl"
           }
          ],
          "scattermapbox": [
           {
            "marker": {
             "colorbar": {
              "outlinewidth": 0,
              "ticks": ""
             }
            },
            "type": "scattermapbox"
           }
          ],
          "scatterpolar": [
           {
            "marker": {
             "colorbar": {
              "outlinewidth": 0,
              "ticks": ""
             }
            },
            "type": "scatterpolar"
           }
          ],
          "scatterpolargl": [
           {
            "marker": {
             "colorbar": {
              "outlinewidth": 0,
              "ticks": ""
             }
            },
            "type": "scatterpolargl"
           }
          ],
          "scatterternary": [
           {
            "marker": {
             "colorbar": {
              "outlinewidth": 0,
              "ticks": ""
             }
            },
            "type": "scatterternary"
           }
          ],
          "surface": [
           {
            "colorbar": {
             "outlinewidth": 0,
             "ticks": ""
            },
            "colorscale": [
             [
              0,
              "#0d0887"
             ],
             [
              0.1111111111111111,
              "#46039f"
             ],
             [
              0.2222222222222222,
              "#7201a8"
             ],
             [
              0.3333333333333333,
              "#9c179e"
             ],
             [
              0.4444444444444444,
              "#bd3786"
             ],
             [
              0.5555555555555556,
              "#d8576b"
             ],
             [
              0.6666666666666666,
              "#ed7953"
             ],
             [
              0.7777777777777778,
              "#fb9f3a"
             ],
             [
              0.8888888888888888,
              "#fdca26"
             ],
             [
              1,
              "#f0f921"
             ]
            ],
            "type": "surface"
           }
          ],
          "table": [
           {
            "cells": {
             "fill": {
              "color": "#EBF0F8"
             },
             "line": {
              "color": "white"
             }
            },
            "header": {
             "fill": {
              "color": "#C8D4E3"
             },
             "line": {
              "color": "white"
             }
            },
            "type": "table"
           }
          ]
         },
         "layout": {
          "annotationdefaults": {
           "arrowcolor": "#2a3f5f",
           "arrowhead": 0,
           "arrowwidth": 1
          },
          "autotypenumbers": "strict",
          "coloraxis": {
           "colorbar": {
            "outlinewidth": 0,
            "ticks": ""
           }
          },
          "colorscale": {
           "diverging": [
            [
             0,
             "#8e0152"
            ],
            [
             0.1,
             "#c51b7d"
            ],
            [
             0.2,
             "#de77ae"
            ],
            [
             0.3,
             "#f1b6da"
            ],
            [
             0.4,
             "#fde0ef"
            ],
            [
             0.5,
             "#f7f7f7"
            ],
            [
             0.6,
             "#e6f5d0"
            ],
            [
             0.7,
             "#b8e186"
            ],
            [
             0.8,
             "#7fbc41"
            ],
            [
             0.9,
             "#4d9221"
            ],
            [
             1,
             "#276419"
            ]
           ],
           "sequential": [
            [
             0,
             "#0d0887"
            ],
            [
             0.1111111111111111,
             "#46039f"
            ],
            [
             0.2222222222222222,
             "#7201a8"
            ],
            [
             0.3333333333333333,
             "#9c179e"
            ],
            [
             0.4444444444444444,
             "#bd3786"
            ],
            [
             0.5555555555555556,
             "#d8576b"
            ],
            [
             0.6666666666666666,
             "#ed7953"
            ],
            [
             0.7777777777777778,
             "#fb9f3a"
            ],
            [
             0.8888888888888888,
             "#fdca26"
            ],
            [
             1,
             "#f0f921"
            ]
           ],
           "sequentialminus": [
            [
             0,
             "#0d0887"
            ],
            [
             0.1111111111111111,
             "#46039f"
            ],
            [
             0.2222222222222222,
             "#7201a8"
            ],
            [
             0.3333333333333333,
             "#9c179e"
            ],
            [
             0.4444444444444444,
             "#bd3786"
            ],
            [
             0.5555555555555556,
             "#d8576b"
            ],
            [
             0.6666666666666666,
             "#ed7953"
            ],
            [
             0.7777777777777778,
             "#fb9f3a"
            ],
            [
             0.8888888888888888,
             "#fdca26"
            ],
            [
             1,
             "#f0f921"
            ]
           ]
          },
          "colorway": [
           "#636efa",
           "#EF553B",
           "#00cc96",
           "#ab63fa",
           "#FFA15A",
           "#19d3f3",
           "#FF6692",
           "#B6E880",
           "#FF97FF",
           "#FECB52"
          ],
          "font": {
           "color": "#2a3f5f"
          },
          "geo": {
           "bgcolor": "white",
           "lakecolor": "white",
           "landcolor": "#E5ECF6",
           "showlakes": true,
           "showland": true,
           "subunitcolor": "white"
          },
          "hoverlabel": {
           "align": "left"
          },
          "hovermode": "closest",
          "mapbox": {
           "style": "light"
          },
          "paper_bgcolor": "white",
          "plot_bgcolor": "#E5ECF6",
          "polar": {
           "angularaxis": {
            "gridcolor": "white",
            "linecolor": "white",
            "ticks": ""
           },
           "bgcolor": "#E5ECF6",
           "radialaxis": {
            "gridcolor": "white",
            "linecolor": "white",
            "ticks": ""
           }
          },
          "scene": {
           "xaxis": {
            "backgroundcolor": "#E5ECF6",
            "gridcolor": "white",
            "gridwidth": 2,
            "linecolor": "white",
            "showbackground": true,
            "ticks": "",
            "zerolinecolor": "white"
           },
           "yaxis": {
            "backgroundcolor": "#E5ECF6",
            "gridcolor": "white",
            "gridwidth": 2,
            "linecolor": "white",
            "showbackground": true,
            "ticks": "",
            "zerolinecolor": "white"
           },
           "zaxis": {
            "backgroundcolor": "#E5ECF6",
            "gridcolor": "white",
            "gridwidth": 2,
            "linecolor": "white",
            "showbackground": true,
            "ticks": "",
            "zerolinecolor": "white"
           }
          },
          "shapedefaults": {
           "line": {
            "color": "#2a3f5f"
           }
          },
          "ternary": {
           "aaxis": {
            "gridcolor": "white",
            "linecolor": "white",
            "ticks": ""
           },
           "baxis": {
            "gridcolor": "white",
            "linecolor": "white",
            "ticks": ""
           },
           "bgcolor": "#E5ECF6",
           "caxis": {
            "gridcolor": "white",
            "linecolor": "white",
            "ticks": ""
           }
          },
          "title": {
           "x": 0.05
          },
          "xaxis": {
           "automargin": true,
           "gridcolor": "white",
           "linecolor": "white",
           "ticks": "",
           "title": {
            "standoff": 15
           },
           "zerolinecolor": "white",
           "zerolinewidth": 2
          },
          "yaxis": {
           "automargin": true,
           "gridcolor": "white",
           "linecolor": "white",
           "ticks": "",
           "title": {
            "standoff": 15
           },
           "zerolinecolor": "white",
           "zerolinewidth": 2
          }
         }
        },
        "title": {
         "text": "Воронка событий"
        }
       }
      },
      "text/html": [
       "<div>                            <div id=\"234a4061-6350-4c10-985f-b80cdc9fd5b0\" class=\"plotly-graph-div\" style=\"height:525px; width:100%;\"></div>            <script type=\"text/javascript\">                require([\"plotly\"], function(Plotly) {                    window.PLOTLYENV=window.PLOTLYENV || {};                                    if (document.getElementById(\"234a4061-6350-4c10-985f-b80cdc9fd5b0\")) {                    Plotly.newPlot(                        \"234a4061-6350-4c10-985f-b80cdc9fd5b0\",                        [{\"textinfo\":\"value+percent previous+percent initial\",\"x\":[3243,2030,953,999],\"y\":[\"login\",\"product_page\",\"product_cart\",\"purchase\"],\"type\":\"funnel\"}],                        {\"template\":{\"data\":{\"bar\":[{\"error_x\":{\"color\":\"#2a3f5f\"},\"error_y\":{\"color\":\"#2a3f5f\"},\"marker\":{\"line\":{\"color\":\"#E5ECF6\",\"width\":0.5},\"pattern\":{\"fillmode\":\"overlay\",\"size\":10,\"solidity\":0.2}},\"type\":\"bar\"}],\"barpolar\":[{\"marker\":{\"line\":{\"color\":\"#E5ECF6\",\"width\":0.5},\"pattern\":{\"fillmode\":\"overlay\",\"size\":10,\"solidity\":0.2}},\"type\":\"barpolar\"}],\"carpet\":[{\"aaxis\":{\"endlinecolor\":\"#2a3f5f\",\"gridcolor\":\"white\",\"linecolor\":\"white\",\"minorgridcolor\":\"white\",\"startlinecolor\":\"#2a3f5f\"},\"baxis\":{\"endlinecolor\":\"#2a3f5f\",\"gridcolor\":\"white\",\"linecolor\":\"white\",\"minorgridcolor\":\"white\",\"startlinecolor\":\"#2a3f5f\"},\"type\":\"carpet\"}],\"choropleth\":[{\"colorbar\":{\"outlinewidth\":0,\"ticks\":\"\"},\"type\":\"choropleth\"}],\"contour\":[{\"colorbar\":{\"outlinewidth\":0,\"ticks\":\"\"},\"colorscale\":[[0.0,\"#0d0887\"],[0.1111111111111111,\"#46039f\"],[0.2222222222222222,\"#7201a8\"],[0.3333333333333333,\"#9c179e\"],[0.4444444444444444,\"#bd3786\"],[0.5555555555555556,\"#d8576b\"],[0.6666666666666666,\"#ed7953\"],[0.7777777777777778,\"#fb9f3a\"],[0.8888888888888888,\"#fdca26\"],[1.0,\"#f0f921\"]],\"type\":\"contour\"}],\"contourcarpet\":[{\"colorbar\":{\"outlinewidth\":0,\"ticks\":\"\"},\"type\":\"contourcarpet\"}],\"heatmap\":[{\"colorbar\":{\"outlinewidth\":0,\"ticks\":\"\"},\"colorscale\":[[0.0,\"#0d0887\"],[0.1111111111111111,\"#46039f\"],[0.2222222222222222,\"#7201a8\"],[0.3333333333333333,\"#9c179e\"],[0.4444444444444444,\"#bd3786\"],[0.5555555555555556,\"#d8576b\"],[0.6666666666666666,\"#ed7953\"],[0.7777777777777778,\"#fb9f3a\"],[0.8888888888888888,\"#fdca26\"],[1.0,\"#f0f921\"]],\"type\":\"heatmap\"}],\"heatmapgl\":[{\"colorbar\":{\"outlinewidth\":0,\"ticks\":\"\"},\"colorscale\":[[0.0,\"#0d0887\"],[0.1111111111111111,\"#46039f\"],[0.2222222222222222,\"#7201a8\"],[0.3333333333333333,\"#9c179e\"],[0.4444444444444444,\"#bd3786\"],[0.5555555555555556,\"#d8576b\"],[0.6666666666666666,\"#ed7953\"],[0.7777777777777778,\"#fb9f3a\"],[0.8888888888888888,\"#fdca26\"],[1.0,\"#f0f921\"]],\"type\":\"heatmapgl\"}],\"histogram\":[{\"marker\":{\"pattern\":{\"fillmode\":\"overlay\",\"size\":10,\"solidity\":0.2}},\"type\":\"histogram\"}],\"histogram2d\":[{\"colorbar\":{\"outlinewidth\":0,\"ticks\":\"\"},\"colorscale\":[[0.0,\"#0d0887\"],[0.1111111111111111,\"#46039f\"],[0.2222222222222222,\"#7201a8\"],[0.3333333333333333,\"#9c179e\"],[0.4444444444444444,\"#bd3786\"],[0.5555555555555556,\"#d8576b\"],[0.6666666666666666,\"#ed7953\"],[0.7777777777777778,\"#fb9f3a\"],[0.8888888888888888,\"#fdca26\"],[1.0,\"#f0f921\"]],\"type\":\"histogram2d\"}],\"histogram2dcontour\":[{\"colorbar\":{\"outlinewidth\":0,\"ticks\":\"\"},\"colorscale\":[[0.0,\"#0d0887\"],[0.1111111111111111,\"#46039f\"],[0.2222222222222222,\"#7201a8\"],[0.3333333333333333,\"#9c179e\"],[0.4444444444444444,\"#bd3786\"],[0.5555555555555556,\"#d8576b\"],[0.6666666666666666,\"#ed7953\"],[0.7777777777777778,\"#fb9f3a\"],[0.8888888888888888,\"#fdca26\"],[1.0,\"#f0f921\"]],\"type\":\"histogram2dcontour\"}],\"mesh3d\":[{\"colorbar\":{\"outlinewidth\":0,\"ticks\":\"\"},\"type\":\"mesh3d\"}],\"parcoords\":[{\"line\":{\"colorbar\":{\"outlinewidth\":0,\"ticks\":\"\"}},\"type\":\"parcoords\"}],\"pie\":[{\"automargin\":true,\"type\":\"pie\"}],\"scatter\":[{\"marker\":{\"colorbar\":{\"outlinewidth\":0,\"ticks\":\"\"}},\"type\":\"scatter\"}],\"scatter3d\":[{\"line\":{\"colorbar\":{\"outlinewidth\":0,\"ticks\":\"\"}},\"marker\":{\"colorbar\":{\"outlinewidth\":0,\"ticks\":\"\"}},\"type\":\"scatter3d\"}],\"scattercarpet\":[{\"marker\":{\"colorbar\":{\"outlinewidth\":0,\"ticks\":\"\"}},\"type\":\"scattercarpet\"}],\"scattergeo\":[{\"marker\":{\"colorbar\":{\"outlinewidth\":0,\"ticks\":\"\"}},\"type\":\"scattergeo\"}],\"scattergl\":[{\"marker\":{\"colorbar\":{\"outlinewidth\":0,\"ticks\":\"\"}},\"type\":\"scattergl\"}],\"scattermapbox\":[{\"marker\":{\"colorbar\":{\"outlinewidth\":0,\"ticks\":\"\"}},\"type\":\"scattermapbox\"}],\"scatterpolar\":[{\"marker\":{\"colorbar\":{\"outlinewidth\":0,\"ticks\":\"\"}},\"type\":\"scatterpolar\"}],\"scatterpolargl\":[{\"marker\":{\"colorbar\":{\"outlinewidth\":0,\"ticks\":\"\"}},\"type\":\"scatterpolargl\"}],\"scatterternary\":[{\"marker\":{\"colorbar\":{\"outlinewidth\":0,\"ticks\":\"\"}},\"type\":\"scatterternary\"}],\"surface\":[{\"colorbar\":{\"outlinewidth\":0,\"ticks\":\"\"},\"colorscale\":[[0.0,\"#0d0887\"],[0.1111111111111111,\"#46039f\"],[0.2222222222222222,\"#7201a8\"],[0.3333333333333333,\"#9c179e\"],[0.4444444444444444,\"#bd3786\"],[0.5555555555555556,\"#d8576b\"],[0.6666666666666666,\"#ed7953\"],[0.7777777777777778,\"#fb9f3a\"],[0.8888888888888888,\"#fdca26\"],[1.0,\"#f0f921\"]],\"type\":\"surface\"}],\"table\":[{\"cells\":{\"fill\":{\"color\":\"#EBF0F8\"},\"line\":{\"color\":\"white\"}},\"header\":{\"fill\":{\"color\":\"#C8D4E3\"},\"line\":{\"color\":\"white\"}},\"type\":\"table\"}]},\"layout\":{\"annotationdefaults\":{\"arrowcolor\":\"#2a3f5f\",\"arrowhead\":0,\"arrowwidth\":1},\"autotypenumbers\":\"strict\",\"coloraxis\":{\"colorbar\":{\"outlinewidth\":0,\"ticks\":\"\"}},\"colorscale\":{\"diverging\":[[0,\"#8e0152\"],[0.1,\"#c51b7d\"],[0.2,\"#de77ae\"],[0.3,\"#f1b6da\"],[0.4,\"#fde0ef\"],[0.5,\"#f7f7f7\"],[0.6,\"#e6f5d0\"],[0.7,\"#b8e186\"],[0.8,\"#7fbc41\"],[0.9,\"#4d9221\"],[1,\"#276419\"]],\"sequential\":[[0.0,\"#0d0887\"],[0.1111111111111111,\"#46039f\"],[0.2222222222222222,\"#7201a8\"],[0.3333333333333333,\"#9c179e\"],[0.4444444444444444,\"#bd3786\"],[0.5555555555555556,\"#d8576b\"],[0.6666666666666666,\"#ed7953\"],[0.7777777777777778,\"#fb9f3a\"],[0.8888888888888888,\"#fdca26\"],[1.0,\"#f0f921\"]],\"sequentialminus\":[[0.0,\"#0d0887\"],[0.1111111111111111,\"#46039f\"],[0.2222222222222222,\"#7201a8\"],[0.3333333333333333,\"#9c179e\"],[0.4444444444444444,\"#bd3786\"],[0.5555555555555556,\"#d8576b\"],[0.6666666666666666,\"#ed7953\"],[0.7777777777777778,\"#fb9f3a\"],[0.8888888888888888,\"#fdca26\"],[1.0,\"#f0f921\"]]},\"colorway\":[\"#636efa\",\"#EF553B\",\"#00cc96\",\"#ab63fa\",\"#FFA15A\",\"#19d3f3\",\"#FF6692\",\"#B6E880\",\"#FF97FF\",\"#FECB52\"],\"font\":{\"color\":\"#2a3f5f\"},\"geo\":{\"bgcolor\":\"white\",\"lakecolor\":\"white\",\"landcolor\":\"#E5ECF6\",\"showlakes\":true,\"showland\":true,\"subunitcolor\":\"white\"},\"hoverlabel\":{\"align\":\"left\"},\"hovermode\":\"closest\",\"mapbox\":{\"style\":\"light\"},\"paper_bgcolor\":\"white\",\"plot_bgcolor\":\"#E5ECF6\",\"polar\":{\"angularaxis\":{\"gridcolor\":\"white\",\"linecolor\":\"white\",\"ticks\":\"\"},\"bgcolor\":\"#E5ECF6\",\"radialaxis\":{\"gridcolor\":\"white\",\"linecolor\":\"white\",\"ticks\":\"\"}},\"scene\":{\"xaxis\":{\"backgroundcolor\":\"#E5ECF6\",\"gridcolor\":\"white\",\"gridwidth\":2,\"linecolor\":\"white\",\"showbackground\":true,\"ticks\":\"\",\"zerolinecolor\":\"white\"},\"yaxis\":{\"backgroundcolor\":\"#E5ECF6\",\"gridcolor\":\"white\",\"gridwidth\":2,\"linecolor\":\"white\",\"showbackground\":true,\"ticks\":\"\",\"zerolinecolor\":\"white\"},\"zaxis\":{\"backgroundcolor\":\"#E5ECF6\",\"gridcolor\":\"white\",\"gridwidth\":2,\"linecolor\":\"white\",\"showbackground\":true,\"ticks\":\"\",\"zerolinecolor\":\"white\"}},\"shapedefaults\":{\"line\":{\"color\":\"#2a3f5f\"}},\"ternary\":{\"aaxis\":{\"gridcolor\":\"white\",\"linecolor\":\"white\",\"ticks\":\"\"},\"baxis\":{\"gridcolor\":\"white\",\"linecolor\":\"white\",\"ticks\":\"\"},\"bgcolor\":\"#E5ECF6\",\"caxis\":{\"gridcolor\":\"white\",\"linecolor\":\"white\",\"ticks\":\"\"}},\"title\":{\"x\":0.05},\"xaxis\":{\"automargin\":true,\"gridcolor\":\"white\",\"linecolor\":\"white\",\"ticks\":\"\",\"title\":{\"standoff\":15},\"zerolinecolor\":\"white\",\"zerolinewidth\":2},\"yaxis\":{\"automargin\":true,\"gridcolor\":\"white\",\"linecolor\":\"white\",\"ticks\":\"\",\"title\":{\"standoff\":15},\"zerolinecolor\":\"white\",\"zerolinewidth\":2}}},\"title\":{\"text\":\"\\u0412\\u043e\\u0440\\u043e\\u043d\\u043a\\u0430 \\u0441\\u043e\\u0431\\u044b\\u0442\\u0438\\u0439\"}},                        {\"responsive\": true}                    ).then(function(){\n",
       "                            \n",
       "var gd = document.getElementById('234a4061-6350-4c10-985f-b80cdc9fd5b0');\n",
       "var x = new MutationObserver(function (mutations, observer) {{\n",
       "        var display = window.getComputedStyle(gd).display;\n",
       "        if (!display || display === 'none') {{\n",
       "            console.log([gd, 'removed!']);\n",
       "            Plotly.purge(gd);\n",
       "            observer.disconnect();\n",
       "        }}\n",
       "}});\n",
       "\n",
       "// Listen for the removal of the full notebook cells\n",
       "var notebookContainer = gd.closest('#notebook-container');\n",
       "if (notebookContainer) {{\n",
       "    x.observe(notebookContainer, {childList: true});\n",
       "}}\n",
       "\n",
       "// Listen for the clearing of the current output cell\n",
       "var outputEl = gd.closest('.output');\n",
       "if (outputEl) {{\n",
       "    x.observe(outputEl, {childList: true});\n",
       "}}\n",
       "\n",
       "                        })                };                });            </script>        </div>"
      ]
     },
     "metadata": {},
     "output_type": "display_data"
    }
   ],
   "source": [
    "ax = go.Figure(go.Funnel(\n",
    "    y = funnel_group['event_name'],\n",
    "    x = funnel_group['total_users'],\n",
    "    textinfo = 'value + percent previous + percent initial'))\n",
    "ax.update_layout(title_text='Воронка событий')\n",
    "\n",
    "ax.show()"
   ]
  },
  {
   "cell_type": "markdown",
   "metadata": {},
   "source": [
    "#### Вывод\n",
    "Во общей воронке событий без раздела на группы можно, можем увидеть что больие потери наблюдаются на переходе от логирования к просмотру карточки.  Также потери в 53 % наблюдаются при переходе от просмотра карточки товара к просмотру корзины.\n",
    "Так же на шаге от логирования к просмотру корзины доходит только 29% пользователей, а от логирования до покупки 31%"
   ]
  },
  {
   "cell_type": "code",
   "execution_count": 112,
   "metadata": {},
   "outputs": [
    {
     "data": {
      "text/html": [
       "<div>\n",
       "<style scoped>\n",
       "    .dataframe tbody tr th:only-of-type {\n",
       "        vertical-align: middle;\n",
       "    }\n",
       "\n",
       "    .dataframe tbody tr th {\n",
       "        vertical-align: top;\n",
       "    }\n",
       "\n",
       "    .dataframe thead th {\n",
       "        text-align: right;\n",
       "    }\n",
       "</style>\n",
       "<table border=\"1\" class=\"dataframe\">\n",
       "  <thead>\n",
       "    <tr style=\"text-align: right;\">\n",
       "      <th></th>\n",
       "      <th>event_name</th>\n",
       "      <th>group</th>\n",
       "      <th>total_users</th>\n",
       "      <th>№</th>\n",
       "    </tr>\n",
       "  </thead>\n",
       "  <tbody>\n",
       "    <tr>\n",
       "      <th>1</th>\n",
       "      <td>login</td>\n",
       "      <td>B</td>\n",
       "      <td>821</td>\n",
       "      <td>1</td>\n",
       "    </tr>\n",
       "    <tr>\n",
       "      <th>5</th>\n",
       "      <td>product_page</td>\n",
       "      <td>B</td>\n",
       "      <td>459</td>\n",
       "      <td>2</td>\n",
       "    </tr>\n",
       "    <tr>\n",
       "      <th>3</th>\n",
       "      <td>product_cart</td>\n",
       "      <td>B</td>\n",
       "      <td>225</td>\n",
       "      <td>3</td>\n",
       "    </tr>\n",
       "    <tr>\n",
       "      <th>7</th>\n",
       "      <td>purchase</td>\n",
       "      <td>B</td>\n",
       "      <td>226</td>\n",
       "      <td>4</td>\n",
       "    </tr>\n",
       "    <tr>\n",
       "      <th>0</th>\n",
       "      <td>login</td>\n",
       "      <td>A</td>\n",
       "      <td>2422</td>\n",
       "      <td>5</td>\n",
       "    </tr>\n",
       "    <tr>\n",
       "      <th>4</th>\n",
       "      <td>product_page</td>\n",
       "      <td>A</td>\n",
       "      <td>1571</td>\n",
       "      <td>6</td>\n",
       "    </tr>\n",
       "    <tr>\n",
       "      <th>2</th>\n",
       "      <td>product_cart</td>\n",
       "      <td>A</td>\n",
       "      <td>728</td>\n",
       "      <td>7</td>\n",
       "    </tr>\n",
       "    <tr>\n",
       "      <th>6</th>\n",
       "      <td>purchase</td>\n",
       "      <td>A</td>\n",
       "      <td>773</td>\n",
       "      <td>8</td>\n",
       "    </tr>\n",
       "  </tbody>\n",
       "</table>\n",
       "</div>"
      ],
      "text/plain": [
       "     event_name group  total_users  №\n",
       "1  login         B     821          1\n",
       "5  product_page  B     459          2\n",
       "3  product_cart  B     225          3\n",
       "7  purchase      B     226          4\n",
       "0  login         A     2422         5\n",
       "4  product_page  A     1571         6\n",
       "2  product_cart  A     728          7\n",
       "6  purchase      A     773          8"
      ]
     },
     "execution_count": 112,
     "metadata": {},
     "output_type": "execute_result"
    }
   ],
   "source": [
    "funnel_group = (merge_table.\n",
    "          groupby(['event_name', 'group']).\n",
    "          agg({'user_id': 'nunique'}).\n",
    "          reset_index().\n",
    "          rename(columns={'user_id' : 'total_users'}).\n",
    "          sort_values(by=['group','total_users'], ascending=False))\n",
    "\n",
    "\n",
    "funnel_group['№'] = [1, 2, 4, 3,5,6,8,7]\n",
    "funnel_group = funnel_group.sort_values(by='№')\n",
    "funnel_group"
   ]
  },
  {
   "cell_type": "code",
   "execution_count": 113,
   "metadata": {},
   "outputs": [
    {
     "data": {
      "application/vnd.plotly.v1+json": {
       "config": {
        "plotlyServerURL": "https://plot.ly"
       },
       "data": [
        {
         "name": "A",
         "textinfo": "value+percent previous",
         "textposition": "inside",
         "type": "funnel",
         "x": [
          2422,
          1571,
          728,
          773
         ],
         "y": [
          "login",
          "product_page",
          "product_cart",
          "purchase"
         ]
        },
        {
         "name": "B",
         "textinfo": "value+percent previous",
         "textposition": "inside",
         "type": "funnel",
         "x": [
          821,
          459,
          225,
          226
         ],
         "y": [
          "login",
          "product_page",
          "product_cart",
          "purchase"
         ]
        }
       ],
       "layout": {
        "template": {
         "data": {
          "bar": [
           {
            "error_x": {
             "color": "#2a3f5f"
            },
            "error_y": {
             "color": "#2a3f5f"
            },
            "marker": {
             "line": {
              "color": "#E5ECF6",
              "width": 0.5
             },
             "pattern": {
              "fillmode": "overlay",
              "size": 10,
              "solidity": 0.2
             }
            },
            "type": "bar"
           }
          ],
          "barpolar": [
           {
            "marker": {
             "line": {
              "color": "#E5ECF6",
              "width": 0.5
             },
             "pattern": {
              "fillmode": "overlay",
              "size": 10,
              "solidity": 0.2
             }
            },
            "type": "barpolar"
           }
          ],
          "carpet": [
           {
            "aaxis": {
             "endlinecolor": "#2a3f5f",
             "gridcolor": "white",
             "linecolor": "white",
             "minorgridcolor": "white",
             "startlinecolor": "#2a3f5f"
            },
            "baxis": {
             "endlinecolor": "#2a3f5f",
             "gridcolor": "white",
             "linecolor": "white",
             "minorgridcolor": "white",
             "startlinecolor": "#2a3f5f"
            },
            "type": "carpet"
           }
          ],
          "choropleth": [
           {
            "colorbar": {
             "outlinewidth": 0,
             "ticks": ""
            },
            "type": "choropleth"
           }
          ],
          "contour": [
           {
            "colorbar": {
             "outlinewidth": 0,
             "ticks": ""
            },
            "colorscale": [
             [
              0,
              "#0d0887"
             ],
             [
              0.1111111111111111,
              "#46039f"
             ],
             [
              0.2222222222222222,
              "#7201a8"
             ],
             [
              0.3333333333333333,
              "#9c179e"
             ],
             [
              0.4444444444444444,
              "#bd3786"
             ],
             [
              0.5555555555555556,
              "#d8576b"
             ],
             [
              0.6666666666666666,
              "#ed7953"
             ],
             [
              0.7777777777777778,
              "#fb9f3a"
             ],
             [
              0.8888888888888888,
              "#fdca26"
             ],
             [
              1,
              "#f0f921"
             ]
            ],
            "type": "contour"
           }
          ],
          "contourcarpet": [
           {
            "colorbar": {
             "outlinewidth": 0,
             "ticks": ""
            },
            "type": "contourcarpet"
           }
          ],
          "heatmap": [
           {
            "colorbar": {
             "outlinewidth": 0,
             "ticks": ""
            },
            "colorscale": [
             [
              0,
              "#0d0887"
             ],
             [
              0.1111111111111111,
              "#46039f"
             ],
             [
              0.2222222222222222,
              "#7201a8"
             ],
             [
              0.3333333333333333,
              "#9c179e"
             ],
             [
              0.4444444444444444,
              "#bd3786"
             ],
             [
              0.5555555555555556,
              "#d8576b"
             ],
             [
              0.6666666666666666,
              "#ed7953"
             ],
             [
              0.7777777777777778,
              "#fb9f3a"
             ],
             [
              0.8888888888888888,
              "#fdca26"
             ],
             [
              1,
              "#f0f921"
             ]
            ],
            "type": "heatmap"
           }
          ],
          "heatmapgl": [
           {
            "colorbar": {
             "outlinewidth": 0,
             "ticks": ""
            },
            "colorscale": [
             [
              0,
              "#0d0887"
             ],
             [
              0.1111111111111111,
              "#46039f"
             ],
             [
              0.2222222222222222,
              "#7201a8"
             ],
             [
              0.3333333333333333,
              "#9c179e"
             ],
             [
              0.4444444444444444,
              "#bd3786"
             ],
             [
              0.5555555555555556,
              "#d8576b"
             ],
             [
              0.6666666666666666,
              "#ed7953"
             ],
             [
              0.7777777777777778,
              "#fb9f3a"
             ],
             [
              0.8888888888888888,
              "#fdca26"
             ],
             [
              1,
              "#f0f921"
             ]
            ],
            "type": "heatmapgl"
           }
          ],
          "histogram": [
           {
            "marker": {
             "pattern": {
              "fillmode": "overlay",
              "size": 10,
              "solidity": 0.2
             }
            },
            "type": "histogram"
           }
          ],
          "histogram2d": [
           {
            "colorbar": {
             "outlinewidth": 0,
             "ticks": ""
            },
            "colorscale": [
             [
              0,
              "#0d0887"
             ],
             [
              0.1111111111111111,
              "#46039f"
             ],
             [
              0.2222222222222222,
              "#7201a8"
             ],
             [
              0.3333333333333333,
              "#9c179e"
             ],
             [
              0.4444444444444444,
              "#bd3786"
             ],
             [
              0.5555555555555556,
              "#d8576b"
             ],
             [
              0.6666666666666666,
              "#ed7953"
             ],
             [
              0.7777777777777778,
              "#fb9f3a"
             ],
             [
              0.8888888888888888,
              "#fdca26"
             ],
             [
              1,
              "#f0f921"
             ]
            ],
            "type": "histogram2d"
           }
          ],
          "histogram2dcontour": [
           {
            "colorbar": {
             "outlinewidth": 0,
             "ticks": ""
            },
            "colorscale": [
             [
              0,
              "#0d0887"
             ],
             [
              0.1111111111111111,
              "#46039f"
             ],
             [
              0.2222222222222222,
              "#7201a8"
             ],
             [
              0.3333333333333333,
              "#9c179e"
             ],
             [
              0.4444444444444444,
              "#bd3786"
             ],
             [
              0.5555555555555556,
              "#d8576b"
             ],
             [
              0.6666666666666666,
              "#ed7953"
             ],
             [
              0.7777777777777778,
              "#fb9f3a"
             ],
             [
              0.8888888888888888,
              "#fdca26"
             ],
             [
              1,
              "#f0f921"
             ]
            ],
            "type": "histogram2dcontour"
           }
          ],
          "mesh3d": [
           {
            "colorbar": {
             "outlinewidth": 0,
             "ticks": ""
            },
            "type": "mesh3d"
           }
          ],
          "parcoords": [
           {
            "line": {
             "colorbar": {
              "outlinewidth": 0,
              "ticks": ""
             }
            },
            "type": "parcoords"
           }
          ],
          "pie": [
           {
            "automargin": true,
            "type": "pie"
           }
          ],
          "scatter": [
           {
            "marker": {
             "colorbar": {
              "outlinewidth": 0,
              "ticks": ""
             }
            },
            "type": "scatter"
           }
          ],
          "scatter3d": [
           {
            "line": {
             "colorbar": {
              "outlinewidth": 0,
              "ticks": ""
             }
            },
            "marker": {
             "colorbar": {
              "outlinewidth": 0,
              "ticks": ""
             }
            },
            "type": "scatter3d"
           }
          ],
          "scattercarpet": [
           {
            "marker": {
             "colorbar": {
              "outlinewidth": 0,
              "ticks": ""
             }
            },
            "type": "scattercarpet"
           }
          ],
          "scattergeo": [
           {
            "marker": {
             "colorbar": {
              "outlinewidth": 0,
              "ticks": ""
             }
            },
            "type": "scattergeo"
           }
          ],
          "scattergl": [
           {
            "marker": {
             "colorbar": {
              "outlinewidth": 0,
              "ticks": ""
             }
            },
            "type": "scattergl"
           }
          ],
          "scattermapbox": [
           {
            "marker": {
             "colorbar": {
              "outlinewidth": 0,
              "ticks": ""
             }
            },
            "type": "scattermapbox"
           }
          ],
          "scatterpolar": [
           {
            "marker": {
             "colorbar": {
              "outlinewidth": 0,
              "ticks": ""
             }
            },
            "type": "scatterpolar"
           }
          ],
          "scatterpolargl": [
           {
            "marker": {
             "colorbar": {
              "outlinewidth": 0,
              "ticks": ""
             }
            },
            "type": "scatterpolargl"
           }
          ],
          "scatterternary": [
           {
            "marker": {
             "colorbar": {
              "outlinewidth": 0,
              "ticks": ""
             }
            },
            "type": "scatterternary"
           }
          ],
          "surface": [
           {
            "colorbar": {
             "outlinewidth": 0,
             "ticks": ""
            },
            "colorscale": [
             [
              0,
              "#0d0887"
             ],
             [
              0.1111111111111111,
              "#46039f"
             ],
             [
              0.2222222222222222,
              "#7201a8"
             ],
             [
              0.3333333333333333,
              "#9c179e"
             ],
             [
              0.4444444444444444,
              "#bd3786"
             ],
             [
              0.5555555555555556,
              "#d8576b"
             ],
             [
              0.6666666666666666,
              "#ed7953"
             ],
             [
              0.7777777777777778,
              "#fb9f3a"
             ],
             [
              0.8888888888888888,
              "#fdca26"
             ],
             [
              1,
              "#f0f921"
             ]
            ],
            "type": "surface"
           }
          ],
          "table": [
           {
            "cells": {
             "fill": {
              "color": "#EBF0F8"
             },
             "line": {
              "color": "white"
             }
            },
            "header": {
             "fill": {
              "color": "#C8D4E3"
             },
             "line": {
              "color": "white"
             }
            },
            "type": "table"
           }
          ]
         },
         "layout": {
          "annotationdefaults": {
           "arrowcolor": "#2a3f5f",
           "arrowhead": 0,
           "arrowwidth": 1
          },
          "autotypenumbers": "strict",
          "coloraxis": {
           "colorbar": {
            "outlinewidth": 0,
            "ticks": ""
           }
          },
          "colorscale": {
           "diverging": [
            [
             0,
             "#8e0152"
            ],
            [
             0.1,
             "#c51b7d"
            ],
            [
             0.2,
             "#de77ae"
            ],
            [
             0.3,
             "#f1b6da"
            ],
            [
             0.4,
             "#fde0ef"
            ],
            [
             0.5,
             "#f7f7f7"
            ],
            [
             0.6,
             "#e6f5d0"
            ],
            [
             0.7,
             "#b8e186"
            ],
            [
             0.8,
             "#7fbc41"
            ],
            [
             0.9,
             "#4d9221"
            ],
            [
             1,
             "#276419"
            ]
           ],
           "sequential": [
            [
             0,
             "#0d0887"
            ],
            [
             0.1111111111111111,
             "#46039f"
            ],
            [
             0.2222222222222222,
             "#7201a8"
            ],
            [
             0.3333333333333333,
             "#9c179e"
            ],
            [
             0.4444444444444444,
             "#bd3786"
            ],
            [
             0.5555555555555556,
             "#d8576b"
            ],
            [
             0.6666666666666666,
             "#ed7953"
            ],
            [
             0.7777777777777778,
             "#fb9f3a"
            ],
            [
             0.8888888888888888,
             "#fdca26"
            ],
            [
             1,
             "#f0f921"
            ]
           ],
           "sequentialminus": [
            [
             0,
             "#0d0887"
            ],
            [
             0.1111111111111111,
             "#46039f"
            ],
            [
             0.2222222222222222,
             "#7201a8"
            ],
            [
             0.3333333333333333,
             "#9c179e"
            ],
            [
             0.4444444444444444,
             "#bd3786"
            ],
            [
             0.5555555555555556,
             "#d8576b"
            ],
            [
             0.6666666666666666,
             "#ed7953"
            ],
            [
             0.7777777777777778,
             "#fb9f3a"
            ],
            [
             0.8888888888888888,
             "#fdca26"
            ],
            [
             1,
             "#f0f921"
            ]
           ]
          },
          "colorway": [
           "#636efa",
           "#EF553B",
           "#00cc96",
           "#ab63fa",
           "#FFA15A",
           "#19d3f3",
           "#FF6692",
           "#B6E880",
           "#FF97FF",
           "#FECB52"
          ],
          "font": {
           "color": "#2a3f5f"
          },
          "geo": {
           "bgcolor": "white",
           "lakecolor": "white",
           "landcolor": "#E5ECF6",
           "showlakes": true,
           "showland": true,
           "subunitcolor": "white"
          },
          "hoverlabel": {
           "align": "left"
          },
          "hovermode": "closest",
          "mapbox": {
           "style": "light"
          },
          "paper_bgcolor": "white",
          "plot_bgcolor": "#E5ECF6",
          "polar": {
           "angularaxis": {
            "gridcolor": "white",
            "linecolor": "white",
            "ticks": ""
           },
           "bgcolor": "#E5ECF6",
           "radialaxis": {
            "gridcolor": "white",
            "linecolor": "white",
            "ticks": ""
           }
          },
          "scene": {
           "xaxis": {
            "backgroundcolor": "#E5ECF6",
            "gridcolor": "white",
            "gridwidth": 2,
            "linecolor": "white",
            "showbackground": true,
            "ticks": "",
            "zerolinecolor": "white"
           },
           "yaxis": {
            "backgroundcolor": "#E5ECF6",
            "gridcolor": "white",
            "gridwidth": 2,
            "linecolor": "white",
            "showbackground": true,
            "ticks": "",
            "zerolinecolor": "white"
           },
           "zaxis": {
            "backgroundcolor": "#E5ECF6",
            "gridcolor": "white",
            "gridwidth": 2,
            "linecolor": "white",
            "showbackground": true,
            "ticks": "",
            "zerolinecolor": "white"
           }
          },
          "shapedefaults": {
           "line": {
            "color": "#2a3f5f"
           }
          },
          "ternary": {
           "aaxis": {
            "gridcolor": "white",
            "linecolor": "white",
            "ticks": ""
           },
           "baxis": {
            "gridcolor": "white",
            "linecolor": "white",
            "ticks": ""
           },
           "bgcolor": "#E5ECF6",
           "caxis": {
            "gridcolor": "white",
            "linecolor": "white",
            "ticks": ""
           }
          },
          "title": {
           "x": 0.05
          },
          "xaxis": {
           "automargin": true,
           "gridcolor": "white",
           "linecolor": "white",
           "ticks": "",
           "title": {
            "standoff": 15
           },
           "zerolinecolor": "white",
           "zerolinewidth": 2
          },
          "yaxis": {
           "automargin": true,
           "gridcolor": "white",
           "linecolor": "white",
           "ticks": "",
           "title": {
            "standoff": 15
           },
           "zerolinecolor": "white",
           "zerolinewidth": 2
          }
         }
        },
        "title": {
         "text": "Воронка событий в разрезе  групп A и B"
        }
       }
      },
      "text/html": [
       "<div>                            <div id=\"71736eae-b084-482e-a9d7-ab02eeb48ad3\" class=\"plotly-graph-div\" style=\"height:525px; width:100%;\"></div>            <script type=\"text/javascript\">                require([\"plotly\"], function(Plotly) {                    window.PLOTLYENV=window.PLOTLYENV || {};                                    if (document.getElementById(\"71736eae-b084-482e-a9d7-ab02eeb48ad3\")) {                    Plotly.newPlot(                        \"71736eae-b084-482e-a9d7-ab02eeb48ad3\",                        [{\"name\":\"A\",\"textinfo\":\"value+percent previous\",\"textposition\":\"inside\",\"x\":[2422,1571,728,773],\"y\":[\"login\",\"product_page\",\"product_cart\",\"purchase\"],\"type\":\"funnel\"},{\"name\":\"B\",\"textinfo\":\"value+percent previous\",\"textposition\":\"inside\",\"x\":[821,459,225,226],\"y\":[\"login\",\"product_page\",\"product_cart\",\"purchase\"],\"type\":\"funnel\"}],                        {\"template\":{\"data\":{\"bar\":[{\"error_x\":{\"color\":\"#2a3f5f\"},\"error_y\":{\"color\":\"#2a3f5f\"},\"marker\":{\"line\":{\"color\":\"#E5ECF6\",\"width\":0.5},\"pattern\":{\"fillmode\":\"overlay\",\"size\":10,\"solidity\":0.2}},\"type\":\"bar\"}],\"barpolar\":[{\"marker\":{\"line\":{\"color\":\"#E5ECF6\",\"width\":0.5},\"pattern\":{\"fillmode\":\"overlay\",\"size\":10,\"solidity\":0.2}},\"type\":\"barpolar\"}],\"carpet\":[{\"aaxis\":{\"endlinecolor\":\"#2a3f5f\",\"gridcolor\":\"white\",\"linecolor\":\"white\",\"minorgridcolor\":\"white\",\"startlinecolor\":\"#2a3f5f\"},\"baxis\":{\"endlinecolor\":\"#2a3f5f\",\"gridcolor\":\"white\",\"linecolor\":\"white\",\"minorgridcolor\":\"white\",\"startlinecolor\":\"#2a3f5f\"},\"type\":\"carpet\"}],\"choropleth\":[{\"colorbar\":{\"outlinewidth\":0,\"ticks\":\"\"},\"type\":\"choropleth\"}],\"contour\":[{\"colorbar\":{\"outlinewidth\":0,\"ticks\":\"\"},\"colorscale\":[[0.0,\"#0d0887\"],[0.1111111111111111,\"#46039f\"],[0.2222222222222222,\"#7201a8\"],[0.3333333333333333,\"#9c179e\"],[0.4444444444444444,\"#bd3786\"],[0.5555555555555556,\"#d8576b\"],[0.6666666666666666,\"#ed7953\"],[0.7777777777777778,\"#fb9f3a\"],[0.8888888888888888,\"#fdca26\"],[1.0,\"#f0f921\"]],\"type\":\"contour\"}],\"contourcarpet\":[{\"colorbar\":{\"outlinewidth\":0,\"ticks\":\"\"},\"type\":\"contourcarpet\"}],\"heatmap\":[{\"colorbar\":{\"outlinewidth\":0,\"ticks\":\"\"},\"colorscale\":[[0.0,\"#0d0887\"],[0.1111111111111111,\"#46039f\"],[0.2222222222222222,\"#7201a8\"],[0.3333333333333333,\"#9c179e\"],[0.4444444444444444,\"#bd3786\"],[0.5555555555555556,\"#d8576b\"],[0.6666666666666666,\"#ed7953\"],[0.7777777777777778,\"#fb9f3a\"],[0.8888888888888888,\"#fdca26\"],[1.0,\"#f0f921\"]],\"type\":\"heatmap\"}],\"heatmapgl\":[{\"colorbar\":{\"outlinewidth\":0,\"ticks\":\"\"},\"colorscale\":[[0.0,\"#0d0887\"],[0.1111111111111111,\"#46039f\"],[0.2222222222222222,\"#7201a8\"],[0.3333333333333333,\"#9c179e\"],[0.4444444444444444,\"#bd3786\"],[0.5555555555555556,\"#d8576b\"],[0.6666666666666666,\"#ed7953\"],[0.7777777777777778,\"#fb9f3a\"],[0.8888888888888888,\"#fdca26\"],[1.0,\"#f0f921\"]],\"type\":\"heatmapgl\"}],\"histogram\":[{\"marker\":{\"pattern\":{\"fillmode\":\"overlay\",\"size\":10,\"solidity\":0.2}},\"type\":\"histogram\"}],\"histogram2d\":[{\"colorbar\":{\"outlinewidth\":0,\"ticks\":\"\"},\"colorscale\":[[0.0,\"#0d0887\"],[0.1111111111111111,\"#46039f\"],[0.2222222222222222,\"#7201a8\"],[0.3333333333333333,\"#9c179e\"],[0.4444444444444444,\"#bd3786\"],[0.5555555555555556,\"#d8576b\"],[0.6666666666666666,\"#ed7953\"],[0.7777777777777778,\"#fb9f3a\"],[0.8888888888888888,\"#fdca26\"],[1.0,\"#f0f921\"]],\"type\":\"histogram2d\"}],\"histogram2dcontour\":[{\"colorbar\":{\"outlinewidth\":0,\"ticks\":\"\"},\"colorscale\":[[0.0,\"#0d0887\"],[0.1111111111111111,\"#46039f\"],[0.2222222222222222,\"#7201a8\"],[0.3333333333333333,\"#9c179e\"],[0.4444444444444444,\"#bd3786\"],[0.5555555555555556,\"#d8576b\"],[0.6666666666666666,\"#ed7953\"],[0.7777777777777778,\"#fb9f3a\"],[0.8888888888888888,\"#fdca26\"],[1.0,\"#f0f921\"]],\"type\":\"histogram2dcontour\"}],\"mesh3d\":[{\"colorbar\":{\"outlinewidth\":0,\"ticks\":\"\"},\"type\":\"mesh3d\"}],\"parcoords\":[{\"line\":{\"colorbar\":{\"outlinewidth\":0,\"ticks\":\"\"}},\"type\":\"parcoords\"}],\"pie\":[{\"automargin\":true,\"type\":\"pie\"}],\"scatter\":[{\"marker\":{\"colorbar\":{\"outlinewidth\":0,\"ticks\":\"\"}},\"type\":\"scatter\"}],\"scatter3d\":[{\"line\":{\"colorbar\":{\"outlinewidth\":0,\"ticks\":\"\"}},\"marker\":{\"colorbar\":{\"outlinewidth\":0,\"ticks\":\"\"}},\"type\":\"scatter3d\"}],\"scattercarpet\":[{\"marker\":{\"colorbar\":{\"outlinewidth\":0,\"ticks\":\"\"}},\"type\":\"scattercarpet\"}],\"scattergeo\":[{\"marker\":{\"colorbar\":{\"outlinewidth\":0,\"ticks\":\"\"}},\"type\":\"scattergeo\"}],\"scattergl\":[{\"marker\":{\"colorbar\":{\"outlinewidth\":0,\"ticks\":\"\"}},\"type\":\"scattergl\"}],\"scattermapbox\":[{\"marker\":{\"colorbar\":{\"outlinewidth\":0,\"ticks\":\"\"}},\"type\":\"scattermapbox\"}],\"scatterpolar\":[{\"marker\":{\"colorbar\":{\"outlinewidth\":0,\"ticks\":\"\"}},\"type\":\"scatterpolar\"}],\"scatterpolargl\":[{\"marker\":{\"colorbar\":{\"outlinewidth\":0,\"ticks\":\"\"}},\"type\":\"scatterpolargl\"}],\"scatterternary\":[{\"marker\":{\"colorbar\":{\"outlinewidth\":0,\"ticks\":\"\"}},\"type\":\"scatterternary\"}],\"surface\":[{\"colorbar\":{\"outlinewidth\":0,\"ticks\":\"\"},\"colorscale\":[[0.0,\"#0d0887\"],[0.1111111111111111,\"#46039f\"],[0.2222222222222222,\"#7201a8\"],[0.3333333333333333,\"#9c179e\"],[0.4444444444444444,\"#bd3786\"],[0.5555555555555556,\"#d8576b\"],[0.6666666666666666,\"#ed7953\"],[0.7777777777777778,\"#fb9f3a\"],[0.8888888888888888,\"#fdca26\"],[1.0,\"#f0f921\"]],\"type\":\"surface\"}],\"table\":[{\"cells\":{\"fill\":{\"color\":\"#EBF0F8\"},\"line\":{\"color\":\"white\"}},\"header\":{\"fill\":{\"color\":\"#C8D4E3\"},\"line\":{\"color\":\"white\"}},\"type\":\"table\"}]},\"layout\":{\"annotationdefaults\":{\"arrowcolor\":\"#2a3f5f\",\"arrowhead\":0,\"arrowwidth\":1},\"autotypenumbers\":\"strict\",\"coloraxis\":{\"colorbar\":{\"outlinewidth\":0,\"ticks\":\"\"}},\"colorscale\":{\"diverging\":[[0,\"#8e0152\"],[0.1,\"#c51b7d\"],[0.2,\"#de77ae\"],[0.3,\"#f1b6da\"],[0.4,\"#fde0ef\"],[0.5,\"#f7f7f7\"],[0.6,\"#e6f5d0\"],[0.7,\"#b8e186\"],[0.8,\"#7fbc41\"],[0.9,\"#4d9221\"],[1,\"#276419\"]],\"sequential\":[[0.0,\"#0d0887\"],[0.1111111111111111,\"#46039f\"],[0.2222222222222222,\"#7201a8\"],[0.3333333333333333,\"#9c179e\"],[0.4444444444444444,\"#bd3786\"],[0.5555555555555556,\"#d8576b\"],[0.6666666666666666,\"#ed7953\"],[0.7777777777777778,\"#fb9f3a\"],[0.8888888888888888,\"#fdca26\"],[1.0,\"#f0f921\"]],\"sequentialminus\":[[0.0,\"#0d0887\"],[0.1111111111111111,\"#46039f\"],[0.2222222222222222,\"#7201a8\"],[0.3333333333333333,\"#9c179e\"],[0.4444444444444444,\"#bd3786\"],[0.5555555555555556,\"#d8576b\"],[0.6666666666666666,\"#ed7953\"],[0.7777777777777778,\"#fb9f3a\"],[0.8888888888888888,\"#fdca26\"],[1.0,\"#f0f921\"]]},\"colorway\":[\"#636efa\",\"#EF553B\",\"#00cc96\",\"#ab63fa\",\"#FFA15A\",\"#19d3f3\",\"#FF6692\",\"#B6E880\",\"#FF97FF\",\"#FECB52\"],\"font\":{\"color\":\"#2a3f5f\"},\"geo\":{\"bgcolor\":\"white\",\"lakecolor\":\"white\",\"landcolor\":\"#E5ECF6\",\"showlakes\":true,\"showland\":true,\"subunitcolor\":\"white\"},\"hoverlabel\":{\"align\":\"left\"},\"hovermode\":\"closest\",\"mapbox\":{\"style\":\"light\"},\"paper_bgcolor\":\"white\",\"plot_bgcolor\":\"#E5ECF6\",\"polar\":{\"angularaxis\":{\"gridcolor\":\"white\",\"linecolor\":\"white\",\"ticks\":\"\"},\"bgcolor\":\"#E5ECF6\",\"radialaxis\":{\"gridcolor\":\"white\",\"linecolor\":\"white\",\"ticks\":\"\"}},\"scene\":{\"xaxis\":{\"backgroundcolor\":\"#E5ECF6\",\"gridcolor\":\"white\",\"gridwidth\":2,\"linecolor\":\"white\",\"showbackground\":true,\"ticks\":\"\",\"zerolinecolor\":\"white\"},\"yaxis\":{\"backgroundcolor\":\"#E5ECF6\",\"gridcolor\":\"white\",\"gridwidth\":2,\"linecolor\":\"white\",\"showbackground\":true,\"ticks\":\"\",\"zerolinecolor\":\"white\"},\"zaxis\":{\"backgroundcolor\":\"#E5ECF6\",\"gridcolor\":\"white\",\"gridwidth\":2,\"linecolor\":\"white\",\"showbackground\":true,\"ticks\":\"\",\"zerolinecolor\":\"white\"}},\"shapedefaults\":{\"line\":{\"color\":\"#2a3f5f\"}},\"ternary\":{\"aaxis\":{\"gridcolor\":\"white\",\"linecolor\":\"white\",\"ticks\":\"\"},\"baxis\":{\"gridcolor\":\"white\",\"linecolor\":\"white\",\"ticks\":\"\"},\"bgcolor\":\"#E5ECF6\",\"caxis\":{\"gridcolor\":\"white\",\"linecolor\":\"white\",\"ticks\":\"\"}},\"title\":{\"x\":0.05},\"xaxis\":{\"automargin\":true,\"gridcolor\":\"white\",\"linecolor\":\"white\",\"ticks\":\"\",\"title\":{\"standoff\":15},\"zerolinecolor\":\"white\",\"zerolinewidth\":2},\"yaxis\":{\"automargin\":true,\"gridcolor\":\"white\",\"linecolor\":\"white\",\"ticks\":\"\",\"title\":{\"standoff\":15},\"zerolinecolor\":\"white\",\"zerolinewidth\":2}}},\"title\":{\"text\":\"\\u0412\\u043e\\u0440\\u043e\\u043d\\u043a\\u0430 \\u0441\\u043e\\u0431\\u044b\\u0442\\u0438\\u0439 \\u0432 \\u0440\\u0430\\u0437\\u0440\\u0435\\u0437\\u0435  \\u0433\\u0440\\u0443\\u043f\\u043f A \\u0438 B\"}},                        {\"responsive\": true}                    ).then(function(){\n",
       "                            \n",
       "var gd = document.getElementById('71736eae-b084-482e-a9d7-ab02eeb48ad3');\n",
       "var x = new MutationObserver(function (mutations, observer) {{\n",
       "        var display = window.getComputedStyle(gd).display;\n",
       "        if (!display || display === 'none') {{\n",
       "            console.log([gd, 'removed!']);\n",
       "            Plotly.purge(gd);\n",
       "            observer.disconnect();\n",
       "        }}\n",
       "}});\n",
       "\n",
       "// Listen for the removal of the full notebook cells\n",
       "var notebookContainer = gd.closest('#notebook-container');\n",
       "if (notebookContainer) {{\n",
       "    x.observe(notebookContainer, {childList: true});\n",
       "}}\n",
       "\n",
       "// Listen for the clearing of the current output cell\n",
       "var outputEl = gd.closest('.output');\n",
       "if (outputEl) {{\n",
       "    x.observe(outputEl, {childList: true});\n",
       "}}\n",
       "\n",
       "                        })                };                });            </script>        </div>"
      ]
     },
     "metadata": {},
     "output_type": "display_data"
    }
   ],
   "source": [
    "fig = go.Figure()\n",
    "\n",
    "fig.add_trace(go.Funnel(name = 'A',\n",
    "                        y = funnel_group.query('group == \"A\"')['event_name'],\n",
    "                        x = funnel_group.query('group == \"A\"')['total_users'],\n",
    "                        textposition = 'inside',\n",
    "                        textinfo = 'value + percent previous'))\n",
    "\n",
    "fig.add_trace(go.Funnel(name = 'B',\n",
    "                        y = funnel_group.query('group == \"B\"')['event_name'],\n",
    "                        x = funnel_group.query('group == \"B\"')['total_users'],\n",
    "                        textposition = 'inside',\n",
    "                        textinfo = 'value + percent previous'))\n",
    "                      \n",
    "fig.update_layout(title_text='Воронка событий в разрезе  групп A и B')\n",
    "fig.show()"
   ]
  },
  {
   "cell_type": "markdown",
   "metadata": {},
   "source": [
    "#### Вывод\n",
    "Видим нарушение последовательности событий:\n",
    "Наша воронка выглядит:\n",
    "1. Авторизация\n",
    "2. Просмотр карточки товара\n",
    "3. Покупка\n",
    "4. Добавление в корзину\n",
    "\n",
    "Нарушена последовательность 3 и 4 действий, они должны быть в другой последовательности. Возможно существует возможность покупки товара без просмотра корзины. так же можем видеть снижение от регистрации к просмотру карточки товара с 65 в группе А до 56 в группе В . После введения новой рекомендательной системы процент покупок не увеличился, так же на это оказывает влияние малый размер тестовой группы."
   ]
  },
  {
   "cell_type": "markdown",
   "metadata": {},
   "source": [
    "<div class=\"alert alert-block alert-success\">✔️\n",
    "    \n",
    "\n",
    "__Комментарий от тимлида №1__\n",
    "\n",
    "Здорово, что заметил данный нюанс. Это может говорить о том, что на платформе нестрогая воронка продаж и можно приобрести продукт минуя некоторые этапы \n",
    "</div>"
   ]
  },
  {
   "cell_type": "markdown",
   "metadata": {},
   "source": [
    "### Какие особенности данных нужно учесть, прежде чем приступать к A/B-тестированию?"
   ]
  },
  {
   "cell_type": "markdown",
   "metadata": {},
   "source": [
    "1. Неравномерное распределение пользователей\n",
    "2. Невыполнение ТЗ по длительности проведения теста\n",
    "3. Период проведения теста совпадает с проведением параллельного теста\n",
    "4. Параллельно в регионе проходит рождественская промо акция.\n",
    "5. Планируемое количество участников ниже ТЗ\n",
    "6. Нарушение последовательности воронки\n",
    "7. Большое число неактивных пользователей попавших в группу В"
   ]
  },
  {
   "cell_type": "markdown",
   "metadata": {},
   "source": [
    "## A/B - тест"
   ]
  },
  {
   "cell_type": "markdown",
   "metadata": {},
   "source": [
    "<div class=\"alert alert-info\"> <b>Комментарии студента:</b>\n",
    "Сделал, добавил исправленную функцию ниже прошлой\n",
    "\n",
    "</div>"
   ]
  },
  {
   "cell_type": "markdown",
   "metadata": {},
   "source": [
    "**Чтобы снизить вероятность ложнопозитивного результата при множественном тестировании гипотез, применим метод Бонферони. Для этого поделим принятый уровень значимости (0.05) на число сравнений**\n",
    "\n",
    "H_0 - Нулевая гипотеза: есть основания считать доли равными\n",
    "\n",
    "H_1 - Отвергаем  нулевую гипотезу, нет оснований считать доли равными"
   ]
  },
  {
   "cell_type": "markdown",
   "metadata": {},
   "source": [
    "<div class=\"alert alert-block alert-success\">✔️\n",
    "    \n",
    "\n",
    "__Комментарий от тимлида __\n",
    "\n",
    "Верная интерпретация нулевой и альтернативной гипотез\n",
    "</div>"
   ]
  },
  {
   "cell_type": "code",
   "execution_count": 118,
   "metadata": {},
   "outputs": [],
   "source": [
    "def z_test(df1, df2, event, alpha, n):\n",
    "    '''    \n",
    "Функция принимает на вход два датафрейма с логами и по заданному событию попарно проверяет \n",
    "есть ли статистически значимая разница между долями пользователей, совершивших его в группе 1 и группе 2.\n",
    "\n",
    "Входные параметры:\n",
    "    - df1, df2 - датафреймы с логами\n",
    "    - event - событие\n",
    "    - alpfa - критический уровень статистической значимости\n",
    "    - n - поправка Боннферони для критического уровня статистической значимости \n",
    "    Если мы выполняем сразу 4 статистических теста в случае AB - теста (сравниваем A и B логи) и хотим использовать α = 0,05 для каждого теста, \n",
    "    поправка Бонферрони говорит нам, что мы должны использовать α  = 0,05/4\n",
    "    \n",
    "    ''' \n",
    "    \n",
    "    # критический уровень статистической значимости c поправкой Бонферрони\n",
    "    bonferroni_alpha = alpha / n\n",
    " \n",
    "    # число пользователей в группе 1 и группе 2:\n",
    "    n_users = np.array([df1['user_id'].nunique(), \n",
    "                        df2['user_id'].nunique()])\n",
    "\n",
    "    # число пользователей, совершивших событие в группе 1 и группе 2\n",
    "    success = np.array([df1[df1['event_name'] == event]['user_id'].nunique(), \n",
    "                        df2[df2['event_name'] == event]['user_id'].nunique()])\n",
    "\n",
    "    # пропорции успехов в группах:\n",
    "    p1 = success[0]/n_users[0]\n",
    "    p2 = success[1]/n_users[1]\n",
    "    \n",
    "    print(success[0], success[1], n_users[0],n_users[1])\n",
    "    \n",
    "    # пропорция успехов в комбинированном датасете:\n",
    "    p_combined = (success[0] + success[1]) / (n_users[0] + n_users[1])\n",
    "\n",
    "    # разница пропорций в датасетах\n",
    "    difference = p1 - p2 \n",
    "\n",
    "    # считаем статистику в ст.отклонениях стандартного нормального распределения\n",
    "    z_value = difference /  np.sqrt(p_combined * (1 - p_combined) * (1/n_users[0] + 1/n_users[1]))\n",
    "\n",
    "    # задаем стандартное нормальное распределение (среднее 0, ст.отклонение 1)\n",
    "    distr = st.norm(0, 1)  \n",
    "\n",
    "    p_value = (1 - distr.cdf(abs(z_value))) * 2   #тест двусторонний, удваиваем результат\n",
    "    \n",
    "    print('Событие:', event)\n",
    "    print('p-значение: ', p_value)\n",
    "\n",
    "    if p_value < bonferroni_alpha:\n",
    "        print('Отвергаем нулевую гипотезу: между долями есть разница')\n",
    "    else:\n",
    "        print(\n",
    "        'Не получилось отвергнуть нулевую гипотезу, нет оснований считать доли разными')"
   ]
  },
  {
   "cell_type": "markdown",
   "metadata": {},
   "source": [
    "<div class=\"alert alert-block alert-success\">✔️\n",
    "    \n",
    "\n",
    "__Комментарий от тимлида №1__\n",
    "\n",
    " \n",
    "\n",
    "Здорово, что ты знаешь о такого рода поправках и успешно используешь в своем проекте!\n",
    "    \n",
    "Также можно отметить, что с уменьшением уровня значимости, но уменьшается и мощность теста,  тем самым увеличивается вероятность ошибки второго рода. Такой вот компромисс\n",
    "\n",
    "Это довольно распространенная тема, поэтому рекомендую ознакомиться более подробно - https://youtu.be/qbbY7ubzDoE.\n",
    "\n",
    "</div>"
   ]
  },
  {
   "cell_type": "code",
   "execution_count": 115,
   "metadata": {},
   "outputs": [
    {
     "name": "stdout",
     "output_type": "stream",
     "text": [
      "773 226 2422 822\n",
      "Событие: purchase\n",
      "p-значение:  0.01764968717521609\n",
      "Не получилось отвергнуть нулевую гипотезу, нет оснований считать доли разными\n",
      "\n",
      "728 225 2422 822\n",
      "Событие: product_cart\n",
      "p-значение:  0.14412076974264498\n",
      "Не получилось отвергнуть нулевую гипотезу, нет оснований считать доли разными\n",
      "\n",
      "2422 821 2422 822\n",
      "Событие: login\n",
      "p-значение:  0.08601687380547407\n",
      "Не получилось отвергнуть нулевую гипотезу, нет оснований считать доли разными\n",
      "\n",
      "1571 459 2422 822\n",
      "Событие: product_page\n",
      "p-значение:  3.8415005565450855e-06\n",
      "Отвергаем нулевую гипотезу: между долями есть разница\n",
      "\n"
     ]
    }
   ],
   "source": [
    "for event in merge_table['event_name'].unique():\n",
    "    z_test(merge_table[merge_table['group'] == \"A\"], merge_table[merge_table['group'] == \"B\"], event, .05, 4)\n",
    "    print()"
   ]
  },
  {
   "cell_type": "code",
   "execution_count": 116,
   "metadata": {},
   "outputs": [],
   "source": [
    "def z_test(df1, df2, event, alpha, n):\n",
    "    '''    \n",
    "Функция принимает на вход два датафрейма с логами и по заданному событию попарно проверяет \n",
    "есть ли статистически значимая разница между долями пользователей, совершивших его в группе 1 и группе 2.\n",
    "\n",
    "Входные параметры:\n",
    "    - df1, df2 - датафреймы с логами\n",
    "    - event - событие\n",
    "    - alpfa - критический уровень статистической значимости\n",
    "    - n - поправка Боннферони для критического уровня статистической значимости \n",
    "    Если мы выполняем сразу 4 статистических теста в случае AB - теста (сравниваем A и B логи) и хотим использовать α = 0,05 для каждого теста, \n",
    "    поправка Бонферрони говорит нам, что мы должны использовать α  = 0,05/4\n",
    "    \n",
    "    ''' \n",
    "    \n",
    "    # критический уровень статистической значимости c поправкой Бонферрони\n",
    "    bonferroni_alpha = alpha / n\n",
    " \n",
    "    # число пользователей в группе 1 и группе 2:\n",
    "    n_users = np.array([df1['user_id'].nunique(), \n",
    "                        df2['user_id'].nunique()])\n",
    "\n",
    "    # число пользователей, совершивших событие в группе 1 и группе 2\n",
    "    success = np.array([df1[df1['event_name'] == event]['user_id'].nunique(), \n",
    "                        df2[df2['event_name'] == event]['user_id'].nunique()])\n",
    "\n",
    "    # пропорции успехов в группах:\n",
    "    p1 = success[0]/n_users[0]\n",
    "    p2 = success[1]/n_users[1]\n",
    "    \n",
    "    print(success[0], success[1], n_users[0],n_users[1])\n",
    "    \n",
    "    # пропорция успехов в комбинированном датасете:\n",
    "    p_combined = (success[0] + success[1]) / (n_users[0] + n_users[1])\n",
    "\n",
    "    # разница пропорций в датасетах\n",
    "    difference = p1 - p2 \n",
    "\n",
    "    # считаем статистику в ст.отклонениях стандартного нормального распределения\n",
    "    z_value = difference /  np.sqrt(p_combined * (1 - p_combined) * (1/n_users[0] + 1/n_users[1]))\n",
    "\n",
    "    # задаем стандартное нормальное распределение (среднее 0, ст.отклонение 1)\n",
    "    distr = st.norm(0, 1)  \n",
    "\n",
    "    p_value = (1 - distr.cdf(abs(z_value))) * 2   #тест двусторонний, удваиваем результат\n",
    "    \n",
    "    print('Событие:', event)\n",
    "    print('p-значение: ', p_value)\n",
    "\n",
    "    if p_value < bonferroni_alpha:\n",
    "        print(\"Отвергаем нулевую гипотезу между долями есть разница\")\n",
    "    else:\n",
    "        print(\"Не получилось отвергнуть нулевую гипотезу, доли равны\")"
   ]
  },
  {
   "cell_type": "code",
   "execution_count": 117,
   "metadata": {},
   "outputs": [
    {
     "name": "stdout",
     "output_type": "stream",
     "text": [
      "773 226 2422 822\n",
      "Событие: purchase\n",
      "p-значение:  0.01764968717521609\n",
      "Не получилось отвергнуть нулевую гипотезу, доли равны\n",
      "\n",
      "728 225 2422 822\n",
      "Событие: product_cart\n",
      "p-значение:  0.14412076974264498\n",
      "Не получилось отвергнуть нулевую гипотезу, доли равны\n",
      "\n",
      "2422 821 2422 822\n",
      "Событие: login\n",
      "p-значение:  0.08601687380547407\n",
      "Не получилось отвергнуть нулевую гипотезу, доли равны\n",
      "\n",
      "1571 459 2422 822\n",
      "Событие: product_page\n",
      "p-значение:  3.8415005565450855e-06\n",
      "Отвергаем нулевую гипотезу между долями есть разница\n",
      "\n"
     ]
    }
   ],
   "source": [
    "for event in merge_table['event_name'].unique():\n",
    "    z_test(merge_table[merge_table['group'] == \"A\"], merge_table[merge_table['group'] == \"B\"], event, .05, 4)\n",
    "    print()"
   ]
  },
  {
   "cell_type": "markdown",
   "metadata": {},
   "source": [
    "<div class=\"alert alert-block alert-success\">✔️\n",
    "    \n",
    "\n",
    "__Комментарий от тимлида №1__\n",
    "\n",
    "Методологически проверка гипотез проведена верно и наглядный вывод результатов\n",
    "</div>"
   ]
  },
  {
   "cell_type": "markdown",
   "metadata": {},
   "source": [
    "## Вывод"
   ]
  },
  {
   "cell_type": "markdown",
   "metadata": {},
   "source": [
    "**Вид данных**\n",
    "\n",
    "К вид данных на момент выгрузки достаточно хорошие, нет дубликатов, пропуски присутсвуют только в тех случаях  когда они обусловлены отсутсвием покупки, так как в столбце с пропусками содержатся значения при покупки.\n",
    "\n",
    "**Описание  данных ТЗ**\n",
    "\n",
    "Очень большое количество наружений ТЗ которые оказывают влияние на проведение теста:\n",
    "* Несоответствие выгруженных данных по событиям отсутсвуют данные за 31,1,2,3,4 число (потеряно 5 дней)\n",
    "* Пользователи были набраны согласно с ТЗ\n",
    "* Проведение нашего теста пересекается с проведением теста по изменению интерфейса, и пользователи с новым интерфейсам попали в наш тест\n",
    "* Количество новых пользователей меньше планируемого в 15%\n",
    "* Общее количество участников теста менее планируемых 6000\n",
    "* Преведение теста совпало со временем проведения промо акций к новому году\n",
    "* Активных пользователей в группе А оказалось больше чем в В в соотношениие 4/1\n",
    "1. Группа А Активный пользователей 2422\n",
    "2. Группа В Активный пользователей 822\n",
    "3. Группа А 3385 всего участников\n",
    "4. Группа В 2533 всего участников\n",
    "* Большая часть неактивных пользолвателей в группе В\n",
    "5. В распределении событий по дням можем заметить что соотношения группы В выше к группе А в первые дни нашего теста,с 7 по 13 число в дальнейшем можно заметить снижение соотношения. После 16 числа соотношение подает и сохраняетсч на низком уровне. Необходимо проверить наблюдались ли какие то ошибки в работе приложения для тестовой группы в эти дни.\n",
    "\n",
    "**Воронка событий в разрезе  групп A и B**\n",
    "\n",
    "1. Не отслеживается ожидаемая воронка событий: Авторизация -> Просмотр товара -> Просмотр корзины -> Покупка.\n",
    "\n",
    "2. В нашем случае воронка событий выглядит: Авторизация -> Просмотр товара -> Покупка -> Просмотр корзины. Для обеих тестовых групп\n",
    "\n",
    "Возможно существует возможность покупки товара через страницу просмотра товара, минуя просмотр корзины. \n",
    "\n",
    "\n",
    "3. По общей воронки без разделения на группы можно заметить , что:\n",
    "* наблюдаются  больие потери  на переходе от логирования к просмотру карточки\n",
    "* к просмотру корзины доходит только 29% пользователей\n",
    "* от логирования до покупки 31%\n",
    "\n",
    "4. Была исправлена последовательность воронки в разбивке по группам, можно заметить что:\n",
    "* В обеих группах переход от просмотра корзины к покупки, составлет более 100%\n",
    "* также потери в 53 % наблюдаются при переходе от просмотра карточки товара к просмотру корзины.\n",
    "\n",
    "В обоих случаях потери для  от перехода  Авторизация -> Просмотр товара составляют ≈ 40%, это может относиться к проблемами системы или неправильная робата алгоритмов предложения товара.\n",
    "\n",
    "**А/В Тест**\n",
    "\n",
    "Результатом проведения новой системы рекомендации должны были быть: за 14 дней с момента регистрации в системе пользователи покажут улучшение каждой метрики не менее, чем на 10%\n",
    "\n",
    "По результатам проведения А/В - теста\n",
    "\n",
    "* Событие: purchase\n",
    "Не получилось отвергнуть нулевую гипотезу, доли равны\n",
    "\n",
    "* Событие: product_cart\n",
    "Не получилось отвергнуть нулевую гипотезу, доли равны\n",
    "\n",
    "* Событие: login\n",
    "Не получилось отвергнуть нулевую гипотезу, доли равны\n",
    "\n",
    "* Событие: product_page\n",
    "Отвергаем нулевую гипотезу между долями есть разница\n",
    "\n",
    "Ожидаемые результаты не были достигнуты\n",
    "\n",
    "Таким образом, по имеющимся данным (которые нарушают ТЗ), новая рекомендательная система целевые метрики не улучшила.\n",
    "\n",
    "**Итог: Все вышеперечисленные факторы могут исказить результаты тестирования. Для чистоты эксперимента необходимо доработать механизм формирования тестовых групп и запустить тест заново, предварительно сверившись с календарём маркетинговых акций**"
   ]
  },
  {
   "cell_type": "markdown",
   "metadata": {},
   "source": [
    "<div class=\"alert alert-block alert-success\">✔️\n",
    "    \n",
    "\n",
    "__Комментарий от тимлида__\n",
    "\n",
    "От себя хочу порекомендовать тебе отличные источники про AB тестирование\n",
    "    \n",
    "- Книга Доверительное A/B тестирование | Рон Кохави (https://dmkpress.com/catalog/computer/software_development/978-5-97060-913-2/)\n",
    "- Как устроено A/B-тестирование в Авито (https://habr.com/ru/company/avito/blog/454164/)\n",
    "- Как улучшить ваши A/B-тесты: лайфхаки аналитиков Авито. Часть 1 (https://habr.com/ru/company/avito/blog/571094/)\n",
    "- Как улучшить ваши A/B-тесты: лайфхаки аналитиков Авито. Часть 2 (https://habr.com/ru/company/avito/blog/571096/)\n",
    "    \n",
    "---\n",
    "    \n",
    "\n",
    "всё чудно😊. Твой проект так и просится на github =)   \n",
    "    \n",
    "Поздравляю с успешным завершением проекта 😊👍\n",
    "</div>"
   ]
  }
 ],
 "metadata": {
  "ExecuteTimeLog": [
   {
    "duration": 1401,
    "start_time": "2023-02-19T16:41:55.075Z"
   },
   {
    "duration": 128,
    "start_time": "2023-02-19T16:47:58.790Z"
   },
   {
    "duration": 31,
    "start_time": "2023-02-19T16:49:12.122Z"
   },
   {
    "duration": 4,
    "start_time": "2023-02-19T16:49:13.921Z"
   },
   {
    "duration": 51,
    "start_time": "2023-02-19T16:49:14.061Z"
   },
   {
    "duration": 2077,
    "start_time": "2023-02-19T16:50:37.455Z"
   },
   {
    "duration": 13,
    "start_time": "2023-02-19T16:50:43.934Z"
   },
   {
    "duration": 14,
    "start_time": "2023-02-19T16:50:54.659Z"
   },
   {
    "duration": 11,
    "start_time": "2023-02-19T16:51:01.544Z"
   },
   {
    "duration": 8,
    "start_time": "2023-02-19T16:51:07.729Z"
   },
   {
    "duration": 11,
    "start_time": "2023-02-19T16:58:41.496Z"
   },
   {
    "duration": 8,
    "start_time": "2023-02-19T16:59:05.932Z"
   },
   {
    "duration": 11,
    "start_time": "2023-02-19T16:59:29.630Z"
   },
   {
    "duration": 102,
    "start_time": "2023-02-19T17:00:02.602Z"
   },
   {
    "duration": 94,
    "start_time": "2023-02-19T17:00:14.203Z"
   },
   {
    "duration": 112,
    "start_time": "2023-02-19T17:00:39.661Z"
   },
   {
    "duration": 111,
    "start_time": "2023-02-19T17:01:10.731Z"
   },
   {
    "duration": 51,
    "start_time": "2023-02-19T17:01:54.522Z"
   },
   {
    "duration": 116,
    "start_time": "2023-02-19T17:02:07.883Z"
   },
   {
    "duration": 73,
    "start_time": "2023-02-20T04:52:59.339Z"
   },
   {
    "duration": 1351,
    "start_time": "2023-02-20T04:53:06.866Z"
   },
   {
    "duration": 997,
    "start_time": "2023-02-20T04:53:08.219Z"
   },
   {
    "duration": 91,
    "start_time": "2023-02-20T04:53:12.859Z"
   },
   {
    "duration": 463,
    "start_time": "2023-02-20T04:53:17.267Z"
   },
   {
    "duration": 416,
    "start_time": "2023-02-20T04:53:55.232Z"
   },
   {
    "duration": 618,
    "start_time": "2023-02-20T04:59:51.310Z"
   },
   {
    "duration": 438,
    "start_time": "2023-02-20T05:00:02.415Z"
   },
   {
    "duration": 452,
    "start_time": "2023-02-20T05:00:14.165Z"
   },
   {
    "duration": 87,
    "start_time": "2023-02-20T05:01:19.519Z"
   },
   {
    "duration": 13,
    "start_time": "2023-02-20T05:01:34.424Z"
   },
   {
    "duration": 19,
    "start_time": "2023-02-20T05:01:42.662Z"
   },
   {
    "duration": 12,
    "start_time": "2023-02-20T05:01:51.110Z"
   },
   {
    "duration": 54,
    "start_time": "2023-02-20T05:01:57.685Z"
   },
   {
    "duration": 420,
    "start_time": "2023-02-20T05:04:58.953Z"
   },
   {
    "duration": 30,
    "start_time": "2023-02-20T09:30:15.418Z"
   },
   {
    "duration": 123,
    "start_time": "2023-02-20T09:30:53.686Z"
   },
   {
    "duration": 39,
    "start_time": "2023-02-20T09:31:04.318Z"
   },
   {
    "duration": 54,
    "start_time": "2023-02-20T09:31:10.853Z"
   },
   {
    "duration": 36,
    "start_time": "2023-02-20T09:36:52.297Z"
   },
   {
    "duration": 15,
    "start_time": "2023-02-20T09:38:08.603Z"
   },
   {
    "duration": 4,
    "start_time": "2023-02-20T09:38:17.410Z"
   },
   {
    "duration": 606,
    "start_time": "2023-02-20T09:38:17.416Z"
   },
   {
    "duration": 477,
    "start_time": "2023-02-20T09:38:18.024Z"
   },
   {
    "duration": 53,
    "start_time": "2023-02-20T09:38:18.502Z"
   },
   {
    "duration": 90,
    "start_time": "2023-02-20T09:38:18.557Z"
   },
   {
    "duration": 17,
    "start_time": "2023-02-20T09:38:18.648Z"
   },
   {
    "duration": 23,
    "start_time": "2023-02-20T09:38:27.157Z"
   },
   {
    "duration": 24,
    "start_time": "2023-02-20T09:39:34.413Z"
   },
   {
    "duration": 21,
    "start_time": "2023-02-20T09:39:38.551Z"
   },
   {
    "duration": 25,
    "start_time": "2023-02-20T09:39:53.611Z"
   },
   {
    "duration": 9,
    "start_time": "2023-02-20T09:40:05.392Z"
   },
   {
    "duration": 173,
    "start_time": "2023-02-20T09:40:11.055Z"
   },
   {
    "duration": 5,
    "start_time": "2023-02-20T09:40:13.305Z"
   },
   {
    "duration": 52,
    "start_time": "2023-02-20T09:40:25.177Z"
   },
   {
    "duration": 45,
    "start_time": "2023-02-20T09:40:32.428Z"
   },
   {
    "duration": 9,
    "start_time": "2023-02-20T09:42:21.888Z"
   },
   {
    "duration": 49,
    "start_time": "2023-02-20T09:42:31.871Z"
   },
   {
    "duration": 62,
    "start_time": "2023-02-20T09:43:00.006Z"
   },
   {
    "duration": 55,
    "start_time": "2023-02-20T09:43:04.191Z"
   },
   {
    "duration": 54,
    "start_time": "2023-02-20T09:43:18.003Z"
   },
   {
    "duration": 11,
    "start_time": "2023-02-20T09:43:22.163Z"
   },
   {
    "duration": 11,
    "start_time": "2023-02-20T09:50:51.782Z"
   },
   {
    "duration": 94,
    "start_time": "2023-02-20T09:51:09.688Z"
   },
   {
    "duration": 29,
    "start_time": "2023-02-20T09:51:12.759Z"
   },
   {
    "duration": 47,
    "start_time": "2023-02-20T09:51:25.651Z"
   },
   {
    "duration": 50,
    "start_time": "2023-02-20T09:53:14.759Z"
   },
   {
    "duration": 23,
    "start_time": "2023-02-20T09:53:19.920Z"
   },
   {
    "duration": 33,
    "start_time": "2023-02-20T09:53:42.893Z"
   },
   {
    "duration": 10,
    "start_time": "2023-02-20T10:39:17.612Z"
   },
   {
    "duration": 94,
    "start_time": "2023-02-20T10:39:59.205Z"
   },
   {
    "duration": 37,
    "start_time": "2023-02-20T10:40:04.680Z"
   },
   {
    "duration": 33,
    "start_time": "2023-02-20T10:40:08.570Z"
   },
   {
    "duration": 5,
    "start_time": "2023-02-20T11:43:36.200Z"
   },
   {
    "duration": 566,
    "start_time": "2023-02-20T11:43:36.566Z"
   },
   {
    "duration": 446,
    "start_time": "2023-02-20T11:43:58.964Z"
   },
   {
    "duration": 52,
    "start_time": "2023-02-20T11:44:13.472Z"
   },
   {
    "duration": 110,
    "start_time": "2023-02-20T11:45:05.575Z"
   },
   {
    "duration": 36,
    "start_time": "2023-02-20T11:45:38.762Z"
   },
   {
    "duration": 8,
    "start_time": "2023-02-20T11:46:25.287Z"
   },
   {
    "duration": 7,
    "start_time": "2023-02-20T13:07:39.960Z"
   },
   {
    "duration": 69,
    "start_time": "2023-02-20T13:08:38.846Z"
   },
   {
    "duration": 7,
    "start_time": "2023-02-20T13:08:54.212Z"
   },
   {
    "duration": 12,
    "start_time": "2023-02-20T13:15:11.453Z"
   },
   {
    "duration": 10,
    "start_time": "2023-02-20T13:16:09.840Z"
   },
   {
    "duration": 11,
    "start_time": "2023-02-20T13:16:16.530Z"
   },
   {
    "duration": 12,
    "start_time": "2023-02-20T13:17:17.157Z"
   },
   {
    "duration": 43,
    "start_time": "2023-02-20T13:18:09.351Z"
   },
   {
    "duration": 54,
    "start_time": "2023-02-20T13:18:14.292Z"
   },
   {
    "duration": 80,
    "start_time": "2023-02-20T13:18:53.247Z"
   },
   {
    "duration": 8,
    "start_time": "2023-02-20T13:19:29.297Z"
   },
   {
    "duration": 11,
    "start_time": "2023-02-20T13:19:33.882Z"
   },
   {
    "duration": 15,
    "start_time": "2023-02-20T13:20:11.403Z"
   },
   {
    "duration": 32,
    "start_time": "2023-02-20T13:32:16.572Z"
   },
   {
    "duration": 18,
    "start_time": "2023-02-20T13:33:36.547Z"
   },
   {
    "duration": 72,
    "start_time": "2023-02-20T13:34:22.951Z"
   },
   {
    "duration": 24,
    "start_time": "2023-02-20T13:34:48.149Z"
   },
   {
    "duration": 10,
    "start_time": "2023-02-20T13:34:59.372Z"
   },
   {
    "duration": 4,
    "start_time": "2023-02-20T13:43:33.520Z"
   },
   {
    "duration": 27,
    "start_time": "2023-02-20T13:45:28.197Z"
   },
   {
    "duration": 14,
    "start_time": "2023-02-20T13:45:58.448Z"
   },
   {
    "duration": 24,
    "start_time": "2023-02-20T13:47:24.855Z"
   },
   {
    "duration": 19,
    "start_time": "2023-02-20T13:47:39.973Z"
   },
   {
    "duration": 23,
    "start_time": "2023-02-20T13:47:40.853Z"
   },
   {
    "duration": 4,
    "start_time": "2023-02-20T13:48:16.742Z"
   },
   {
    "duration": 25,
    "start_time": "2023-02-20T13:48:37.900Z"
   },
   {
    "duration": 40,
    "start_time": "2023-02-20T13:57:33.042Z"
   },
   {
    "duration": 10,
    "start_time": "2023-02-20T13:58:00.902Z"
   },
   {
    "duration": 3,
    "start_time": "2023-02-20T13:58:12.089Z"
   },
   {
    "duration": 9,
    "start_time": "2023-02-20T13:58:33.289Z"
   },
   {
    "duration": 22,
    "start_time": "2023-02-20T13:58:55.280Z"
   },
   {
    "duration": 9,
    "start_time": "2023-02-20T13:59:02.690Z"
   },
   {
    "duration": 12,
    "start_time": "2023-02-20T13:59:16.058Z"
   },
   {
    "duration": 6,
    "start_time": "2023-02-20T13:59:22.672Z"
   },
   {
    "duration": 13,
    "start_time": "2023-02-20T13:59:27.898Z"
   },
   {
    "duration": 15,
    "start_time": "2023-02-20T13:59:58.132Z"
   },
   {
    "duration": 6,
    "start_time": "2023-02-20T14:00:12.296Z"
   },
   {
    "duration": 15,
    "start_time": "2023-02-20T14:00:23.329Z"
   },
   {
    "duration": 54,
    "start_time": "2023-02-20T16:01:06.698Z"
   },
   {
    "duration": 1716,
    "start_time": "2023-02-20T16:01:10.992Z"
   },
   {
    "duration": 2599,
    "start_time": "2023-02-20T16:01:12.710Z"
   },
   {
    "duration": 786,
    "start_time": "2023-02-20T16:01:15.310Z"
   },
   {
    "duration": 93,
    "start_time": "2023-02-20T16:01:16.098Z"
   },
   {
    "duration": 0,
    "start_time": "2023-02-20T16:01:16.193Z"
   },
   {
    "duration": 0,
    "start_time": "2023-02-20T16:01:16.194Z"
   },
   {
    "duration": 0,
    "start_time": "2023-02-20T16:01:16.195Z"
   },
   {
    "duration": 0,
    "start_time": "2023-02-20T16:01:16.196Z"
   },
   {
    "duration": 0,
    "start_time": "2023-02-20T16:01:16.197Z"
   },
   {
    "duration": 0,
    "start_time": "2023-02-20T16:01:16.198Z"
   },
   {
    "duration": 0,
    "start_time": "2023-02-20T16:01:16.199Z"
   },
   {
    "duration": 0,
    "start_time": "2023-02-20T16:01:16.200Z"
   },
   {
    "duration": 0,
    "start_time": "2023-02-20T16:01:16.201Z"
   },
   {
    "duration": 0,
    "start_time": "2023-02-20T16:01:16.201Z"
   },
   {
    "duration": 3,
    "start_time": "2023-02-20T16:01:24.060Z"
   },
   {
    "duration": 803,
    "start_time": "2023-02-20T16:01:24.066Z"
   },
   {
    "duration": 492,
    "start_time": "2023-02-20T16:01:24.871Z"
   },
   {
    "duration": 8,
    "start_time": "2023-02-20T16:01:25.365Z"
   },
   {
    "duration": 0,
    "start_time": "2023-02-20T16:01:25.375Z"
   },
   {
    "duration": 0,
    "start_time": "2023-02-20T16:01:25.376Z"
   },
   {
    "duration": 0,
    "start_time": "2023-02-20T16:01:25.377Z"
   },
   {
    "duration": 0,
    "start_time": "2023-02-20T16:01:25.378Z"
   },
   {
    "duration": 0,
    "start_time": "2023-02-20T16:01:25.379Z"
   },
   {
    "duration": 1,
    "start_time": "2023-02-20T16:01:25.380Z"
   },
   {
    "duration": 0,
    "start_time": "2023-02-20T16:01:25.382Z"
   },
   {
    "duration": 0,
    "start_time": "2023-02-20T16:01:25.383Z"
   },
   {
    "duration": 0,
    "start_time": "2023-02-20T16:01:25.384Z"
   },
   {
    "duration": 0,
    "start_time": "2023-02-20T16:01:25.385Z"
   },
   {
    "duration": 130,
    "start_time": "2023-02-20T16:01:41.333Z"
   },
   {
    "duration": 71,
    "start_time": "2023-02-20T16:01:41.927Z"
   },
   {
    "duration": 142,
    "start_time": "2023-02-20T16:01:42.086Z"
   },
   {
    "duration": 24,
    "start_time": "2023-02-20T16:01:42.230Z"
   },
   {
    "duration": 10,
    "start_time": "2023-02-20T16:01:42.306Z"
   },
   {
    "duration": 72,
    "start_time": "2023-02-20T16:01:42.366Z"
   },
   {
    "duration": 41,
    "start_time": "2023-02-20T16:01:42.440Z"
   },
   {
    "duration": 12,
    "start_time": "2023-02-20T16:01:42.482Z"
   },
   {
    "duration": 15,
    "start_time": "2023-02-20T16:01:42.496Z"
   },
   {
    "duration": 39,
    "start_time": "2023-02-20T16:01:42.513Z"
   },
   {
    "duration": 162,
    "start_time": "2023-02-20T16:01:42.556Z"
   },
   {
    "duration": 4,
    "start_time": "2023-02-20T16:02:36.185Z"
   },
   {
    "duration": 32,
    "start_time": "2023-02-20T16:11:44.231Z"
   },
   {
    "duration": 41,
    "start_time": "2023-02-20T16:18:38.532Z"
   },
   {
    "duration": 25,
    "start_time": "2023-02-20T16:18:46.484Z"
   },
   {
    "duration": 4,
    "start_time": "2023-02-20T16:20:15.369Z"
   },
   {
    "duration": 3,
    "start_time": "2023-02-20T16:20:24.513Z"
   },
   {
    "duration": 16,
    "start_time": "2023-02-20T16:23:31.397Z"
   },
   {
    "duration": 12,
    "start_time": "2023-02-20T16:23:44.078Z"
   },
   {
    "duration": 15,
    "start_time": "2023-02-20T16:24:11.160Z"
   },
   {
    "duration": 23,
    "start_time": "2023-02-20T16:26:26.139Z"
   },
   {
    "duration": 78,
    "start_time": "2023-02-20T16:28:28.774Z"
   },
   {
    "duration": 33,
    "start_time": "2023-02-20T16:28:28.985Z"
   },
   {
    "duration": 6,
    "start_time": "2023-02-20T16:30:01.267Z"
   },
   {
    "duration": 16,
    "start_time": "2023-02-20T16:30:11.757Z"
   },
   {
    "duration": 18,
    "start_time": "2023-02-20T16:30:12.569Z"
   },
   {
    "duration": 3,
    "start_time": "2023-02-20T16:38:57.440Z"
   },
   {
    "duration": 16,
    "start_time": "2023-02-20T16:39:49.394Z"
   },
   {
    "duration": 6,
    "start_time": "2023-02-20T16:46:19.020Z"
   },
   {
    "duration": 12,
    "start_time": "2023-02-20T16:46:23.413Z"
   },
   {
    "duration": 17,
    "start_time": "2023-02-20T16:46:39.153Z"
   },
   {
    "duration": 15,
    "start_time": "2023-02-20T16:48:38.786Z"
   },
   {
    "duration": 17,
    "start_time": "2023-02-20T16:48:45.420Z"
   },
   {
    "duration": 24,
    "start_time": "2023-02-20T16:48:47.372Z"
   },
   {
    "duration": 6,
    "start_time": "2023-02-20T17:05:54.694Z"
   },
   {
    "duration": 13,
    "start_time": "2023-02-20T17:05:55.217Z"
   },
   {
    "duration": 3,
    "start_time": "2023-02-20T17:06:02.469Z"
   },
   {
    "duration": 571,
    "start_time": "2023-02-20T17:06:02.475Z"
   },
   {
    "duration": 454,
    "start_time": "2023-02-20T17:06:03.048Z"
   },
   {
    "duration": 115,
    "start_time": "2023-02-20T17:06:03.504Z"
   },
   {
    "duration": 91,
    "start_time": "2023-02-20T17:06:03.622Z"
   },
   {
    "duration": 144,
    "start_time": "2023-02-20T17:06:03.715Z"
   },
   {
    "duration": 8,
    "start_time": "2023-02-20T17:06:03.861Z"
   },
   {
    "duration": 23,
    "start_time": "2023-02-20T17:06:03.871Z"
   },
   {
    "duration": 92,
    "start_time": "2023-02-20T17:06:03.896Z"
   },
   {
    "duration": 31,
    "start_time": "2023-02-20T17:06:03.991Z"
   },
   {
    "duration": 19,
    "start_time": "2023-02-20T17:06:04.044Z"
   },
   {
    "duration": 6,
    "start_time": "2023-02-20T17:06:04.064Z"
   },
   {
    "duration": 28,
    "start_time": "2023-02-20T17:06:04.072Z"
   },
   {
    "duration": 45,
    "start_time": "2023-02-20T17:06:04.102Z"
   },
   {
    "duration": 24,
    "start_time": "2023-02-20T17:06:04.148Z"
   },
   {
    "duration": 772,
    "start_time": "2023-02-20T17:10:41.950Z"
   },
   {
    "duration": 22,
    "start_time": "2023-02-20T17:10:58.744Z"
   },
   {
    "duration": 5,
    "start_time": "2023-02-20T17:13:06.883Z"
   },
   {
    "duration": 5,
    "start_time": "2023-02-20T17:13:10.750Z"
   },
   {
    "duration": 4,
    "start_time": "2023-02-20T17:14:03.942Z"
   },
   {
    "duration": 8,
    "start_time": "2023-02-20T17:28:18.880Z"
   },
   {
    "duration": 5,
    "start_time": "2023-02-20T17:28:22.796Z"
   },
   {
    "duration": 662,
    "start_time": "2023-02-20T17:28:22.803Z"
   },
   {
    "duration": 517,
    "start_time": "2023-02-20T17:28:23.467Z"
   },
   {
    "duration": 97,
    "start_time": "2023-02-20T17:28:23.986Z"
   },
   {
    "duration": 86,
    "start_time": "2023-02-20T17:28:24.084Z"
   },
   {
    "duration": 149,
    "start_time": "2023-02-20T17:28:24.171Z"
   },
   {
    "duration": 7,
    "start_time": "2023-02-20T17:28:24.322Z"
   },
   {
    "duration": 12,
    "start_time": "2023-02-20T17:28:24.345Z"
   },
   {
    "duration": 93,
    "start_time": "2023-02-20T17:28:24.361Z"
   },
   {
    "duration": 32,
    "start_time": "2023-02-20T17:28:24.456Z"
   },
   {
    "duration": 17,
    "start_time": "2023-02-20T17:28:24.490Z"
   },
   {
    "duration": 12,
    "start_time": "2023-02-20T17:28:24.509Z"
   },
   {
    "duration": 40,
    "start_time": "2023-02-20T17:28:24.522Z"
   },
   {
    "duration": 29,
    "start_time": "2023-02-20T17:28:24.566Z"
   },
   {
    "duration": 62,
    "start_time": "2023-02-20T17:28:24.597Z"
   },
   {
    "duration": 23,
    "start_time": "2023-02-20T17:28:24.662Z"
   },
   {
    "duration": 6,
    "start_time": "2023-02-20T17:28:24.686Z"
   },
   {
    "duration": 1287,
    "start_time": "2023-02-20T17:32:02.426Z"
   },
   {
    "duration": 192,
    "start_time": "2023-02-20T17:33:51.363Z"
   },
   {
    "duration": 13,
    "start_time": "2023-02-20T17:33:52.391Z"
   },
   {
    "duration": 35,
    "start_time": "2023-02-20T17:33:53.522Z"
   },
   {
    "duration": 70,
    "start_time": "2023-02-20T17:34:09.488Z"
   },
   {
    "duration": 1018,
    "start_time": "2023-02-20T17:34:09.724Z"
   },
   {
    "duration": 0,
    "start_time": "2023-02-20T17:34:10.745Z"
   },
   {
    "duration": 5,
    "start_time": "2023-02-20T17:34:20.802Z"
   },
   {
    "duration": 759,
    "start_time": "2023-02-20T17:34:20.809Z"
   },
   {
    "duration": 587,
    "start_time": "2023-02-20T17:34:21.570Z"
   },
   {
    "duration": 136,
    "start_time": "2023-02-20T17:34:22.160Z"
   },
   {
    "duration": 104,
    "start_time": "2023-02-20T17:34:22.298Z"
   },
   {
    "duration": 168,
    "start_time": "2023-02-20T17:34:22.403Z"
   },
   {
    "duration": 10,
    "start_time": "2023-02-20T17:34:22.572Z"
   },
   {
    "duration": 13,
    "start_time": "2023-02-20T17:34:22.584Z"
   },
   {
    "duration": 156,
    "start_time": "2023-02-20T17:34:22.599Z"
   },
   {
    "duration": 30,
    "start_time": "2023-02-20T17:34:22.760Z"
   },
   {
    "duration": 17,
    "start_time": "2023-02-20T17:34:22.792Z"
   },
   {
    "duration": 6,
    "start_time": "2023-02-20T17:34:22.810Z"
   },
   {
    "duration": 62,
    "start_time": "2023-02-20T17:34:22.818Z"
   },
   {
    "duration": 22,
    "start_time": "2023-02-20T17:34:22.881Z"
   },
   {
    "duration": 21,
    "start_time": "2023-02-20T17:34:22.905Z"
   },
   {
    "duration": 44,
    "start_time": "2023-02-20T17:34:22.928Z"
   },
   {
    "duration": 4,
    "start_time": "2023-02-20T17:34:22.974Z"
   },
   {
    "duration": 205,
    "start_time": "2023-02-20T17:34:22.980Z"
   },
   {
    "duration": 14,
    "start_time": "2023-02-20T17:34:23.187Z"
   },
   {
    "duration": 34,
    "start_time": "2023-02-20T17:34:23.203Z"
   },
   {
    "duration": 79,
    "start_time": "2023-02-20T17:34:43.279Z"
   },
   {
    "duration": 84,
    "start_time": "2023-02-20T17:34:53.001Z"
   },
   {
    "duration": 27,
    "start_time": "2023-02-20T17:34:53.473Z"
   },
   {
    "duration": 25,
    "start_time": "2023-02-20T17:34:54.007Z"
   },
   {
    "duration": 24,
    "start_time": "2023-02-20T17:37:39.703Z"
   },
   {
    "duration": 22,
    "start_time": "2023-02-20T17:37:48.676Z"
   },
   {
    "duration": 21,
    "start_time": "2023-02-20T17:43:45.817Z"
   },
   {
    "duration": 28,
    "start_time": "2023-02-20T17:45:36.656Z"
   },
   {
    "duration": 28,
    "start_time": "2023-02-20T17:45:45.495Z"
   },
   {
    "duration": 53,
    "start_time": "2023-02-20T17:46:07.131Z"
   },
   {
    "duration": 28,
    "start_time": "2023-02-20T17:54:33.874Z"
   },
   {
    "duration": 5,
    "start_time": "2023-02-20T17:54:38.322Z"
   },
   {
    "duration": 916,
    "start_time": "2023-02-20T17:54:38.330Z"
   },
   {
    "duration": 806,
    "start_time": "2023-02-20T17:54:39.249Z"
   },
   {
    "duration": 163,
    "start_time": "2023-02-20T17:54:40.062Z"
   },
   {
    "duration": 129,
    "start_time": "2023-02-20T17:54:40.233Z"
   },
   {
    "duration": 289,
    "start_time": "2023-02-20T17:54:40.372Z"
   },
   {
    "duration": 23,
    "start_time": "2023-02-20T17:54:40.667Z"
   },
   {
    "duration": 38,
    "start_time": "2023-02-20T17:54:40.698Z"
   },
   {
    "duration": 253,
    "start_time": "2023-02-20T17:54:40.740Z"
   },
   {
    "duration": 61,
    "start_time": "2023-02-20T17:54:40.996Z"
   },
   {
    "duration": 40,
    "start_time": "2023-02-20T17:54:41.060Z"
   },
   {
    "duration": 67,
    "start_time": "2023-02-20T17:54:41.108Z"
   },
   {
    "duration": 85,
    "start_time": "2023-02-20T17:54:41.188Z"
   },
   {
    "duration": 58,
    "start_time": "2023-02-20T17:54:41.285Z"
   },
   {
    "duration": 120,
    "start_time": "2023-02-20T17:54:41.346Z"
   },
   {
    "duration": 102,
    "start_time": "2023-02-20T17:54:41.469Z"
   },
   {
    "duration": 64,
    "start_time": "2023-02-20T17:54:41.574Z"
   },
   {
    "duration": 417,
    "start_time": "2023-02-20T17:54:41.640Z"
   },
   {
    "duration": 33,
    "start_time": "2023-02-20T17:54:42.058Z"
   },
   {
    "duration": 14,
    "start_time": "2023-02-20T17:55:06.717Z"
   },
   {
    "duration": 28,
    "start_time": "2023-02-20T17:55:13.417Z"
   },
   {
    "duration": 19,
    "start_time": "2023-02-20T17:56:56.618Z"
   },
   {
    "duration": 13,
    "start_time": "2023-02-20T17:57:08.594Z"
   },
   {
    "duration": 5,
    "start_time": "2023-02-20T17:57:30.132Z"
   },
   {
    "duration": 752,
    "start_time": "2023-02-20T17:57:30.140Z"
   },
   {
    "duration": 598,
    "start_time": "2023-02-20T17:57:30.894Z"
   },
   {
    "duration": 112,
    "start_time": "2023-02-20T17:57:31.494Z"
   },
   {
    "duration": 99,
    "start_time": "2023-02-20T17:57:31.608Z"
   },
   {
    "duration": 197,
    "start_time": "2023-02-20T17:57:31.708Z"
   },
   {
    "duration": 9,
    "start_time": "2023-02-20T17:57:31.908Z"
   },
   {
    "duration": 39,
    "start_time": "2023-02-20T17:57:31.919Z"
   },
   {
    "duration": 116,
    "start_time": "2023-02-20T17:57:31.962Z"
   },
   {
    "duration": 45,
    "start_time": "2023-02-20T17:57:32.080Z"
   },
   {
    "duration": 40,
    "start_time": "2023-02-20T17:57:32.127Z"
   },
   {
    "duration": 16,
    "start_time": "2023-02-20T17:57:32.169Z"
   },
   {
    "duration": 23,
    "start_time": "2023-02-20T17:57:32.187Z"
   },
   {
    "duration": 40,
    "start_time": "2023-02-20T17:57:32.213Z"
   },
   {
    "duration": 33,
    "start_time": "2023-02-20T17:57:32.260Z"
   },
   {
    "duration": 50,
    "start_time": "2023-02-20T17:57:32.296Z"
   },
   {
    "duration": 6,
    "start_time": "2023-02-20T17:57:32.349Z"
   },
   {
    "duration": 249,
    "start_time": "2023-02-20T17:57:32.360Z"
   },
   {
    "duration": 12,
    "start_time": "2023-02-20T17:57:32.611Z"
   },
   {
    "duration": 24,
    "start_time": "2023-02-20T17:57:32.625Z"
   },
   {
    "duration": 15,
    "start_time": "2023-02-20T17:58:08.691Z"
   },
   {
    "duration": 19,
    "start_time": "2023-02-20T17:58:26.667Z"
   },
   {
    "duration": 11,
    "start_time": "2023-02-20T17:59:55.724Z"
   },
   {
    "duration": 19,
    "start_time": "2023-02-20T18:00:10.491Z"
   },
   {
    "duration": 16,
    "start_time": "2023-02-20T18:10:48.486Z"
   },
   {
    "duration": 17,
    "start_time": "2023-02-20T18:10:58.124Z"
   },
   {
    "duration": 18,
    "start_time": "2023-02-20T18:11:09.665Z"
   },
   {
    "duration": 19,
    "start_time": "2023-02-20T18:11:25.952Z"
   },
   {
    "duration": 21,
    "start_time": "2023-02-20T18:11:48.761Z"
   },
   {
    "duration": 11,
    "start_time": "2023-02-20T18:11:56.867Z"
   },
   {
    "duration": 13,
    "start_time": "2023-02-20T18:12:00.382Z"
   },
   {
    "duration": 10,
    "start_time": "2023-02-20T18:12:09.416Z"
   },
   {
    "duration": 13,
    "start_time": "2023-02-20T18:12:09.838Z"
   },
   {
    "duration": 5,
    "start_time": "2023-02-20T18:12:13.936Z"
   },
   {
    "duration": 692,
    "start_time": "2023-02-20T18:12:13.944Z"
   },
   {
    "duration": 567,
    "start_time": "2023-02-20T18:12:14.637Z"
   },
   {
    "duration": 117,
    "start_time": "2023-02-20T18:12:15.206Z"
   },
   {
    "duration": 92,
    "start_time": "2023-02-20T18:12:15.325Z"
   },
   {
    "duration": 194,
    "start_time": "2023-02-20T18:12:15.419Z"
   },
   {
    "duration": 12,
    "start_time": "2023-02-20T18:12:15.615Z"
   },
   {
    "duration": 44,
    "start_time": "2023-02-20T18:12:15.629Z"
   },
   {
    "duration": 101,
    "start_time": "2023-02-20T18:12:15.675Z"
   },
   {
    "duration": 39,
    "start_time": "2023-02-20T18:12:15.779Z"
   },
   {
    "duration": 39,
    "start_time": "2023-02-20T18:12:15.822Z"
   },
   {
    "duration": 26,
    "start_time": "2023-02-20T18:12:15.863Z"
   },
   {
    "duration": 26,
    "start_time": "2023-02-20T18:12:15.891Z"
   },
   {
    "duration": 21,
    "start_time": "2023-02-20T18:12:15.920Z"
   },
   {
    "duration": 32,
    "start_time": "2023-02-20T18:12:15.944Z"
   },
   {
    "duration": 40,
    "start_time": "2023-02-20T18:12:15.978Z"
   },
   {
    "duration": 45,
    "start_time": "2023-02-20T18:12:16.020Z"
   },
   {
    "duration": 202,
    "start_time": "2023-02-20T18:12:16.069Z"
   },
   {
    "duration": 14,
    "start_time": "2023-02-20T18:12:16.273Z"
   },
   {
    "duration": 21,
    "start_time": "2023-02-20T18:12:16.289Z"
   },
   {
    "duration": 12,
    "start_time": "2023-02-20T18:13:36.787Z"
   },
   {
    "duration": 4,
    "start_time": "2023-02-20T18:22:24.114Z"
   },
   {
    "duration": 32,
    "start_time": "2023-02-20T18:28:44.924Z"
   },
   {
    "duration": 63,
    "start_time": "2023-02-20T18:30:18.415Z"
   },
   {
    "duration": 39,
    "start_time": "2023-02-20T18:30:50.640Z"
   },
   {
    "duration": 38,
    "start_time": "2023-02-20T18:31:47.860Z"
   },
   {
    "duration": 48,
    "start_time": "2023-02-20T18:32:20.476Z"
   },
   {
    "duration": 46,
    "start_time": "2023-02-20T18:32:33.240Z"
   },
   {
    "duration": 4,
    "start_time": "2023-02-20T18:33:25.113Z"
   },
   {
    "duration": 611,
    "start_time": "2023-02-20T18:33:25.119Z"
   },
   {
    "duration": 561,
    "start_time": "2023-02-20T18:33:25.731Z"
   },
   {
    "duration": 119,
    "start_time": "2023-02-20T18:33:26.294Z"
   },
   {
    "duration": 99,
    "start_time": "2023-02-20T18:33:26.415Z"
   },
   {
    "duration": 168,
    "start_time": "2023-02-20T18:33:26.516Z"
   },
   {
    "duration": 9,
    "start_time": "2023-02-20T18:33:26.686Z"
   },
   {
    "duration": 12,
    "start_time": "2023-02-20T18:33:26.696Z"
   },
   {
    "duration": 114,
    "start_time": "2023-02-20T18:33:26.710Z"
   },
   {
    "duration": 49,
    "start_time": "2023-02-20T18:33:26.826Z"
   },
   {
    "duration": 22,
    "start_time": "2023-02-20T18:33:26.877Z"
   },
   {
    "duration": 7,
    "start_time": "2023-02-20T18:33:26.901Z"
   },
   {
    "duration": 55,
    "start_time": "2023-02-20T18:33:26.909Z"
   },
   {
    "duration": 25,
    "start_time": "2023-02-20T18:33:26.968Z"
   },
   {
    "duration": 22,
    "start_time": "2023-02-20T18:33:26.995Z"
   },
   {
    "duration": 52,
    "start_time": "2023-02-20T18:33:27.019Z"
   },
   {
    "duration": 10,
    "start_time": "2023-02-20T18:33:27.073Z"
   },
   {
    "duration": 196,
    "start_time": "2023-02-20T18:33:27.085Z"
   },
   {
    "duration": 10,
    "start_time": "2023-02-20T18:33:27.283Z"
   },
   {
    "duration": 13,
    "start_time": "2023-02-20T18:33:27.295Z"
   },
   {
    "duration": 57,
    "start_time": "2023-02-20T18:33:27.309Z"
   },
   {
    "duration": 42,
    "start_time": "2023-02-20T18:33:27.368Z"
   },
   {
    "duration": 37,
    "start_time": "2023-02-20T18:34:38.789Z"
   },
   {
    "duration": 25,
    "start_time": "2023-02-20T18:35:49.917Z"
   },
   {
    "duration": 46,
    "start_time": "2023-02-20T18:35:50.020Z"
   },
   {
    "duration": 4,
    "start_time": "2023-02-20T18:36:45.469Z"
   },
   {
    "duration": 37,
    "start_time": "2023-02-20T18:36:49.136Z"
   },
   {
    "duration": 7,
    "start_time": "2023-02-20T18:36:53.257Z"
   },
   {
    "duration": 562,
    "start_time": "2023-02-20T18:36:53.266Z"
   },
   {
    "duration": 480,
    "start_time": "2023-02-20T18:36:53.829Z"
   },
   {
    "duration": 117,
    "start_time": "2023-02-20T18:36:54.311Z"
   },
   {
    "duration": 83,
    "start_time": "2023-02-20T18:36:54.430Z"
   },
   {
    "duration": 169,
    "start_time": "2023-02-20T18:36:54.514Z"
   },
   {
    "duration": 8,
    "start_time": "2023-02-20T18:36:54.684Z"
   },
   {
    "duration": 10,
    "start_time": "2023-02-20T18:36:54.694Z"
   },
   {
    "duration": 98,
    "start_time": "2023-02-20T18:36:54.706Z"
   },
   {
    "duration": 27,
    "start_time": "2023-02-20T18:36:54.806Z"
   },
   {
    "duration": 20,
    "start_time": "2023-02-20T18:36:54.845Z"
   },
   {
    "duration": 7,
    "start_time": "2023-02-20T18:36:54.866Z"
   },
   {
    "duration": 19,
    "start_time": "2023-02-20T18:36:54.875Z"
   },
   {
    "duration": 53,
    "start_time": "2023-02-20T18:36:54.897Z"
   },
   {
    "duration": 31,
    "start_time": "2023-02-20T18:36:54.952Z"
   },
   {
    "duration": 22,
    "start_time": "2023-02-20T18:36:54.984Z"
   },
   {
    "duration": 4,
    "start_time": "2023-02-20T18:36:55.007Z"
   },
   {
    "duration": 201,
    "start_time": "2023-02-20T18:36:55.013Z"
   },
   {
    "duration": 11,
    "start_time": "2023-02-20T18:36:55.215Z"
   },
   {
    "duration": 46,
    "start_time": "2023-02-20T18:36:55.227Z"
   },
   {
    "duration": 25,
    "start_time": "2023-02-20T18:36:55.275Z"
   },
   {
    "duration": 0,
    "start_time": "2023-02-20T18:36:55.301Z"
   },
   {
    "duration": 21,
    "start_time": "2023-02-20T18:37:11.983Z"
   },
   {
    "duration": 39,
    "start_time": "2023-02-20T18:37:12.128Z"
   },
   {
    "duration": 30,
    "start_time": "2023-02-20T18:41:39.898Z"
   },
   {
    "duration": 48,
    "start_time": "2023-02-20T18:41:40.380Z"
   },
   {
    "duration": 163,
    "start_time": "2023-02-20T18:42:12.004Z"
   },
   {
    "duration": 20,
    "start_time": "2023-02-20T18:43:24.278Z"
   },
   {
    "duration": 23,
    "start_time": "2023-02-20T18:44:05.046Z"
   },
   {
    "duration": 18,
    "start_time": "2023-02-20T18:44:42.365Z"
   },
   {
    "duration": 25,
    "start_time": "2023-02-20T18:49:02.417Z"
   },
   {
    "duration": 20,
    "start_time": "2023-02-20T18:52:59.362Z"
   },
   {
    "duration": 137,
    "start_time": "2023-02-20T18:53:04.056Z"
   },
   {
    "duration": 36,
    "start_time": "2023-02-20T18:54:57.328Z"
   },
   {
    "duration": 23,
    "start_time": "2023-02-20T18:55:23.617Z"
   },
   {
    "duration": 20,
    "start_time": "2023-02-20T18:55:27.760Z"
   },
   {
    "duration": 50,
    "start_time": "2023-02-21T05:32:08.357Z"
   },
   {
    "duration": 1371,
    "start_time": "2023-02-21T05:32:18.080Z"
   },
   {
    "duration": 2007,
    "start_time": "2023-02-21T05:32:19.453Z"
   },
   {
    "duration": 486,
    "start_time": "2023-02-21T05:32:21.462Z"
   },
   {
    "duration": 94,
    "start_time": "2023-02-21T05:32:24.160Z"
   },
   {
    "duration": 66,
    "start_time": "2023-02-21T05:32:25.500Z"
   },
   {
    "duration": 132,
    "start_time": "2023-02-21T05:32:27.274Z"
   },
   {
    "duration": 9,
    "start_time": "2023-02-21T05:32:30.059Z"
   },
   {
    "duration": 11,
    "start_time": "2023-02-21T05:32:36.035Z"
   },
   {
    "duration": 69,
    "start_time": "2023-02-21T05:32:38.630Z"
   },
   {
    "duration": 26,
    "start_time": "2023-02-21T05:32:39.549Z"
   },
   {
    "duration": 16,
    "start_time": "2023-02-21T05:32:49.241Z"
   },
   {
    "duration": 14,
    "start_time": "2023-02-21T05:32:51.482Z"
   },
   {
    "duration": 23,
    "start_time": "2023-02-21T05:33:06.740Z"
   },
   {
    "duration": 67,
    "start_time": "2023-02-21T05:33:27.096Z"
   },
   {
    "duration": 10,
    "start_time": "2023-02-21T05:33:30.063Z"
   },
   {
    "duration": 30,
    "start_time": "2023-02-21T05:33:41.214Z"
   },
   {
    "duration": 14,
    "start_time": "2023-02-21T05:33:54.544Z"
   },
   {
    "duration": 15,
    "start_time": "2023-02-21T05:34:05.402Z"
   },
   {
    "duration": 14,
    "start_time": "2023-02-21T05:35:14.348Z"
   },
   {
    "duration": 11,
    "start_time": "2023-02-21T05:35:23.777Z"
   },
   {
    "duration": 17,
    "start_time": "2023-02-21T05:36:13.535Z"
   },
   {
    "duration": 24,
    "start_time": "2023-02-21T05:37:05.939Z"
   },
   {
    "duration": 13,
    "start_time": "2023-02-21T05:38:07.518Z"
   },
   {
    "duration": 48,
    "start_time": "2023-02-21T05:38:34.863Z"
   },
   {
    "duration": 4345,
    "start_time": "2023-02-21T05:38:43.271Z"
   },
   {
    "duration": 4393,
    "start_time": "2023-02-21T05:38:53.953Z"
   },
   {
    "duration": 4202,
    "start_time": "2023-02-21T05:39:02.673Z"
   },
   {
    "duration": 3992,
    "start_time": "2023-02-21T05:39:32.465Z"
   },
   {
    "duration": 8113,
    "start_time": "2023-02-21T05:39:47.426Z"
   },
   {
    "duration": 4007,
    "start_time": "2023-02-21T05:40:00.205Z"
   },
   {
    "duration": 16,
    "start_time": "2023-02-21T05:44:06.282Z"
   },
   {
    "duration": 4,
    "start_time": "2023-02-21T06:23:10.868Z"
   },
   {
    "duration": 4,
    "start_time": "2023-02-21T06:23:17.129Z"
   },
   {
    "duration": 39,
    "start_time": "2023-02-21T06:23:23.967Z"
   },
   {
    "duration": 25,
    "start_time": "2023-02-21T06:24:03.508Z"
   },
   {
    "duration": 6,
    "start_time": "2023-02-21T06:24:04.778Z"
   },
   {
    "duration": 23,
    "start_time": "2023-02-21T06:24:05.083Z"
   },
   {
    "duration": 23,
    "start_time": "2023-02-21T06:24:05.550Z"
   },
   {
    "duration": 25,
    "start_time": "2023-02-21T06:24:05.908Z"
   },
   {
    "duration": 34,
    "start_time": "2023-02-21T06:24:08.956Z"
   },
   {
    "duration": 8,
    "start_time": "2023-02-21T06:24:14.993Z"
   },
   {
    "duration": 32,
    "start_time": "2023-02-21T06:24:18.437Z"
   },
   {
    "duration": 46,
    "start_time": "2023-02-21T06:24:58.752Z"
   },
   {
    "duration": 20,
    "start_time": "2023-02-21T06:25:40.806Z"
   },
   {
    "duration": 4,
    "start_time": "2023-02-21T06:25:51.409Z"
   },
   {
    "duration": 30,
    "start_time": "2023-02-21T06:26:39.332Z"
   },
   {
    "duration": 4,
    "start_time": "2023-02-21T06:26:43.379Z"
   },
   {
    "duration": 16,
    "start_time": "2023-02-21T06:26:55.080Z"
   },
   {
    "duration": 4,
    "start_time": "2023-02-21T06:27:01.219Z"
   },
   {
    "duration": 23,
    "start_time": "2023-02-21T06:27:11.722Z"
   },
   {
    "duration": 4,
    "start_time": "2023-02-21T06:27:12.440Z"
   },
   {
    "duration": 4,
    "start_time": "2023-02-21T10:07:27.690Z"
   },
   {
    "duration": 34,
    "start_time": "2023-02-21T10:07:34.534Z"
   },
   {
    "duration": 26,
    "start_time": "2023-02-21T10:07:35.141Z"
   },
   {
    "duration": 11,
    "start_time": "2023-02-21T10:07:46.673Z"
   },
   {
    "duration": 12,
    "start_time": "2023-02-21T10:07:52.536Z"
   },
   {
    "duration": 895,
    "start_time": "2023-02-21T10:13:25.447Z"
   },
   {
    "duration": 0,
    "start_time": "2023-02-21T10:13:26.344Z"
   },
   {
    "duration": 251,
    "start_time": "2023-02-21T10:13:37.303Z"
   },
   {
    "duration": 14,
    "start_time": "2023-02-21T10:13:38.122Z"
   },
   {
    "duration": 33,
    "start_time": "2023-02-21T10:13:39.062Z"
   },
   {
    "duration": 17,
    "start_time": "2023-02-21T10:14:10.914Z"
   },
   {
    "duration": 1506,
    "start_time": "2023-02-21T10:16:01.353Z"
   },
   {
    "duration": 16,
    "start_time": "2023-02-21T10:16:10.838Z"
   },
   {
    "duration": 31,
    "start_time": "2023-02-21T10:16:15.489Z"
   },
   {
    "duration": 7,
    "start_time": "2023-02-21T10:17:42.770Z"
   },
   {
    "duration": 13,
    "start_time": "2023-02-21T10:17:42.887Z"
   },
   {
    "duration": 72,
    "start_time": "2023-02-21T10:17:49.065Z"
   },
   {
    "duration": 31,
    "start_time": "2023-02-21T10:17:50.067Z"
   },
   {
    "duration": 18,
    "start_time": "2023-02-21T10:18:08.569Z"
   },
   {
    "duration": 6,
    "start_time": "2023-02-21T10:18:15.542Z"
   },
   {
    "duration": 670,
    "start_time": "2023-02-21T10:18:15.551Z"
   },
   {
    "duration": 561,
    "start_time": "2023-02-21T10:18:16.223Z"
   },
   {
    "duration": 100,
    "start_time": "2023-02-21T10:18:16.787Z"
   },
   {
    "duration": 81,
    "start_time": "2023-02-21T10:18:16.889Z"
   },
   {
    "duration": 147,
    "start_time": "2023-02-21T10:18:16.972Z"
   },
   {
    "duration": 10,
    "start_time": "2023-02-21T10:18:17.121Z"
   },
   {
    "duration": 16,
    "start_time": "2023-02-21T10:18:17.153Z"
   },
   {
    "duration": 94,
    "start_time": "2023-02-21T10:18:17.171Z"
   },
   {
    "duration": 28,
    "start_time": "2023-02-21T10:18:17.268Z"
   },
   {
    "duration": 21,
    "start_time": "2023-02-21T10:18:17.298Z"
   },
   {
    "duration": 33,
    "start_time": "2023-02-21T10:18:17.321Z"
   },
   {
    "duration": 22,
    "start_time": "2023-02-21T10:18:17.358Z"
   },
   {
    "duration": 26,
    "start_time": "2023-02-21T10:18:17.382Z"
   },
   {
    "duration": 24,
    "start_time": "2023-02-21T10:18:17.410Z"
   },
   {
    "duration": 27,
    "start_time": "2023-02-21T10:18:17.452Z"
   },
   {
    "duration": 4,
    "start_time": "2023-02-21T10:18:17.480Z"
   },
   {
    "duration": 191,
    "start_time": "2023-02-21T10:18:17.485Z"
   },
   {
    "duration": 12,
    "start_time": "2023-02-21T10:18:17.678Z"
   },
   {
    "duration": 15,
    "start_time": "2023-02-21T10:18:17.692Z"
   },
   {
    "duration": 57,
    "start_time": "2023-02-21T10:18:17.709Z"
   },
   {
    "duration": 33,
    "start_time": "2023-02-21T10:18:17.768Z"
   },
   {
    "duration": 187,
    "start_time": "2023-02-21T10:18:17.802Z"
   },
   {
    "duration": 29,
    "start_time": "2023-02-21T10:19:45.936Z"
   },
   {
    "duration": 9,
    "start_time": "2023-02-21T10:20:10.526Z"
   },
   {
    "duration": 19,
    "start_time": "2023-02-21T10:20:53.325Z"
   },
   {
    "duration": 13,
    "start_time": "2023-02-21T10:21:01.677Z"
   },
   {
    "duration": 807,
    "start_time": "2023-02-21T10:21:03.140Z"
   },
   {
    "duration": 15,
    "start_time": "2023-02-21T10:21:07.890Z"
   },
   {
    "duration": 7,
    "start_time": "2023-02-21T10:21:09.667Z"
   },
   {
    "duration": 19,
    "start_time": "2023-02-21T10:21:10.115Z"
   },
   {
    "duration": 5,
    "start_time": "2023-02-21T10:21:13.634Z"
   },
   {
    "duration": 703,
    "start_time": "2023-02-21T10:21:13.641Z"
   },
   {
    "duration": 508,
    "start_time": "2023-02-21T10:21:14.346Z"
   },
   {
    "duration": 73,
    "start_time": "2023-02-21T10:21:14.859Z"
   },
   {
    "duration": 78,
    "start_time": "2023-02-21T10:21:14.934Z"
   },
   {
    "duration": 174,
    "start_time": "2023-02-21T10:21:15.013Z"
   },
   {
    "duration": 8,
    "start_time": "2023-02-21T10:21:15.189Z"
   },
   {
    "duration": 21,
    "start_time": "2023-02-21T10:21:15.199Z"
   },
   {
    "duration": 101,
    "start_time": "2023-02-21T10:21:15.222Z"
   },
   {
    "duration": 43,
    "start_time": "2023-02-21T10:21:15.325Z"
   },
   {
    "duration": 21,
    "start_time": "2023-02-21T10:21:15.370Z"
   },
   {
    "duration": 16,
    "start_time": "2023-02-21T10:21:15.393Z"
   },
   {
    "duration": 52,
    "start_time": "2023-02-21T10:21:15.411Z"
   },
   {
    "duration": 677,
    "start_time": "2023-02-21T10:21:15.467Z"
   },
   {
    "duration": 0,
    "start_time": "2023-02-21T10:21:16.146Z"
   },
   {
    "duration": 0,
    "start_time": "2023-02-21T10:21:16.147Z"
   },
   {
    "duration": 0,
    "start_time": "2023-02-21T10:21:16.148Z"
   },
   {
    "duration": 0,
    "start_time": "2023-02-21T10:21:16.149Z"
   },
   {
    "duration": 0,
    "start_time": "2023-02-21T10:21:16.155Z"
   },
   {
    "duration": 0,
    "start_time": "2023-02-21T10:21:16.158Z"
   },
   {
    "duration": 0,
    "start_time": "2023-02-21T10:21:16.159Z"
   },
   {
    "duration": 0,
    "start_time": "2023-02-21T10:21:16.160Z"
   },
   {
    "duration": 0,
    "start_time": "2023-02-21T10:21:16.161Z"
   },
   {
    "duration": 4,
    "start_time": "2023-02-21T10:21:47.370Z"
   },
   {
    "duration": 706,
    "start_time": "2023-02-21T10:21:47.377Z"
   },
   {
    "duration": 525,
    "start_time": "2023-02-21T10:21:48.084Z"
   },
   {
    "duration": 95,
    "start_time": "2023-02-21T10:21:48.611Z"
   },
   {
    "duration": 88,
    "start_time": "2023-02-21T10:21:48.709Z"
   },
   {
    "duration": 159,
    "start_time": "2023-02-21T10:21:48.799Z"
   },
   {
    "duration": 12,
    "start_time": "2023-02-21T10:21:48.960Z"
   },
   {
    "duration": 14,
    "start_time": "2023-02-21T10:21:48.974Z"
   },
   {
    "duration": 117,
    "start_time": "2023-02-21T10:21:48.991Z"
   },
   {
    "duration": 41,
    "start_time": "2023-02-21T10:21:49.110Z"
   },
   {
    "duration": 21,
    "start_time": "2023-02-21T10:21:49.166Z"
   },
   {
    "duration": 7,
    "start_time": "2023-02-21T10:21:49.188Z"
   },
   {
    "duration": 727,
    "start_time": "2023-02-21T10:21:49.197Z"
   },
   {
    "duration": 0,
    "start_time": "2023-02-21T10:21:49.927Z"
   },
   {
    "duration": 0,
    "start_time": "2023-02-21T10:21:49.928Z"
   },
   {
    "duration": 0,
    "start_time": "2023-02-21T10:21:49.929Z"
   },
   {
    "duration": 0,
    "start_time": "2023-02-21T10:21:49.931Z"
   },
   {
    "duration": 0,
    "start_time": "2023-02-21T10:21:49.932Z"
   },
   {
    "duration": 0,
    "start_time": "2023-02-21T10:21:49.934Z"
   },
   {
    "duration": 0,
    "start_time": "2023-02-21T10:21:49.936Z"
   },
   {
    "duration": 0,
    "start_time": "2023-02-21T10:21:49.938Z"
   },
   {
    "duration": 0,
    "start_time": "2023-02-21T10:21:49.939Z"
   },
   {
    "duration": 0,
    "start_time": "2023-02-21T10:21:49.940Z"
   },
   {
    "duration": 1161,
    "start_time": "2023-02-21T10:22:16.222Z"
   },
   {
    "duration": 7,
    "start_time": "2023-02-21T10:22:34.561Z"
   },
   {
    "duration": 658,
    "start_time": "2023-02-21T10:22:34.570Z"
   },
   {
    "duration": 565,
    "start_time": "2023-02-21T10:22:35.230Z"
   },
   {
    "duration": 109,
    "start_time": "2023-02-21T10:22:35.797Z"
   },
   {
    "duration": 95,
    "start_time": "2023-02-21T10:22:35.908Z"
   },
   {
    "duration": 154,
    "start_time": "2023-02-21T10:22:36.005Z"
   },
   {
    "duration": 9,
    "start_time": "2023-02-21T10:22:36.166Z"
   },
   {
    "duration": 21,
    "start_time": "2023-02-21T10:22:36.177Z"
   },
   {
    "duration": 108,
    "start_time": "2023-02-21T10:22:36.200Z"
   },
   {
    "duration": 59,
    "start_time": "2023-02-21T10:22:36.310Z"
   },
   {
    "duration": 32,
    "start_time": "2023-02-21T10:22:36.372Z"
   },
   {
    "duration": 7,
    "start_time": "2023-02-21T10:22:36.406Z"
   },
   {
    "duration": 39,
    "start_time": "2023-02-21T10:22:36.415Z"
   },
   {
    "duration": 28,
    "start_time": "2023-02-21T10:22:36.457Z"
   },
   {
    "duration": 28,
    "start_time": "2023-02-21T10:22:36.487Z"
   },
   {
    "duration": 55,
    "start_time": "2023-02-21T10:22:36.517Z"
   },
   {
    "duration": 5,
    "start_time": "2023-02-21T10:22:36.577Z"
   },
   {
    "duration": 268,
    "start_time": "2023-02-21T10:22:36.584Z"
   },
   {
    "duration": 13,
    "start_time": "2023-02-21T10:22:36.863Z"
   },
   {
    "duration": 15,
    "start_time": "2023-02-21T10:22:36.879Z"
   },
   {
    "duration": 20,
    "start_time": "2023-02-21T10:22:36.895Z"
   },
   {
    "duration": 53,
    "start_time": "2023-02-21T10:22:36.917Z"
   },
   {
    "duration": 24,
    "start_time": "2023-02-21T10:22:36.973Z"
   },
   {
    "duration": 5,
    "start_time": "2023-02-21T10:24:39.473Z"
   },
   {
    "duration": 716,
    "start_time": "2023-02-21T10:24:39.481Z"
   },
   {
    "duration": 577,
    "start_time": "2023-02-21T10:24:40.198Z"
   },
   {
    "duration": 145,
    "start_time": "2023-02-21T10:24:40.777Z"
   },
   {
    "duration": 105,
    "start_time": "2023-02-21T10:24:40.924Z"
   },
   {
    "duration": 152,
    "start_time": "2023-02-21T10:24:41.030Z"
   },
   {
    "duration": 11,
    "start_time": "2023-02-21T10:24:41.184Z"
   },
   {
    "duration": 24,
    "start_time": "2023-02-21T10:24:41.197Z"
   },
   {
    "duration": 117,
    "start_time": "2023-02-21T10:24:41.223Z"
   },
   {
    "duration": 40,
    "start_time": "2023-02-21T10:24:41.342Z"
   },
   {
    "duration": 27,
    "start_time": "2023-02-21T10:24:41.384Z"
   },
   {
    "duration": 31,
    "start_time": "2023-02-21T10:24:41.412Z"
   },
   {
    "duration": 40,
    "start_time": "2023-02-21T10:24:41.447Z"
   },
   {
    "duration": 683,
    "start_time": "2023-02-21T10:24:41.488Z"
   },
   {
    "duration": 0,
    "start_time": "2023-02-21T10:24:42.173Z"
   },
   {
    "duration": 0,
    "start_time": "2023-02-21T10:24:42.175Z"
   },
   {
    "duration": 0,
    "start_time": "2023-02-21T10:24:42.176Z"
   },
   {
    "duration": 0,
    "start_time": "2023-02-21T10:24:42.178Z"
   },
   {
    "duration": 0,
    "start_time": "2023-02-21T10:24:42.179Z"
   },
   {
    "duration": 0,
    "start_time": "2023-02-21T10:24:42.181Z"
   },
   {
    "duration": 0,
    "start_time": "2023-02-21T10:24:42.182Z"
   },
   {
    "duration": 0,
    "start_time": "2023-02-21T10:24:42.183Z"
   },
   {
    "duration": 0,
    "start_time": "2023-02-21T10:24:42.184Z"
   },
   {
    "duration": 787,
    "start_time": "2023-02-21T10:25:10.540Z"
   },
   {
    "duration": 30,
    "start_time": "2023-02-21T10:25:29.587Z"
   },
   {
    "duration": 4,
    "start_time": "2023-02-21T10:26:06.174Z"
   },
   {
    "duration": 819,
    "start_time": "2023-02-21T10:26:06.181Z"
   },
   {
    "duration": 597,
    "start_time": "2023-02-21T10:26:07.003Z"
   },
   {
    "duration": 121,
    "start_time": "2023-02-21T10:26:07.602Z"
   },
   {
    "duration": 142,
    "start_time": "2023-02-21T10:26:07.727Z"
   },
   {
    "duration": 188,
    "start_time": "2023-02-21T10:26:07.871Z"
   },
   {
    "duration": 12,
    "start_time": "2023-02-21T10:26:08.065Z"
   },
   {
    "duration": 12,
    "start_time": "2023-02-21T10:26:08.079Z"
   },
   {
    "duration": 106,
    "start_time": "2023-02-21T10:26:08.093Z"
   },
   {
    "duration": 34,
    "start_time": "2023-02-21T10:26:08.201Z"
   },
   {
    "duration": 37,
    "start_time": "2023-02-21T10:26:08.237Z"
   },
   {
    "duration": 24,
    "start_time": "2023-02-21T10:26:08.275Z"
   },
   {
    "duration": 28,
    "start_time": "2023-02-21T10:26:08.302Z"
   },
   {
    "duration": 39,
    "start_time": "2023-02-21T10:26:08.334Z"
   },
   {
    "duration": 21,
    "start_time": "2023-02-21T10:26:08.375Z"
   },
   {
    "duration": 24,
    "start_time": "2023-02-21T10:26:08.399Z"
   },
   {
    "duration": 25,
    "start_time": "2023-02-21T10:26:08.425Z"
   },
   {
    "duration": 290,
    "start_time": "2023-02-21T10:26:08.452Z"
   },
   {
    "duration": 25,
    "start_time": "2023-02-21T10:26:08.744Z"
   },
   {
    "duration": 33,
    "start_time": "2023-02-21T10:26:08.773Z"
   },
   {
    "duration": 23,
    "start_time": "2023-02-21T10:26:08.809Z"
   },
   {
    "duration": 37,
    "start_time": "2023-02-21T10:26:08.833Z"
   },
   {
    "duration": 27,
    "start_time": "2023-02-21T10:26:08.871Z"
   },
   {
    "duration": 5,
    "start_time": "2023-02-21T10:28:30.484Z"
   },
   {
    "duration": 691,
    "start_time": "2023-02-21T10:28:30.492Z"
   },
   {
    "duration": 581,
    "start_time": "2023-02-21T10:28:31.185Z"
   },
   {
    "duration": 101,
    "start_time": "2023-02-21T10:28:31.769Z"
   },
   {
    "duration": 91,
    "start_time": "2023-02-21T10:28:31.872Z"
   },
   {
    "duration": 169,
    "start_time": "2023-02-21T10:28:31.964Z"
   },
   {
    "duration": 21,
    "start_time": "2023-02-21T10:28:32.135Z"
   },
   {
    "duration": 32,
    "start_time": "2023-02-21T10:28:32.158Z"
   },
   {
    "duration": 141,
    "start_time": "2023-02-21T10:28:32.192Z"
   },
   {
    "duration": 42,
    "start_time": "2023-02-21T10:28:32.336Z"
   },
   {
    "duration": 54,
    "start_time": "2023-02-21T10:28:32.381Z"
   },
   {
    "duration": 32,
    "start_time": "2023-02-21T10:28:32.437Z"
   },
   {
    "duration": 6,
    "start_time": "2023-02-21T10:28:32.471Z"
   },
   {
    "duration": 28,
    "start_time": "2023-02-21T10:28:32.480Z"
   },
   {
    "duration": 20,
    "start_time": "2023-02-21T10:28:32.510Z"
   },
   {
    "duration": 38,
    "start_time": "2023-02-21T10:28:32.532Z"
   },
   {
    "duration": 42,
    "start_time": "2023-02-21T10:28:32.572Z"
   },
   {
    "duration": 4,
    "start_time": "2023-02-21T10:28:32.616Z"
   },
   {
    "duration": 201,
    "start_time": "2023-02-21T10:28:32.621Z"
   },
   {
    "duration": 26,
    "start_time": "2023-02-21T10:28:32.824Z"
   },
   {
    "duration": 21,
    "start_time": "2023-02-21T10:28:32.852Z"
   },
   {
    "duration": 24,
    "start_time": "2023-02-21T10:28:32.875Z"
   },
   {
    "duration": 51,
    "start_time": "2023-02-21T10:28:32.901Z"
   },
   {
    "duration": 20,
    "start_time": "2023-02-21T10:28:32.956Z"
   },
   {
    "duration": 789,
    "start_time": "2023-02-21T13:17:17.399Z"
   },
   {
    "duration": 20,
    "start_time": "2023-02-21T13:17:35.467Z"
   },
   {
    "duration": 18,
    "start_time": "2023-02-21T13:17:44.574Z"
   },
   {
    "duration": 866,
    "start_time": "2023-02-21T13:17:46.651Z"
   },
   {
    "duration": 13,
    "start_time": "2023-02-21T13:23:03.527Z"
   },
   {
    "duration": 47,
    "start_time": "2023-02-21T13:23:26.397Z"
   },
   {
    "duration": 13,
    "start_time": "2023-02-21T13:23:28.853Z"
   },
   {
    "duration": 15,
    "start_time": "2023-02-21T13:23:45.753Z"
   },
   {
    "duration": 15,
    "start_time": "2023-02-21T13:23:55.735Z"
   },
   {
    "duration": 348,
    "start_time": "2023-02-21T13:24:50.841Z"
   },
   {
    "duration": 201,
    "start_time": "2023-02-21T13:25:06.271Z"
   },
   {
    "duration": 29,
    "start_time": "2023-02-21T13:25:38.566Z"
   },
   {
    "duration": 29,
    "start_time": "2023-02-21T13:25:50.641Z"
   },
   {
    "duration": 199,
    "start_time": "2023-02-21T13:25:53.067Z"
   },
   {
    "duration": 27,
    "start_time": "2023-02-21T13:26:01.564Z"
   },
   {
    "duration": 195,
    "start_time": "2023-02-21T13:26:23.576Z"
   },
   {
    "duration": 206,
    "start_time": "2023-02-21T13:26:51.590Z"
   },
   {
    "duration": 223,
    "start_time": "2023-02-21T13:26:59.415Z"
   },
   {
    "duration": 161,
    "start_time": "2023-02-21T13:27:20.842Z"
   },
   {
    "duration": 270,
    "start_time": "2023-02-21T13:28:15.589Z"
   },
   {
    "duration": 211,
    "start_time": "2023-02-21T13:28:21.217Z"
   },
   {
    "duration": 256,
    "start_time": "2023-02-21T13:28:36.635Z"
   },
   {
    "duration": 265,
    "start_time": "2023-02-21T13:28:42.233Z"
   },
   {
    "duration": 26,
    "start_time": "2023-02-21T13:29:18.652Z"
   },
   {
    "duration": 1307,
    "start_time": "2023-02-21T13:30:55.289Z"
   },
   {
    "duration": 732,
    "start_time": "2023-02-21T13:30:56.598Z"
   },
   {
    "duration": 645,
    "start_time": "2023-02-21T13:30:57.332Z"
   },
   {
    "duration": 140,
    "start_time": "2023-02-21T13:30:57.980Z"
   },
   {
    "duration": 91,
    "start_time": "2023-02-21T13:30:58.122Z"
   },
   {
    "duration": 181,
    "start_time": "2023-02-21T13:30:58.215Z"
   },
   {
    "duration": 11,
    "start_time": "2023-02-21T13:30:58.398Z"
   },
   {
    "duration": 41,
    "start_time": "2023-02-21T13:30:58.411Z"
   },
   {
    "duration": 101,
    "start_time": "2023-02-21T13:30:58.454Z"
   },
   {
    "duration": 25,
    "start_time": "2023-02-21T13:30:58.557Z"
   },
   {
    "duration": 30,
    "start_time": "2023-02-21T13:30:58.584Z"
   },
   {
    "duration": 43,
    "start_time": "2023-02-21T13:30:58.615Z"
   },
   {
    "duration": 7,
    "start_time": "2023-02-21T13:30:58.663Z"
   },
   {
    "duration": 21,
    "start_time": "2023-02-21T13:30:58.672Z"
   },
   {
    "duration": 23,
    "start_time": "2023-02-21T13:30:58.695Z"
   },
   {
    "duration": 26,
    "start_time": "2023-02-21T13:30:58.750Z"
   },
   {
    "duration": 24,
    "start_time": "2023-02-21T13:30:58.778Z"
   },
   {
    "duration": 4,
    "start_time": "2023-02-21T13:30:58.804Z"
   },
   {
    "duration": 198,
    "start_time": "2023-02-21T13:30:58.810Z"
   },
   {
    "duration": 11,
    "start_time": "2023-02-21T13:30:59.011Z"
   },
   {
    "duration": 40,
    "start_time": "2023-02-21T13:30:59.024Z"
   },
   {
    "duration": 22,
    "start_time": "2023-02-21T13:30:59.066Z"
   },
   {
    "duration": 27,
    "start_time": "2023-02-21T13:30:59.090Z"
   },
   {
    "duration": 68965,
    "start_time": "2023-02-21T13:30:59.148Z"
   },
   {
    "duration": 38,
    "start_time": "2023-02-21T13:32:08.116Z"
   },
   {
    "duration": 150,
    "start_time": "2023-02-21T13:32:08.156Z"
   },
   {
    "duration": 70444,
    "start_time": "2023-02-21T13:32:49.901Z"
   },
   {
    "duration": 127,
    "start_time": "2023-02-21T13:34:48.089Z"
   },
   {
    "duration": 73596,
    "start_time": "2023-02-21T13:34:53.422Z"
   },
   {
    "duration": 9,
    "start_time": "2023-02-21T13:36:11.312Z"
   },
   {
    "duration": 12,
    "start_time": "2023-02-21T13:37:54.380Z"
   },
   {
    "duration": 66099,
    "start_time": "2023-02-21T13:38:29.329Z"
   },
   {
    "duration": 20,
    "start_time": "2023-02-21T13:40:05.565Z"
   },
   {
    "duration": 18,
    "start_time": "2023-02-21T13:44:14.487Z"
   },
   {
    "duration": 5,
    "start_time": "2023-02-21T13:44:17.526Z"
   },
   {
    "duration": 23,
    "start_time": "2023-02-21T13:45:45.224Z"
   },
   {
    "duration": 8,
    "start_time": "2023-02-21T13:45:49.123Z"
   },
   {
    "duration": 29,
    "start_time": "2023-02-21T13:46:45.344Z"
   },
   {
    "duration": 12,
    "start_time": "2023-02-21T13:46:46.227Z"
   },
   {
    "duration": 13,
    "start_time": "2023-02-21T13:46:46.369Z"
   },
   {
    "duration": 120,
    "start_time": "2023-02-21T13:47:38.870Z"
   },
   {
    "duration": 30,
    "start_time": "2023-02-21T13:49:58.625Z"
   },
   {
    "duration": 38,
    "start_time": "2023-02-21T13:50:57.737Z"
   },
   {
    "duration": 391,
    "start_time": "2023-02-21T13:51:17.166Z"
   },
   {
    "duration": 409,
    "start_time": "2023-02-21T13:51:26.456Z"
   },
   {
    "duration": 311,
    "start_time": "2023-02-21T13:51:30.715Z"
   },
   {
    "duration": 267,
    "start_time": "2023-02-21T13:51:49.479Z"
   },
   {
    "duration": 14,
    "start_time": "2023-02-21T13:52:45.299Z"
   },
   {
    "duration": 323,
    "start_time": "2023-02-21T13:53:54.311Z"
   },
   {
    "duration": 29,
    "start_time": "2023-02-21T13:57:06.923Z"
   },
   {
    "duration": 29,
    "start_time": "2023-02-21T13:57:15.261Z"
   },
   {
    "duration": 259,
    "start_time": "2023-02-21T13:59:26.712Z"
   },
   {
    "duration": 28,
    "start_time": "2023-02-21T13:59:41.567Z"
   },
   {
    "duration": 22,
    "start_time": "2023-02-21T13:59:44.803Z"
   },
   {
    "duration": 356,
    "start_time": "2023-02-21T13:59:47.955Z"
   },
   {
    "duration": 31,
    "start_time": "2023-02-21T14:00:01.692Z"
   },
   {
    "duration": 21,
    "start_time": "2023-02-21T14:00:05.534Z"
   },
   {
    "duration": 305,
    "start_time": "2023-02-21T14:00:08.711Z"
   },
   {
    "duration": 293,
    "start_time": "2023-02-21T14:00:15.359Z"
   },
   {
    "duration": 38,
    "start_time": "2023-02-21T14:00:22.595Z"
   },
   {
    "duration": 265,
    "start_time": "2023-02-21T14:00:24.800Z"
   },
   {
    "duration": 262,
    "start_time": "2023-02-21T14:00:28.893Z"
   },
   {
    "duration": 1384,
    "start_time": "2023-02-21T16:08:39.076Z"
   },
   {
    "duration": 970,
    "start_time": "2023-02-21T16:08:40.463Z"
   },
   {
    "duration": 436,
    "start_time": "2023-02-21T16:08:41.434Z"
   },
   {
    "duration": 114,
    "start_time": "2023-02-21T16:08:41.872Z"
   },
   {
    "duration": 72,
    "start_time": "2023-02-21T16:08:41.988Z"
   },
   {
    "duration": 127,
    "start_time": "2023-02-21T16:08:42.061Z"
   },
   {
    "duration": 7,
    "start_time": "2023-02-21T16:08:42.190Z"
   },
   {
    "duration": 29,
    "start_time": "2023-02-21T16:08:42.199Z"
   },
   {
    "duration": 70,
    "start_time": "2023-02-21T16:08:42.230Z"
   },
   {
    "duration": 38,
    "start_time": "2023-02-21T16:08:42.303Z"
   },
   {
    "duration": 25,
    "start_time": "2023-02-21T16:08:42.343Z"
   },
   {
    "duration": 17,
    "start_time": "2023-02-21T16:08:42.370Z"
   },
   {
    "duration": 6,
    "start_time": "2023-02-21T16:08:42.388Z"
   },
   {
    "duration": 16,
    "start_time": "2023-02-21T16:08:42.427Z"
   },
   {
    "duration": 18,
    "start_time": "2023-02-21T16:08:42.445Z"
   },
   {
    "duration": 18,
    "start_time": "2023-02-21T16:08:42.464Z"
   },
   {
    "duration": 49,
    "start_time": "2023-02-21T16:08:42.483Z"
   },
   {
    "duration": 4,
    "start_time": "2023-02-21T16:08:42.534Z"
   },
   {
    "duration": 175,
    "start_time": "2023-02-21T16:08:42.539Z"
   },
   {
    "duration": 14,
    "start_time": "2023-02-21T16:08:42.716Z"
   },
   {
    "duration": 12,
    "start_time": "2023-02-21T16:08:42.732Z"
   },
   {
    "duration": 17,
    "start_time": "2023-02-21T16:08:42.745Z"
   },
   {
    "duration": 58796,
    "start_time": "2023-02-21T16:08:42.763Z"
   },
   {
    "duration": 21,
    "start_time": "2023-02-21T16:09:41.561Z"
   },
   {
    "duration": 146,
    "start_time": "2023-02-21T16:09:41.584Z"
   },
   {
    "duration": 206,
    "start_time": "2023-02-21T16:09:41.732Z"
   },
   {
    "duration": 0,
    "start_time": "2023-02-21T16:09:41.939Z"
   },
   {
    "duration": 0,
    "start_time": "2023-02-21T16:09:41.941Z"
   },
   {
    "duration": 0,
    "start_time": "2023-02-21T16:09:41.942Z"
   },
   {
    "duration": 0,
    "start_time": "2023-02-21T16:09:41.943Z"
   },
   {
    "duration": 0,
    "start_time": "2023-02-21T16:09:41.944Z"
   },
   {
    "duration": 19,
    "start_time": "2023-02-21T16:14:15.148Z"
   },
   {
    "duration": 8,
    "start_time": "2023-02-21T16:14:18.874Z"
   },
   {
    "duration": 153,
    "start_time": "2023-02-21T16:14:54.863Z"
   },
   {
    "duration": 22,
    "start_time": "2023-02-21T16:15:39.639Z"
   },
   {
    "duration": 9,
    "start_time": "2023-02-21T16:15:42.071Z"
   },
   {
    "duration": 152,
    "start_time": "2023-02-21T16:15:43.654Z"
   },
   {
    "duration": 20,
    "start_time": "2023-02-21T16:16:02.319Z"
   },
   {
    "duration": 7,
    "start_time": "2023-02-21T16:16:04.320Z"
   },
   {
    "duration": 176,
    "start_time": "2023-02-21T16:16:06.283Z"
   },
   {
    "duration": 17,
    "start_time": "2023-02-21T16:17:04.927Z"
   },
   {
    "duration": 149,
    "start_time": "2023-02-21T16:17:05.066Z"
   },
   {
    "duration": 283,
    "start_time": "2023-02-21T16:23:00.409Z"
   },
   {
    "duration": 64,
    "start_time": "2023-02-21T16:24:22.271Z"
   },
   {
    "duration": 200,
    "start_time": "2023-02-21T16:33:07.480Z"
   },
   {
    "duration": 195,
    "start_time": "2023-02-21T16:33:39.200Z"
   },
   {
    "duration": 256,
    "start_time": "2023-02-21T16:35:00.696Z"
   },
   {
    "duration": 162,
    "start_time": "2023-02-21T16:35:31.206Z"
   },
   {
    "duration": 186,
    "start_time": "2023-02-21T16:35:33.401Z"
   },
   {
    "duration": 1503,
    "start_time": "2023-02-21T16:40:44.371Z"
   },
   {
    "duration": 219,
    "start_time": "2023-02-21T16:40:53.614Z"
   },
   {
    "duration": 197,
    "start_time": "2023-02-21T16:41:35.311Z"
   },
   {
    "duration": 199,
    "start_time": "2023-02-21T16:45:48.466Z"
   },
   {
    "duration": 23,
    "start_time": "2023-02-21T16:50:38.673Z"
   },
   {
    "duration": 14,
    "start_time": "2023-02-21T16:52:44.933Z"
   },
   {
    "duration": 11,
    "start_time": "2023-02-21T16:53:09.324Z"
   },
   {
    "duration": 11,
    "start_time": "2023-02-21T16:53:15.024Z"
   },
   {
    "duration": 13,
    "start_time": "2023-02-21T16:53:22.152Z"
   },
   {
    "duration": 12,
    "start_time": "2023-02-21T16:53:45.905Z"
   },
   {
    "duration": 395,
    "start_time": "2023-02-21T17:07:37.834Z"
   },
   {
    "duration": 23,
    "start_time": "2023-02-21T17:07:44.513Z"
   },
   {
    "duration": 32,
    "start_time": "2023-02-21T17:07:50.858Z"
   },
   {
    "duration": 16,
    "start_time": "2023-02-21T17:08:58.741Z"
   },
   {
    "duration": 25,
    "start_time": "2023-02-21T17:09:03.582Z"
   },
   {
    "duration": 33,
    "start_time": "2023-02-21T17:09:05.409Z"
   },
   {
    "duration": 333,
    "start_time": "2023-02-21T17:16:30.565Z"
   },
   {
    "duration": 1674,
    "start_time": "2023-02-22T05:28:49.824Z"
   },
   {
    "duration": 1219,
    "start_time": "2023-02-22T05:28:51.509Z"
   },
   {
    "duration": 603,
    "start_time": "2023-02-22T05:28:52.731Z"
   },
   {
    "duration": 564,
    "start_time": "2023-02-22T05:29:16.184Z"
   },
   {
    "duration": 150,
    "start_time": "2023-02-22T05:29:24.691Z"
   },
   {
    "duration": 66,
    "start_time": "2023-02-22T05:30:12.104Z"
   },
   {
    "duration": 520,
    "start_time": "2023-02-22T05:30:41.316Z"
   },
   {
    "duration": 88,
    "start_time": "2023-02-22T05:30:42.586Z"
   },
   {
    "duration": 95,
    "start_time": "2023-02-22T05:31:05.076Z"
   },
   {
    "duration": 73,
    "start_time": "2023-02-22T05:31:37.914Z"
   },
   {
    "duration": 208,
    "start_time": "2023-02-22T05:31:40.338Z"
   },
   {
    "duration": 8,
    "start_time": "2023-02-22T05:31:49.360Z"
   },
   {
    "duration": 11,
    "start_time": "2023-02-22T05:32:38.986Z"
   },
   {
    "duration": 20,
    "start_time": "2023-02-22T05:32:57.694Z"
   },
   {
    "duration": 8,
    "start_time": "2023-02-22T05:33:00.814Z"
   },
   {
    "duration": 14,
    "start_time": "2023-02-22T05:34:04.530Z"
   },
   {
    "duration": 10,
    "start_time": "2023-02-22T05:34:07.827Z"
   },
   {
    "duration": 69,
    "start_time": "2023-02-22T05:44:51.126Z"
   },
   {
    "duration": 37,
    "start_time": "2023-02-22T05:44:52.801Z"
   },
   {
    "duration": 8,
    "start_time": "2023-02-22T05:44:54.929Z"
   },
   {
    "duration": 10,
    "start_time": "2023-02-22T05:45:00.522Z"
   },
   {
    "duration": 90,
    "start_time": "2023-02-22T05:50:46.131Z"
   },
   {
    "duration": 16,
    "start_time": "2023-02-22T05:50:47.989Z"
   },
   {
    "duration": 78,
    "start_time": "2023-02-22T05:51:48.018Z"
   },
   {
    "duration": 118,
    "start_time": "2023-02-22T05:57:32.153Z"
   },
   {
    "duration": 33,
    "start_time": "2023-02-22T05:57:33.676Z"
   },
   {
    "duration": 66,
    "start_time": "2023-02-22T05:57:52.462Z"
   },
   {
    "duration": 47,
    "start_time": "2023-02-22T05:58:07.351Z"
   },
   {
    "duration": 82,
    "start_time": "2023-02-22T05:58:10.517Z"
   },
   {
    "duration": 26,
    "start_time": "2023-02-22T05:58:22.522Z"
   },
   {
    "duration": 16,
    "start_time": "2023-02-22T05:59:42.422Z"
   },
   {
    "duration": 6,
    "start_time": "2023-02-22T06:02:04.441Z"
   },
   {
    "duration": 6,
    "start_time": "2023-02-22T06:02:18.410Z"
   },
   {
    "duration": 6,
    "start_time": "2023-02-22T06:05:16.339Z"
   },
   {
    "duration": 15,
    "start_time": "2023-02-22T06:05:16.630Z"
   },
   {
    "duration": 19,
    "start_time": "2023-02-22T06:05:35.451Z"
   },
   {
    "duration": 17,
    "start_time": "2023-02-22T06:07:58.651Z"
   },
   {
    "duration": 104,
    "start_time": "2023-02-22T06:11:36.252Z"
   },
   {
    "duration": 6,
    "start_time": "2023-02-22T06:11:54.516Z"
   },
   {
    "duration": 5,
    "start_time": "2023-02-22T06:12:14.087Z"
   },
   {
    "duration": 8,
    "start_time": "2023-02-22T06:12:29.331Z"
   },
   {
    "duration": 8,
    "start_time": "2023-02-22T06:12:32.033Z"
   },
   {
    "duration": 9,
    "start_time": "2023-02-22T06:12:56.182Z"
   },
   {
    "duration": 8,
    "start_time": "2023-02-22T06:13:31.581Z"
   },
   {
    "duration": 9,
    "start_time": "2023-02-22T06:13:35.555Z"
   },
   {
    "duration": 9,
    "start_time": "2023-02-22T06:13:41.386Z"
   },
   {
    "duration": 16,
    "start_time": "2023-02-22T06:14:22.186Z"
   },
   {
    "duration": 6,
    "start_time": "2023-02-22T06:14:37.796Z"
   },
   {
    "duration": 13,
    "start_time": "2023-02-22T06:14:37.938Z"
   },
   {
    "duration": 3,
    "start_time": "2023-02-22T06:14:48.561Z"
   },
   {
    "duration": 534,
    "start_time": "2023-02-22T06:14:48.566Z"
   },
   {
    "duration": 403,
    "start_time": "2023-02-22T06:14:49.102Z"
   },
   {
    "duration": 78,
    "start_time": "2023-02-22T06:14:49.508Z"
   },
   {
    "duration": 60,
    "start_time": "2023-02-22T06:14:49.588Z"
   },
   {
    "duration": 136,
    "start_time": "2023-02-22T06:14:49.650Z"
   },
   {
    "duration": 8,
    "start_time": "2023-02-22T06:14:49.787Z"
   },
   {
    "duration": 11,
    "start_time": "2023-02-22T06:14:49.796Z"
   },
   {
    "duration": 96,
    "start_time": "2023-02-22T06:14:49.810Z"
   },
   {
    "duration": 26,
    "start_time": "2023-02-22T06:14:49.908Z"
   },
   {
    "duration": 17,
    "start_time": "2023-02-22T06:14:49.936Z"
   },
   {
    "duration": 34,
    "start_time": "2023-02-22T06:14:49.955Z"
   },
   {
    "duration": 29,
    "start_time": "2023-02-22T06:14:49.992Z"
   },
   {
    "duration": 57,
    "start_time": "2023-02-22T06:14:50.024Z"
   },
   {
    "duration": 58,
    "start_time": "2023-02-22T06:14:50.083Z"
   },
   {
    "duration": 0,
    "start_time": "2023-02-22T06:14:50.143Z"
   },
   {
    "duration": 0,
    "start_time": "2023-02-22T06:14:50.144Z"
   },
   {
    "duration": 0,
    "start_time": "2023-02-22T06:14:50.145Z"
   },
   {
    "duration": 0,
    "start_time": "2023-02-22T06:14:50.146Z"
   },
   {
    "duration": 0,
    "start_time": "2023-02-22T06:14:50.148Z"
   },
   {
    "duration": 0,
    "start_time": "2023-02-22T06:14:50.148Z"
   },
   {
    "duration": 0,
    "start_time": "2023-02-22T06:14:50.150Z"
   },
   {
    "duration": 0,
    "start_time": "2023-02-22T06:14:50.152Z"
   },
   {
    "duration": 0,
    "start_time": "2023-02-22T06:14:50.153Z"
   },
   {
    "duration": 0,
    "start_time": "2023-02-22T06:14:50.154Z"
   },
   {
    "duration": 0,
    "start_time": "2023-02-22T06:14:50.155Z"
   },
   {
    "duration": 0,
    "start_time": "2023-02-22T06:14:50.156Z"
   },
   {
    "duration": 0,
    "start_time": "2023-02-22T06:14:50.158Z"
   },
   {
    "duration": 0,
    "start_time": "2023-02-22T06:14:50.159Z"
   },
   {
    "duration": 0,
    "start_time": "2023-02-22T06:14:50.160Z"
   },
   {
    "duration": 0,
    "start_time": "2023-02-22T06:14:50.161Z"
   },
   {
    "duration": 0,
    "start_time": "2023-02-22T06:14:50.162Z"
   },
   {
    "duration": 0,
    "start_time": "2023-02-22T06:14:50.163Z"
   },
   {
    "duration": 0,
    "start_time": "2023-02-22T06:14:50.164Z"
   },
   {
    "duration": 0,
    "start_time": "2023-02-22T06:14:50.166Z"
   },
   {
    "duration": 6,
    "start_time": "2023-02-22T06:15:40.924Z"
   },
   {
    "duration": 22,
    "start_time": "2023-02-22T06:15:41.630Z"
   },
   {
    "duration": 9,
    "start_time": "2023-02-22T06:18:15.772Z"
   },
   {
    "duration": 5,
    "start_time": "2023-02-22T06:18:18.773Z"
   },
   {
    "duration": 15,
    "start_time": "2023-02-22T06:18:18.924Z"
   },
   {
    "duration": 6,
    "start_time": "2023-02-22T06:18:51.456Z"
   },
   {
    "duration": 15,
    "start_time": "2023-02-22T06:18:51.640Z"
   },
   {
    "duration": 15,
    "start_time": "2023-02-22T06:19:38.949Z"
   },
   {
    "duration": 24,
    "start_time": "2023-02-22T06:20:02.013Z"
   },
   {
    "duration": 27,
    "start_time": "2023-02-22T06:20:18.145Z"
   },
   {
    "duration": 16,
    "start_time": "2023-02-22T06:22:08.737Z"
   },
   {
    "duration": 22,
    "start_time": "2023-02-22T06:22:17.107Z"
   },
   {
    "duration": 17,
    "start_time": "2023-02-22T06:22:25.720Z"
   },
   {
    "duration": 17,
    "start_time": "2023-02-22T06:22:30.110Z"
   },
   {
    "duration": 17,
    "start_time": "2023-02-22T06:22:39.610Z"
   },
   {
    "duration": 23,
    "start_time": "2023-02-22T06:23:21.232Z"
   },
   {
    "duration": 18,
    "start_time": "2023-02-22T06:23:31.764Z"
   },
   {
    "duration": 17,
    "start_time": "2023-02-22T06:23:32.214Z"
   },
   {
    "duration": 10,
    "start_time": "2023-02-22T06:29:28.254Z"
   },
   {
    "duration": 16,
    "start_time": "2023-02-22T06:29:39.806Z"
   },
   {
    "duration": 4,
    "start_time": "2023-02-22T06:29:54.121Z"
   },
   {
    "duration": 583,
    "start_time": "2023-02-22T06:29:54.128Z"
   },
   {
    "duration": 424,
    "start_time": "2023-02-22T06:29:54.713Z"
   },
   {
    "duration": 92,
    "start_time": "2023-02-22T06:29:55.139Z"
   },
   {
    "duration": 75,
    "start_time": "2023-02-22T06:29:55.232Z"
   },
   {
    "duration": 133,
    "start_time": "2023-02-22T06:29:55.308Z"
   },
   {
    "duration": 8,
    "start_time": "2023-02-22T06:29:55.443Z"
   },
   {
    "duration": 41,
    "start_time": "2023-02-22T06:29:55.453Z"
   },
   {
    "duration": 121,
    "start_time": "2023-02-22T06:29:55.497Z"
   },
   {
    "duration": 31,
    "start_time": "2023-02-22T06:29:55.620Z"
   },
   {
    "duration": 40,
    "start_time": "2023-02-22T06:29:55.653Z"
   },
   {
    "duration": 6,
    "start_time": "2023-02-22T06:29:55.695Z"
   },
   {
    "duration": 27,
    "start_time": "2023-02-22T06:29:55.702Z"
   },
   {
    "duration": 19,
    "start_time": "2023-02-22T06:29:55.731Z"
   },
   {
    "duration": 27,
    "start_time": "2023-02-22T06:29:55.752Z"
   },
   {
    "duration": 37,
    "start_time": "2023-02-22T06:29:55.785Z"
   },
   {
    "duration": 65,
    "start_time": "2023-02-22T06:29:55.824Z"
   },
   {
    "duration": 0,
    "start_time": "2023-02-22T06:29:55.891Z"
   },
   {
    "duration": 0,
    "start_time": "2023-02-22T06:29:55.892Z"
   },
   {
    "duration": 0,
    "start_time": "2023-02-22T06:29:55.893Z"
   },
   {
    "duration": 0,
    "start_time": "2023-02-22T06:29:55.895Z"
   },
   {
    "duration": 0,
    "start_time": "2023-02-22T06:29:55.896Z"
   },
   {
    "duration": 0,
    "start_time": "2023-02-22T06:29:55.898Z"
   },
   {
    "duration": 0,
    "start_time": "2023-02-22T06:29:55.898Z"
   },
   {
    "duration": 0,
    "start_time": "2023-02-22T06:29:55.900Z"
   },
   {
    "duration": 0,
    "start_time": "2023-02-22T06:29:55.901Z"
   },
   {
    "duration": 0,
    "start_time": "2023-02-22T06:29:55.902Z"
   },
   {
    "duration": 0,
    "start_time": "2023-02-22T06:29:55.903Z"
   },
   {
    "duration": 0,
    "start_time": "2023-02-22T06:29:55.905Z"
   },
   {
    "duration": 0,
    "start_time": "2023-02-22T06:29:55.906Z"
   },
   {
    "duration": 0,
    "start_time": "2023-02-22T06:29:55.907Z"
   },
   {
    "duration": 0,
    "start_time": "2023-02-22T06:29:55.909Z"
   },
   {
    "duration": 0,
    "start_time": "2023-02-22T06:29:55.910Z"
   },
   {
    "duration": 0,
    "start_time": "2023-02-22T06:29:55.912Z"
   },
   {
    "duration": 5,
    "start_time": "2023-02-22T06:32:45.833Z"
   },
   {
    "duration": 645,
    "start_time": "2023-02-22T06:32:45.840Z"
   },
   {
    "duration": 451,
    "start_time": "2023-02-22T06:32:46.487Z"
   },
   {
    "duration": 137,
    "start_time": "2023-02-22T06:32:46.941Z"
   },
   {
    "duration": 109,
    "start_time": "2023-02-22T06:32:47.081Z"
   },
   {
    "duration": 218,
    "start_time": "2023-02-22T06:32:47.192Z"
   },
   {
    "duration": 10,
    "start_time": "2023-02-22T06:32:47.412Z"
   },
   {
    "duration": 27,
    "start_time": "2023-02-22T06:32:47.424Z"
   },
   {
    "duration": 124,
    "start_time": "2023-02-22T06:32:47.454Z"
   },
   {
    "duration": 40,
    "start_time": "2023-02-22T06:32:47.580Z"
   },
   {
    "duration": 22,
    "start_time": "2023-02-22T06:32:47.624Z"
   },
   {
    "duration": 40,
    "start_time": "2023-02-22T06:32:47.649Z"
   },
   {
    "duration": 26,
    "start_time": "2023-02-22T06:32:47.693Z"
   },
   {
    "duration": 21,
    "start_time": "2023-02-22T06:32:47.722Z"
   },
   {
    "duration": 23,
    "start_time": "2023-02-22T06:32:47.745Z"
   },
   {
    "duration": 43,
    "start_time": "2023-02-22T06:32:47.770Z"
   },
   {
    "duration": 72,
    "start_time": "2023-02-22T06:32:47.815Z"
   },
   {
    "duration": 1,
    "start_time": "2023-02-22T06:32:47.889Z"
   },
   {
    "duration": 0,
    "start_time": "2023-02-22T06:32:47.891Z"
   },
   {
    "duration": 0,
    "start_time": "2023-02-22T06:32:47.893Z"
   },
   {
    "duration": 0,
    "start_time": "2023-02-22T06:32:47.894Z"
   },
   {
    "duration": 0,
    "start_time": "2023-02-22T06:32:47.896Z"
   },
   {
    "duration": 0,
    "start_time": "2023-02-22T06:32:47.897Z"
   },
   {
    "duration": 0,
    "start_time": "2023-02-22T06:32:47.898Z"
   },
   {
    "duration": 0,
    "start_time": "2023-02-22T06:32:47.900Z"
   },
   {
    "duration": 0,
    "start_time": "2023-02-22T06:32:47.901Z"
   },
   {
    "duration": 0,
    "start_time": "2023-02-22T06:32:47.902Z"
   },
   {
    "duration": 0,
    "start_time": "2023-02-22T06:32:47.904Z"
   },
   {
    "duration": 0,
    "start_time": "2023-02-22T06:32:47.905Z"
   },
   {
    "duration": 0,
    "start_time": "2023-02-22T06:32:47.907Z"
   },
   {
    "duration": 0,
    "start_time": "2023-02-22T06:32:47.909Z"
   },
   {
    "duration": 0,
    "start_time": "2023-02-22T06:32:47.910Z"
   },
   {
    "duration": 0,
    "start_time": "2023-02-22T06:32:47.912Z"
   },
   {
    "duration": 0,
    "start_time": "2023-02-22T06:32:47.914Z"
   },
   {
    "duration": 4,
    "start_time": "2023-02-22T06:36:26.807Z"
   },
   {
    "duration": 522,
    "start_time": "2023-02-22T06:36:26.813Z"
   },
   {
    "duration": 394,
    "start_time": "2023-02-22T06:36:27.337Z"
   },
   {
    "duration": 81,
    "start_time": "2023-02-22T06:36:27.733Z"
   },
   {
    "duration": 75,
    "start_time": "2023-02-22T06:36:27.816Z"
   },
   {
    "duration": 134,
    "start_time": "2023-02-22T06:36:27.894Z"
   },
   {
    "duration": 7,
    "start_time": "2023-02-22T06:36:28.030Z"
   },
   {
    "duration": 14,
    "start_time": "2023-02-22T06:36:28.039Z"
   },
   {
    "duration": 102,
    "start_time": "2023-02-22T06:36:28.055Z"
   },
   {
    "duration": 38,
    "start_time": "2023-02-22T06:36:28.159Z"
   },
   {
    "duration": 19,
    "start_time": "2023-02-22T06:36:28.200Z"
   },
   {
    "duration": 14,
    "start_time": "2023-02-22T06:36:28.221Z"
   },
   {
    "duration": 27,
    "start_time": "2023-02-22T06:36:28.237Z"
   },
   {
    "duration": 33,
    "start_time": "2023-02-22T06:36:28.266Z"
   },
   {
    "duration": 17,
    "start_time": "2023-02-22T06:36:28.301Z"
   },
   {
    "duration": 27,
    "start_time": "2023-02-22T06:36:28.319Z"
   },
   {
    "duration": 74,
    "start_time": "2023-02-22T06:36:28.348Z"
   },
   {
    "duration": 0,
    "start_time": "2023-02-22T06:36:28.424Z"
   },
   {
    "duration": 0,
    "start_time": "2023-02-22T06:36:28.426Z"
   },
   {
    "duration": 0,
    "start_time": "2023-02-22T06:36:28.427Z"
   },
   {
    "duration": 0,
    "start_time": "2023-02-22T06:36:28.429Z"
   },
   {
    "duration": 0,
    "start_time": "2023-02-22T06:36:28.430Z"
   },
   {
    "duration": 0,
    "start_time": "2023-02-22T06:36:28.431Z"
   },
   {
    "duration": 1,
    "start_time": "2023-02-22T06:36:28.432Z"
   },
   {
    "duration": 0,
    "start_time": "2023-02-22T06:36:28.434Z"
   },
   {
    "duration": 0,
    "start_time": "2023-02-22T06:36:28.435Z"
   },
   {
    "duration": 0,
    "start_time": "2023-02-22T06:36:28.437Z"
   },
   {
    "duration": 0,
    "start_time": "2023-02-22T06:36:28.438Z"
   },
   {
    "duration": 0,
    "start_time": "2023-02-22T06:36:28.446Z"
   },
   {
    "duration": 0,
    "start_time": "2023-02-22T06:36:28.447Z"
   },
   {
    "duration": 0,
    "start_time": "2023-02-22T06:36:28.449Z"
   },
   {
    "duration": 0,
    "start_time": "2023-02-22T06:36:28.449Z"
   },
   {
    "duration": 0,
    "start_time": "2023-02-22T06:36:28.451Z"
   },
   {
    "duration": 0,
    "start_time": "2023-02-22T06:36:28.452Z"
   },
   {
    "duration": 5,
    "start_time": "2023-02-22T06:38:26.694Z"
   },
   {
    "duration": 554,
    "start_time": "2023-02-22T06:38:26.701Z"
   },
   {
    "duration": 429,
    "start_time": "2023-02-22T06:38:27.257Z"
   },
   {
    "duration": 56,
    "start_time": "2023-02-22T06:38:27.687Z"
   },
   {
    "duration": 97,
    "start_time": "2023-02-22T06:38:27.746Z"
   },
   {
    "duration": 130,
    "start_time": "2023-02-22T06:38:27.844Z"
   },
   {
    "duration": 15,
    "start_time": "2023-02-22T06:38:27.976Z"
   },
   {
    "duration": 19,
    "start_time": "2023-02-22T06:38:27.993Z"
   },
   {
    "duration": 95,
    "start_time": "2023-02-22T06:38:28.014Z"
   },
   {
    "duration": 29,
    "start_time": "2023-02-22T06:38:28.112Z"
   },
   {
    "duration": 43,
    "start_time": "2023-02-22T06:38:28.144Z"
   },
   {
    "duration": 7,
    "start_time": "2023-02-22T06:38:28.189Z"
   },
   {
    "duration": 30,
    "start_time": "2023-02-22T06:38:28.198Z"
   },
   {
    "duration": 34,
    "start_time": "2023-02-22T06:38:28.230Z"
   },
   {
    "duration": 22,
    "start_time": "2023-02-22T06:38:28.266Z"
   },
   {
    "duration": 21,
    "start_time": "2023-02-22T06:38:28.290Z"
   },
   {
    "duration": 70,
    "start_time": "2023-02-22T06:38:28.313Z"
   },
   {
    "duration": 0,
    "start_time": "2023-02-22T06:38:28.385Z"
   },
   {
    "duration": 0,
    "start_time": "2023-02-22T06:38:28.387Z"
   },
   {
    "duration": 0,
    "start_time": "2023-02-22T06:38:28.389Z"
   },
   {
    "duration": 0,
    "start_time": "2023-02-22T06:38:28.390Z"
   },
   {
    "duration": 0,
    "start_time": "2023-02-22T06:38:28.392Z"
   },
   {
    "duration": 0,
    "start_time": "2023-02-22T06:38:28.393Z"
   },
   {
    "duration": 0,
    "start_time": "2023-02-22T06:38:28.395Z"
   },
   {
    "duration": 0,
    "start_time": "2023-02-22T06:38:28.397Z"
   },
   {
    "duration": 0,
    "start_time": "2023-02-22T06:38:28.398Z"
   },
   {
    "duration": 0,
    "start_time": "2023-02-22T06:38:28.400Z"
   },
   {
    "duration": 0,
    "start_time": "2023-02-22T06:38:28.401Z"
   },
   {
    "duration": 0,
    "start_time": "2023-02-22T06:38:28.403Z"
   },
   {
    "duration": 0,
    "start_time": "2023-02-22T06:38:28.404Z"
   },
   {
    "duration": 0,
    "start_time": "2023-02-22T06:38:28.406Z"
   },
   {
    "duration": 0,
    "start_time": "2023-02-22T06:38:28.407Z"
   },
   {
    "duration": 0,
    "start_time": "2023-02-22T06:38:28.408Z"
   },
   {
    "duration": 0,
    "start_time": "2023-02-22T06:38:28.410Z"
   },
   {
    "duration": 5,
    "start_time": "2023-02-22T06:42:00.128Z"
   },
   {
    "duration": 564,
    "start_time": "2023-02-22T06:42:00.143Z"
   },
   {
    "duration": 443,
    "start_time": "2023-02-22T06:42:00.710Z"
   },
   {
    "duration": 92,
    "start_time": "2023-02-22T06:42:01.155Z"
   },
   {
    "duration": 106,
    "start_time": "2023-02-22T06:42:01.248Z"
   },
   {
    "duration": 130,
    "start_time": "2023-02-22T06:42:01.357Z"
   },
   {
    "duration": 8,
    "start_time": "2023-02-22T06:42:01.489Z"
   },
   {
    "duration": 46,
    "start_time": "2023-02-22T06:42:01.499Z"
   },
   {
    "duration": 95,
    "start_time": "2023-02-22T06:42:01.546Z"
   },
   {
    "duration": 27,
    "start_time": "2023-02-22T06:42:01.642Z"
   },
   {
    "duration": 27,
    "start_time": "2023-02-22T06:42:01.671Z"
   },
   {
    "duration": 13,
    "start_time": "2023-02-22T06:42:01.700Z"
   },
   {
    "duration": 41,
    "start_time": "2023-02-22T06:42:01.715Z"
   },
   {
    "duration": 56,
    "start_time": "2023-02-22T06:42:01.758Z"
   },
   {
    "duration": 16,
    "start_time": "2023-02-22T06:42:01.817Z"
   },
   {
    "duration": 28,
    "start_time": "2023-02-22T06:42:01.835Z"
   },
   {
    "duration": 96,
    "start_time": "2023-02-22T06:42:01.864Z"
   },
   {
    "duration": 0,
    "start_time": "2023-02-22T06:42:01.962Z"
   },
   {
    "duration": 0,
    "start_time": "2023-02-22T06:42:01.963Z"
   },
   {
    "duration": 0,
    "start_time": "2023-02-22T06:42:01.964Z"
   },
   {
    "duration": 0,
    "start_time": "2023-02-22T06:42:01.965Z"
   },
   {
    "duration": 0,
    "start_time": "2023-02-22T06:42:01.967Z"
   },
   {
    "duration": 0,
    "start_time": "2023-02-22T06:42:01.968Z"
   },
   {
    "duration": 0,
    "start_time": "2023-02-22T06:42:01.969Z"
   },
   {
    "duration": 0,
    "start_time": "2023-02-22T06:42:01.970Z"
   },
   {
    "duration": 0,
    "start_time": "2023-02-22T06:42:01.972Z"
   },
   {
    "duration": 0,
    "start_time": "2023-02-22T06:42:01.973Z"
   },
   {
    "duration": 0,
    "start_time": "2023-02-22T06:42:01.974Z"
   },
   {
    "duration": 0,
    "start_time": "2023-02-22T06:42:01.976Z"
   },
   {
    "duration": 0,
    "start_time": "2023-02-22T06:42:01.977Z"
   },
   {
    "duration": 0,
    "start_time": "2023-02-22T06:42:01.978Z"
   },
   {
    "duration": 0,
    "start_time": "2023-02-22T06:42:01.980Z"
   },
   {
    "duration": 0,
    "start_time": "2023-02-22T06:42:01.981Z"
   },
   {
    "duration": 0,
    "start_time": "2023-02-22T06:42:01.982Z"
   },
   {
    "duration": 4,
    "start_time": "2023-02-22T06:42:52.688Z"
   },
   {
    "duration": 579,
    "start_time": "2023-02-22T06:42:52.695Z"
   },
   {
    "duration": 478,
    "start_time": "2023-02-22T06:42:53.277Z"
   },
   {
    "duration": 131,
    "start_time": "2023-02-22T06:42:53.757Z"
   },
   {
    "duration": 79,
    "start_time": "2023-02-22T06:42:53.890Z"
   },
   {
    "duration": 156,
    "start_time": "2023-02-22T06:42:53.985Z"
   },
   {
    "duration": 8,
    "start_time": "2023-02-22T06:42:54.144Z"
   },
   {
    "duration": 43,
    "start_time": "2023-02-22T06:42:54.154Z"
   },
   {
    "duration": 124,
    "start_time": "2023-02-22T06:42:54.199Z"
   },
   {
    "duration": 12,
    "start_time": "2023-02-22T06:42:54.325Z"
   },
   {
    "duration": 51,
    "start_time": "2023-02-22T06:42:54.340Z"
   },
   {
    "duration": 17,
    "start_time": "2023-02-22T06:42:54.393Z"
   },
   {
    "duration": 7,
    "start_time": "2023-02-22T06:42:54.412Z"
   },
   {
    "duration": 47,
    "start_time": "2023-02-22T06:42:54.422Z"
   },
   {
    "duration": 24,
    "start_time": "2023-02-22T06:42:54.471Z"
   },
   {
    "duration": 15,
    "start_time": "2023-02-22T06:42:54.497Z"
   },
   {
    "duration": 21,
    "start_time": "2023-02-22T06:42:54.514Z"
   },
   {
    "duration": 74,
    "start_time": "2023-02-22T06:42:54.537Z"
   },
   {
    "duration": 0,
    "start_time": "2023-02-22T06:42:54.613Z"
   },
   {
    "duration": 0,
    "start_time": "2023-02-22T06:42:54.615Z"
   },
   {
    "duration": 0,
    "start_time": "2023-02-22T06:42:54.616Z"
   },
   {
    "duration": 0,
    "start_time": "2023-02-22T06:42:54.618Z"
   },
   {
    "duration": 0,
    "start_time": "2023-02-22T06:42:54.619Z"
   },
   {
    "duration": 0,
    "start_time": "2023-02-22T06:42:54.620Z"
   },
   {
    "duration": 0,
    "start_time": "2023-02-22T06:42:54.621Z"
   },
   {
    "duration": 0,
    "start_time": "2023-02-22T06:42:54.623Z"
   },
   {
    "duration": 0,
    "start_time": "2023-02-22T06:42:54.623Z"
   },
   {
    "duration": 1,
    "start_time": "2023-02-22T06:42:54.624Z"
   },
   {
    "duration": 0,
    "start_time": "2023-02-22T06:42:54.626Z"
   },
   {
    "duration": 0,
    "start_time": "2023-02-22T06:42:54.627Z"
   },
   {
    "duration": 0,
    "start_time": "2023-02-22T06:42:54.628Z"
   },
   {
    "duration": 0,
    "start_time": "2023-02-22T06:42:54.629Z"
   },
   {
    "duration": 0,
    "start_time": "2023-02-22T06:42:54.630Z"
   },
   {
    "duration": 1,
    "start_time": "2023-02-22T06:42:54.631Z"
   },
   {
    "duration": 0,
    "start_time": "2023-02-22T06:42:54.633Z"
   },
   {
    "duration": 13,
    "start_time": "2023-02-22T06:43:19.254Z"
   },
   {
    "duration": 5,
    "start_time": "2023-02-22T06:45:41.618Z"
   },
   {
    "duration": 29,
    "start_time": "2023-02-22T06:45:44.906Z"
   },
   {
    "duration": 4,
    "start_time": "2023-02-22T06:45:46.250Z"
   },
   {
    "duration": 20,
    "start_time": "2023-02-22T06:47:09.151Z"
   },
   {
    "duration": 4,
    "start_time": "2023-02-22T06:47:10.422Z"
   },
   {
    "duration": 86,
    "start_time": "2023-02-22T06:51:12.160Z"
   },
   {
    "duration": 68,
    "start_time": "2023-02-22T06:51:43.265Z"
   },
   {
    "duration": 72,
    "start_time": "2023-02-22T06:51:51.596Z"
   },
   {
    "duration": 20,
    "start_time": "2023-02-22T06:51:55.911Z"
   },
   {
    "duration": 12,
    "start_time": "2023-02-22T06:52:33.586Z"
   },
   {
    "duration": 26,
    "start_time": "2023-02-22T06:55:01.750Z"
   },
   {
    "duration": 4,
    "start_time": "2023-02-22T06:55:02.254Z"
   },
   {
    "duration": 143,
    "start_time": "2023-02-22T06:55:28.423Z"
   },
   {
    "duration": 51,
    "start_time": "2023-02-22T06:55:43.887Z"
   },
   {
    "duration": 56,
    "start_time": "2023-02-22T06:56:49.046Z"
   },
   {
    "duration": 119,
    "start_time": "2023-02-22T07:01:42.807Z"
   },
   {
    "duration": 1552,
    "start_time": "2023-02-22T07:01:43.821Z"
   },
   {
    "duration": 1862,
    "start_time": "2023-02-22T07:02:05.531Z"
   },
   {
    "duration": 117,
    "start_time": "2023-02-22T07:02:21.647Z"
   },
   {
    "duration": 359,
    "start_time": "2023-02-22T07:03:16.119Z"
   },
   {
    "duration": 188,
    "start_time": "2023-02-22T07:03:57.894Z"
   },
   {
    "duration": 341,
    "start_time": "2023-02-22T07:04:36.865Z"
   },
   {
    "duration": 315,
    "start_time": "2023-02-22T07:05:13.886Z"
   },
   {
    "duration": 1521,
    "start_time": "2023-02-22T07:05:23.580Z"
   },
   {
    "duration": 1535,
    "start_time": "2023-02-22T07:05:32.228Z"
   },
   {
    "duration": 64,
    "start_time": "2023-02-22T07:05:47.558Z"
   },
   {
    "duration": 157,
    "start_time": "2023-02-22T07:05:57.397Z"
   },
   {
    "duration": 226,
    "start_time": "2023-02-22T07:06:23.477Z"
   },
   {
    "duration": 1671,
    "start_time": "2023-02-22T07:06:25.725Z"
   },
   {
    "duration": 1529,
    "start_time": "2023-02-22T07:07:42.760Z"
   },
   {
    "duration": 402,
    "start_time": "2023-02-22T07:08:55.170Z"
   },
   {
    "duration": 353,
    "start_time": "2023-02-22T07:09:08.090Z"
   },
   {
    "duration": 345,
    "start_time": "2023-02-22T07:09:20.259Z"
   },
   {
    "duration": 59,
    "start_time": "2023-02-22T07:09:56.169Z"
   },
   {
    "duration": 1522,
    "start_time": "2023-02-22T07:11:17.769Z"
   },
   {
    "duration": 12,
    "start_time": "2023-02-22T07:11:28.494Z"
   },
   {
    "duration": 10,
    "start_time": "2023-02-22T07:11:40.003Z"
   },
   {
    "duration": 10,
    "start_time": "2023-02-22T07:13:09.473Z"
   },
   {
    "duration": 1754,
    "start_time": "2023-02-22T07:13:14.927Z"
   },
   {
    "duration": 29,
    "start_time": "2023-02-22T07:17:24.702Z"
   },
   {
    "duration": 324,
    "start_time": "2023-02-22T07:17:35.958Z"
   },
   {
    "duration": 415,
    "start_time": "2023-02-22T07:19:11.778Z"
   },
   {
    "duration": 10,
    "start_time": "2023-02-22T07:22:35.908Z"
   },
   {
    "duration": 951,
    "start_time": "2023-02-22T07:22:35.921Z"
   },
   {
    "duration": 642,
    "start_time": "2023-02-22T07:22:36.879Z"
   },
   {
    "duration": 118,
    "start_time": "2023-02-22T07:22:37.522Z"
   },
   {
    "duration": 100,
    "start_time": "2023-02-22T07:22:37.646Z"
   },
   {
    "duration": 219,
    "start_time": "2023-02-22T07:22:37.748Z"
   },
   {
    "duration": 26,
    "start_time": "2023-02-22T07:22:37.969Z"
   },
   {
    "duration": 21,
    "start_time": "2023-02-22T07:22:37.998Z"
   },
   {
    "duration": 172,
    "start_time": "2023-02-22T07:22:38.021Z"
   },
   {
    "duration": 52,
    "start_time": "2023-02-22T07:22:38.196Z"
   },
   {
    "duration": 53,
    "start_time": "2023-02-22T07:22:38.250Z"
   },
   {
    "duration": 30,
    "start_time": "2023-02-22T07:22:38.306Z"
   },
   {
    "duration": 26,
    "start_time": "2023-02-22T07:22:38.342Z"
   },
   {
    "duration": 86,
    "start_time": "2023-02-22T07:22:38.374Z"
   },
   {
    "duration": 79,
    "start_time": "2023-02-22T07:22:38.462Z"
   },
   {
    "duration": 44,
    "start_time": "2023-02-22T07:22:38.543Z"
   },
   {
    "duration": 12,
    "start_time": "2023-02-22T07:22:38.589Z"
   },
   {
    "duration": 85,
    "start_time": "2023-02-22T07:22:38.605Z"
   },
   {
    "duration": 256,
    "start_time": "2023-02-22T07:22:38.693Z"
   },
   {
    "duration": 1477,
    "start_time": "2023-02-22T07:22:38.951Z"
   },
   {
    "duration": 0,
    "start_time": "2023-02-22T07:22:40.433Z"
   },
   {
    "duration": 0,
    "start_time": "2023-02-22T07:22:40.436Z"
   },
   {
    "duration": 0,
    "start_time": "2023-02-22T07:22:40.437Z"
   },
   {
    "duration": 0,
    "start_time": "2023-02-22T07:22:40.439Z"
   },
   {
    "duration": 0,
    "start_time": "2023-02-22T07:22:40.441Z"
   },
   {
    "duration": 1,
    "start_time": "2023-02-22T07:22:40.442Z"
   },
   {
    "duration": 0,
    "start_time": "2023-02-22T07:22:40.444Z"
   },
   {
    "duration": 0,
    "start_time": "2023-02-22T07:22:40.451Z"
   },
   {
    "duration": 0,
    "start_time": "2023-02-22T07:22:40.453Z"
   },
   {
    "duration": 0,
    "start_time": "2023-02-22T07:22:40.454Z"
   },
   {
    "duration": 0,
    "start_time": "2023-02-22T07:22:40.455Z"
   },
   {
    "duration": 0,
    "start_time": "2023-02-22T07:22:40.456Z"
   },
   {
    "duration": 0,
    "start_time": "2023-02-22T07:22:40.458Z"
   },
   {
    "duration": 0,
    "start_time": "2023-02-22T07:22:40.463Z"
   },
   {
    "duration": 0,
    "start_time": "2023-02-22T07:22:40.464Z"
   },
   {
    "duration": 0,
    "start_time": "2023-02-22T07:22:40.465Z"
   },
   {
    "duration": 14,
    "start_time": "2023-02-22T07:23:15.401Z"
   },
   {
    "duration": 6,
    "start_time": "2023-02-22T07:24:13.959Z"
   },
   {
    "duration": 741,
    "start_time": "2023-02-22T07:24:13.968Z"
   },
   {
    "duration": 586,
    "start_time": "2023-02-22T07:24:14.711Z"
   },
   {
    "duration": 125,
    "start_time": "2023-02-22T07:24:15.300Z"
   },
   {
    "duration": 113,
    "start_time": "2023-02-22T07:24:15.427Z"
   },
   {
    "duration": 206,
    "start_time": "2023-02-22T07:24:15.543Z"
   },
   {
    "duration": 17,
    "start_time": "2023-02-22T07:24:15.751Z"
   },
   {
    "duration": 64,
    "start_time": "2023-02-22T07:24:15.774Z"
   },
   {
    "duration": 164,
    "start_time": "2023-02-22T07:24:15.843Z"
   },
   {
    "duration": 47,
    "start_time": "2023-02-22T07:24:16.011Z"
   },
   {
    "duration": 37,
    "start_time": "2023-02-22T07:24:16.060Z"
   },
   {
    "duration": 9,
    "start_time": "2023-02-22T07:24:16.099Z"
   },
   {
    "duration": 32,
    "start_time": "2023-02-22T07:24:16.110Z"
   },
   {
    "duration": 54,
    "start_time": "2023-02-22T07:24:16.146Z"
   },
   {
    "duration": 17,
    "start_time": "2023-02-22T07:24:16.202Z"
   },
   {
    "duration": 43,
    "start_time": "2023-02-22T07:24:16.221Z"
   },
   {
    "duration": 21,
    "start_time": "2023-02-22T07:24:16.266Z"
   },
   {
    "duration": 538,
    "start_time": "2023-02-22T07:24:16.289Z"
   },
   {
    "duration": 134,
    "start_time": "2023-02-22T07:24:16.829Z"
   },
   {
    "duration": 22,
    "start_time": "2023-02-22T07:24:16.966Z"
   },
   {
    "duration": 0,
    "start_time": "2023-02-22T07:24:16.990Z"
   },
   {
    "duration": 0,
    "start_time": "2023-02-22T07:24:16.992Z"
   },
   {
    "duration": 0,
    "start_time": "2023-02-22T07:24:16.994Z"
   },
   {
    "duration": 0,
    "start_time": "2023-02-22T07:24:16.995Z"
   },
   {
    "duration": 0,
    "start_time": "2023-02-22T07:24:16.997Z"
   },
   {
    "duration": 0,
    "start_time": "2023-02-22T07:24:16.998Z"
   },
   {
    "duration": 0,
    "start_time": "2023-02-22T07:24:17.000Z"
   },
   {
    "duration": 0,
    "start_time": "2023-02-22T07:24:17.001Z"
   },
   {
    "duration": 0,
    "start_time": "2023-02-22T07:24:17.002Z"
   },
   {
    "duration": 0,
    "start_time": "2023-02-22T07:24:17.004Z"
   },
   {
    "duration": 0,
    "start_time": "2023-02-22T07:24:17.004Z"
   },
   {
    "duration": 0,
    "start_time": "2023-02-22T07:24:17.006Z"
   },
   {
    "duration": 0,
    "start_time": "2023-02-22T07:24:17.010Z"
   },
   {
    "duration": 0,
    "start_time": "2023-02-22T07:24:17.011Z"
   },
   {
    "duration": 0,
    "start_time": "2023-02-22T07:24:17.014Z"
   },
   {
    "duration": 70,
    "start_time": "2023-02-22T07:24:38.673Z"
   },
   {
    "duration": 219,
    "start_time": "2023-02-22T07:25:26.317Z"
   },
   {
    "duration": 37,
    "start_time": "2023-02-22T07:25:29.769Z"
   },
   {
    "duration": 27,
    "start_time": "2023-02-22T07:26:42.984Z"
   },
   {
    "duration": 26,
    "start_time": "2023-02-22T07:38:42.920Z"
   },
   {
    "duration": 16,
    "start_time": "2023-02-22T07:38:47.505Z"
   },
   {
    "duration": 32,
    "start_time": "2023-02-22T07:39:13.392Z"
   },
   {
    "duration": 24,
    "start_time": "2023-02-22T07:39:48.085Z"
   },
   {
    "duration": 24,
    "start_time": "2023-02-22T07:39:52.983Z"
   },
   {
    "duration": 33,
    "start_time": "2023-02-22T07:40:44.044Z"
   },
   {
    "duration": 46,
    "start_time": "2023-02-22T07:41:17.186Z"
   },
   {
    "duration": 50,
    "start_time": "2023-02-22T07:41:37.778Z"
   },
   {
    "duration": 66,
    "start_time": "2023-02-22T07:41:47.974Z"
   },
   {
    "duration": 37,
    "start_time": "2023-02-22T07:43:29.283Z"
   },
   {
    "duration": 20,
    "start_time": "2023-02-22T07:43:40.217Z"
   },
   {
    "duration": 25,
    "start_time": "2023-02-22T07:43:50.580Z"
   },
   {
    "duration": 32,
    "start_time": "2023-02-22T07:44:12.260Z"
   },
   {
    "duration": 25,
    "start_time": "2023-02-22T07:44:20.179Z"
   },
   {
    "duration": 23,
    "start_time": "2023-02-22T07:44:25.131Z"
   },
   {
    "duration": 164,
    "start_time": "2023-02-22T07:44:36.757Z"
   },
   {
    "duration": 15,
    "start_time": "2023-02-22T07:44:39.666Z"
   },
   {
    "duration": 297,
    "start_time": "2023-02-22T07:44:49.813Z"
   },
   {
    "duration": 260,
    "start_time": "2023-02-22T07:44:59.820Z"
   },
   {
    "duration": 17,
    "start_time": "2023-02-22T08:20:20.727Z"
   },
   {
    "duration": 117,
    "start_time": "2023-02-22T08:25:24.905Z"
   },
   {
    "duration": 24,
    "start_time": "2023-02-22T08:25:25.450Z"
   },
   {
    "duration": 10,
    "start_time": "2023-02-22T08:25:32.608Z"
   },
   {
    "duration": 17,
    "start_time": "2023-02-22T08:25:33.292Z"
   },
   {
    "duration": 39,
    "start_time": "2023-02-22T08:25:34.835Z"
   },
   {
    "duration": 151,
    "start_time": "2023-02-22T08:25:41.939Z"
   },
   {
    "duration": 187,
    "start_time": "2023-02-22T08:25:42.716Z"
   },
   {
    "duration": 167,
    "start_time": "2023-02-22T08:26:13.348Z"
   },
   {
    "duration": 11,
    "start_time": "2023-02-22T08:26:58.645Z"
   },
   {
    "duration": 19,
    "start_time": "2023-02-22T08:27:02.984Z"
   },
   {
    "duration": 69,
    "start_time": "2023-02-22T08:28:49.897Z"
   },
   {
    "duration": 208,
    "start_time": "2023-02-22T08:30:04.659Z"
   },
   {
    "duration": 230,
    "start_time": "2023-02-22T08:30:16.387Z"
   },
   {
    "duration": 220,
    "start_time": "2023-02-22T08:30:21.091Z"
   },
   {
    "duration": 446,
    "start_time": "2023-02-22T08:31:15.358Z"
   },
   {
    "duration": 289,
    "start_time": "2023-02-22T08:31:26.961Z"
   },
   {
    "duration": 267,
    "start_time": "2023-02-22T08:32:28.255Z"
   },
   {
    "duration": 238,
    "start_time": "2023-02-22T08:32:52.888Z"
   },
   {
    "duration": 229,
    "start_time": "2023-02-22T08:34:00.569Z"
   },
   {
    "duration": 56,
    "start_time": "2023-02-22T08:35:28.809Z"
   },
   {
    "duration": 1328,
    "start_time": "2023-02-22T08:52:21.275Z"
   },
   {
    "duration": 7,
    "start_time": "2023-02-22T08:52:27.942Z"
   },
   {
    "duration": 14,
    "start_time": "2023-02-22T08:53:07.394Z"
   },
   {
    "duration": 26,
    "start_time": "2023-02-22T08:53:07.771Z"
   },
   {
    "duration": 25,
    "start_time": "2023-02-22T08:53:19.350Z"
   },
   {
    "duration": 183,
    "start_time": "2023-02-22T08:53:21.032Z"
   },
   {
    "duration": 9,
    "start_time": "2023-02-22T08:56:16.956Z"
   },
   {
    "duration": 11,
    "start_time": "2023-02-22T08:57:30.150Z"
   },
   {
    "duration": 65,
    "start_time": "2023-02-22T08:59:12.369Z"
   },
   {
    "duration": 7,
    "start_time": "2023-02-22T09:01:01.151Z"
   },
   {
    "duration": 65,
    "start_time": "2023-02-22T09:01:04.154Z"
   },
   {
    "duration": 73,
    "start_time": "2023-02-22T09:01:58.340Z"
   },
   {
    "duration": 6,
    "start_time": "2023-02-22T09:03:29.826Z"
   },
   {
    "duration": 63,
    "start_time": "2023-02-22T09:03:30.633Z"
   },
   {
    "duration": 26,
    "start_time": "2023-02-22T09:07:56.353Z"
   },
   {
    "duration": 1399,
    "start_time": "2023-02-22T09:08:14.019Z"
   },
   {
    "duration": 25,
    "start_time": "2023-02-22T09:08:30.107Z"
   },
   {
    "duration": 4,
    "start_time": "2023-02-22T11:38:09.277Z"
   },
   {
    "duration": 944,
    "start_time": "2023-02-22T11:38:09.283Z"
   },
   {
    "duration": 421,
    "start_time": "2023-02-22T11:38:10.228Z"
   },
   {
    "duration": 88,
    "start_time": "2023-02-22T11:38:10.651Z"
   },
   {
    "duration": 96,
    "start_time": "2023-02-22T11:38:10.742Z"
   },
   {
    "duration": 121,
    "start_time": "2023-02-22T11:38:10.839Z"
   },
   {
    "duration": 7,
    "start_time": "2023-02-22T11:38:10.961Z"
   },
   {
    "duration": 25,
    "start_time": "2023-02-22T11:38:10.969Z"
   },
   {
    "duration": 74,
    "start_time": "2023-02-22T11:38:10.996Z"
   },
   {
    "duration": 36,
    "start_time": "2023-02-22T11:38:11.071Z"
   },
   {
    "duration": 16,
    "start_time": "2023-02-22T11:38:11.108Z"
   },
   {
    "duration": 6,
    "start_time": "2023-02-22T11:38:11.125Z"
   },
   {
    "duration": 17,
    "start_time": "2023-02-22T11:38:11.133Z"
   },
   {
    "duration": 19,
    "start_time": "2023-02-22T11:38:11.186Z"
   },
   {
    "duration": 11,
    "start_time": "2023-02-22T11:38:11.207Z"
   },
   {
    "duration": 17,
    "start_time": "2023-02-22T11:38:11.220Z"
   },
   {
    "duration": 4,
    "start_time": "2023-02-22T11:38:11.238Z"
   },
   {
    "duration": 168,
    "start_time": "2023-02-22T11:38:11.243Z"
   },
   {
    "duration": 11,
    "start_time": "2023-02-22T11:38:11.413Z"
   },
   {
    "duration": 14,
    "start_time": "2023-02-22T11:38:11.426Z"
   },
   {
    "duration": 56,
    "start_time": "2023-02-22T11:38:11.441Z"
   },
   {
    "duration": 15,
    "start_time": "2023-02-22T11:38:11.499Z"
   },
   {
    "duration": 215,
    "start_time": "2023-02-22T11:38:11.516Z"
   },
   {
    "duration": 181,
    "start_time": "2023-02-22T11:38:11.732Z"
   },
   {
    "duration": 240,
    "start_time": "2023-02-22T11:38:11.915Z"
   },
   {
    "duration": 18,
    "start_time": "2023-02-22T11:38:12.157Z"
   },
   {
    "duration": 17,
    "start_time": "2023-02-22T11:38:12.186Z"
   },
   {
    "duration": 16,
    "start_time": "2023-02-22T11:38:12.204Z"
   },
   {
    "duration": 73,
    "start_time": "2023-02-22T11:38:12.221Z"
   },
   {
    "duration": 29,
    "start_time": "2023-02-22T11:44:33.066Z"
   },
   {
    "duration": 2024,
    "start_time": "2023-02-22T13:20:24.887Z"
   },
   {
    "duration": 1940,
    "start_time": "2023-02-22T13:20:26.913Z"
   },
   {
    "duration": 534,
    "start_time": "2023-02-22T13:20:28.855Z"
   },
   {
    "duration": 130,
    "start_time": "2023-02-22T13:20:29.391Z"
   },
   {
    "duration": 79,
    "start_time": "2023-02-22T13:20:29.523Z"
   },
   {
    "duration": 129,
    "start_time": "2023-02-22T13:20:29.604Z"
   },
   {
    "duration": 14,
    "start_time": "2023-02-22T13:20:29.735Z"
   },
   {
    "duration": 12,
    "start_time": "2023-02-22T13:20:29.750Z"
   },
   {
    "duration": 100,
    "start_time": "2023-02-22T13:20:29.764Z"
   },
   {
    "duration": 42,
    "start_time": "2023-02-22T13:20:29.867Z"
   },
   {
    "duration": 33,
    "start_time": "2023-02-22T13:20:29.913Z"
   },
   {
    "duration": 6,
    "start_time": "2023-02-22T13:20:29.948Z"
   },
   {
    "duration": 27,
    "start_time": "2023-02-22T13:20:29.956Z"
   },
   {
    "duration": 24,
    "start_time": "2023-02-22T13:20:29.985Z"
   },
   {
    "duration": 32,
    "start_time": "2023-02-22T13:20:30.012Z"
   },
   {
    "duration": 21,
    "start_time": "2023-02-22T13:20:30.047Z"
   },
   {
    "duration": 3,
    "start_time": "2023-02-22T13:20:30.070Z"
   },
   {
    "duration": 147,
    "start_time": "2023-02-22T13:20:30.075Z"
   },
   {
    "duration": 10,
    "start_time": "2023-02-22T13:20:30.223Z"
   },
   {
    "duration": 22,
    "start_time": "2023-02-22T13:20:30.234Z"
   },
   {
    "duration": 41,
    "start_time": "2023-02-22T13:20:30.257Z"
   },
   {
    "duration": 17,
    "start_time": "2023-02-22T13:20:30.299Z"
   },
   {
    "duration": 197,
    "start_time": "2023-02-22T13:20:30.318Z"
   },
   {
    "duration": 201,
    "start_time": "2023-02-22T13:20:30.517Z"
   },
   {
    "duration": 268,
    "start_time": "2023-02-22T13:20:30.720Z"
   },
   {
    "duration": 21,
    "start_time": "2023-02-22T13:20:30.990Z"
   },
   {
    "duration": 495,
    "start_time": "2023-02-22T13:20:31.012Z"
   },
   {
    "duration": 6,
    "start_time": "2023-02-22T13:20:31.511Z"
   },
   {
    "duration": 176,
    "start_time": "2023-02-22T13:20:31.518Z"
   },
   {
    "duration": 5,
    "start_time": "2023-02-22T13:34:22.953Z"
   },
   {
    "duration": 4,
    "start_time": "2023-02-22T13:34:26.995Z"
   },
   {
    "duration": 7,
    "start_time": "2023-02-22T13:40:38.464Z"
   },
   {
    "duration": 58,
    "start_time": "2023-02-22T13:40:39.785Z"
   },
   {
    "duration": 80,
    "start_time": "2023-02-22T14:49:38.403Z"
   },
   {
    "duration": 44,
    "start_time": "2023-02-22T14:53:11.247Z"
   },
   {
    "duration": 6,
    "start_time": "2023-02-22T14:53:24.776Z"
   },
   {
    "duration": 1441,
    "start_time": "2023-02-22T14:53:32.217Z"
   },
   {
    "duration": 1045,
    "start_time": "2023-02-22T14:53:35.892Z"
   },
   {
    "duration": 460,
    "start_time": "2023-02-22T14:53:36.939Z"
   },
   {
    "duration": 110,
    "start_time": "2023-02-22T14:53:37.750Z"
   },
   {
    "duration": 67,
    "start_time": "2023-02-22T14:53:40.388Z"
   },
   {
    "duration": 153,
    "start_time": "2023-02-22T14:53:44.248Z"
   },
   {
    "duration": 10,
    "start_time": "2023-02-22T14:53:47.657Z"
   },
   {
    "duration": 138,
    "start_time": "2023-02-22T14:53:49.993Z"
   },
   {
    "duration": 126,
    "start_time": "2023-02-22T14:55:03.264Z"
   },
   {
    "duration": 120,
    "start_time": "2023-02-22T14:55:09.397Z"
   },
   {
    "duration": 153,
    "start_time": "2023-02-22T14:55:25.677Z"
   },
   {
    "duration": 51,
    "start_time": "2023-02-22T14:56:44.444Z"
   },
   {
    "duration": 1225,
    "start_time": "2023-02-22T14:56:50.937Z"
   },
   {
    "duration": 4,
    "start_time": "2023-02-22T14:57:08.845Z"
   },
   {
    "duration": 545,
    "start_time": "2023-02-22T14:57:08.850Z"
   },
   {
    "duration": 477,
    "start_time": "2023-02-22T14:57:09.397Z"
   },
   {
    "duration": 87,
    "start_time": "2023-02-22T14:57:09.876Z"
   },
   {
    "duration": 67,
    "start_time": "2023-02-22T14:57:09.966Z"
   },
   {
    "duration": 138,
    "start_time": "2023-02-22T14:57:10.053Z"
   },
   {
    "duration": 9,
    "start_time": "2023-02-22T14:57:10.193Z"
   },
   {
    "duration": 12,
    "start_time": "2023-02-22T14:57:10.204Z"
   },
   {
    "duration": 117,
    "start_time": "2023-02-22T14:57:10.219Z"
   },
   {
    "duration": 51,
    "start_time": "2023-02-22T14:57:10.338Z"
   },
   {
    "duration": 18,
    "start_time": "2023-02-22T14:57:10.394Z"
   },
   {
    "duration": 6,
    "start_time": "2023-02-22T14:57:10.414Z"
   },
   {
    "duration": 43,
    "start_time": "2023-02-22T14:57:10.422Z"
   },
   {
    "duration": 17,
    "start_time": "2023-02-22T14:57:10.467Z"
   },
   {
    "duration": 11,
    "start_time": "2023-02-22T14:57:10.486Z"
   },
   {
    "duration": 20,
    "start_time": "2023-02-22T14:57:10.498Z"
   },
   {
    "duration": 162,
    "start_time": "2023-02-22T14:57:10.520Z"
   },
   {
    "duration": 11,
    "start_time": "2023-02-22T14:57:10.683Z"
   },
   {
    "duration": 14,
    "start_time": "2023-02-22T14:57:10.696Z"
   },
   {
    "duration": 60,
    "start_time": "2023-02-22T14:57:10.712Z"
   },
   {
    "duration": 16,
    "start_time": "2023-02-22T14:57:10.774Z"
   },
   {
    "duration": 180,
    "start_time": "2023-02-22T14:57:10.792Z"
   },
   {
    "duration": 223,
    "start_time": "2023-02-22T14:57:10.974Z"
   },
   {
    "duration": 268,
    "start_time": "2023-02-22T14:57:11.199Z"
   },
   {
    "duration": 22,
    "start_time": "2023-02-22T14:57:11.468Z"
   },
   {
    "duration": 184,
    "start_time": "2023-02-22T14:57:11.492Z"
   },
   {
    "duration": 7,
    "start_time": "2023-02-22T14:57:11.678Z"
   },
   {
    "duration": 182,
    "start_time": "2023-02-22T14:57:11.687Z"
   },
   {
    "duration": 5,
    "start_time": "2023-02-22T14:57:33.467Z"
   },
   {
    "duration": 600,
    "start_time": "2023-02-22T14:57:33.475Z"
   },
   {
    "duration": 435,
    "start_time": "2023-02-22T14:57:34.077Z"
   },
   {
    "duration": 94,
    "start_time": "2023-02-22T14:57:34.514Z"
   },
   {
    "duration": 75,
    "start_time": "2023-02-22T14:57:34.610Z"
   },
   {
    "duration": 135,
    "start_time": "2023-02-22T14:57:34.687Z"
   },
   {
    "duration": 10,
    "start_time": "2023-02-22T14:57:34.824Z"
   },
   {
    "duration": 77,
    "start_time": "2023-02-22T14:57:34.852Z"
   },
   {
    "duration": 0,
    "start_time": "2023-02-22T14:57:34.931Z"
   },
   {
    "duration": 0,
    "start_time": "2023-02-22T14:57:34.933Z"
   },
   {
    "duration": 0,
    "start_time": "2023-02-22T14:57:34.934Z"
   },
   {
    "duration": 0,
    "start_time": "2023-02-22T14:57:34.935Z"
   },
   {
    "duration": 0,
    "start_time": "2023-02-22T14:57:34.936Z"
   },
   {
    "duration": 0,
    "start_time": "2023-02-22T14:57:34.937Z"
   },
   {
    "duration": 0,
    "start_time": "2023-02-22T14:57:34.938Z"
   },
   {
    "duration": 0,
    "start_time": "2023-02-22T14:57:34.939Z"
   },
   {
    "duration": 0,
    "start_time": "2023-02-22T14:57:34.940Z"
   },
   {
    "duration": 0,
    "start_time": "2023-02-22T14:57:34.941Z"
   },
   {
    "duration": 0,
    "start_time": "2023-02-22T14:57:34.942Z"
   },
   {
    "duration": 0,
    "start_time": "2023-02-22T14:57:34.943Z"
   },
   {
    "duration": 0,
    "start_time": "2023-02-22T14:57:34.944Z"
   },
   {
    "duration": 0,
    "start_time": "2023-02-22T14:57:34.944Z"
   },
   {
    "duration": 0,
    "start_time": "2023-02-22T14:57:34.945Z"
   },
   {
    "duration": 0,
    "start_time": "2023-02-22T14:57:34.946Z"
   },
   {
    "duration": 0,
    "start_time": "2023-02-22T14:57:34.947Z"
   },
   {
    "duration": 0,
    "start_time": "2023-02-22T14:57:34.948Z"
   },
   {
    "duration": 0,
    "start_time": "2023-02-22T14:57:34.949Z"
   },
   {
    "duration": 0,
    "start_time": "2023-02-22T14:57:34.950Z"
   },
   {
    "duration": 0,
    "start_time": "2023-02-22T14:57:34.950Z"
   },
   {
    "duration": 1252,
    "start_time": "2023-02-22T14:57:59.699Z"
   },
   {
    "duration": 49,
    "start_time": "2023-02-22T14:58:18.427Z"
   },
   {
    "duration": 49,
    "start_time": "2023-02-22T14:58:46.231Z"
   },
   {
    "duration": 44,
    "start_time": "2023-02-22T14:58:51.463Z"
   },
   {
    "duration": 39,
    "start_time": "2023-02-22T14:59:43.584Z"
   },
   {
    "duration": 40,
    "start_time": "2023-02-22T15:00:33.935Z"
   },
   {
    "duration": 13,
    "start_time": "2023-02-22T15:03:34.449Z"
   },
   {
    "duration": 87,
    "start_time": "2023-02-22T15:03:36.660Z"
   },
   {
    "duration": 37,
    "start_time": "2023-02-22T15:03:37.873Z"
   },
   {
    "duration": 17,
    "start_time": "2023-02-22T15:03:40.432Z"
   },
   {
    "duration": 7,
    "start_time": "2023-02-22T15:03:42.190Z"
   },
   {
    "duration": 16,
    "start_time": "2023-02-22T15:03:42.551Z"
   },
   {
    "duration": 17,
    "start_time": "2023-02-22T15:03:43.126Z"
   },
   {
    "duration": 18,
    "start_time": "2023-02-22T15:03:44.877Z"
   },
   {
    "duration": 24,
    "start_time": "2023-02-22T15:03:59.863Z"
   },
   {
    "duration": 71,
    "start_time": "2023-02-22T15:07:27.505Z"
   },
   {
    "duration": 4,
    "start_time": "2023-02-22T15:08:09.948Z"
   },
   {
    "duration": 589,
    "start_time": "2023-02-22T15:08:09.954Z"
   },
   {
    "duration": 473,
    "start_time": "2023-02-22T15:08:10.545Z"
   },
   {
    "duration": 191,
    "start_time": "2023-02-22T15:08:11.020Z"
   },
   {
    "duration": 72,
    "start_time": "2023-02-22T15:08:11.213Z"
   },
   {
    "duration": 135,
    "start_time": "2023-02-22T15:08:11.286Z"
   },
   {
    "duration": 8,
    "start_time": "2023-02-22T15:08:11.423Z"
   },
   {
    "duration": 60,
    "start_time": "2023-02-22T15:08:11.433Z"
   },
   {
    "duration": 12,
    "start_time": "2023-02-22T15:08:11.495Z"
   },
   {
    "duration": 106,
    "start_time": "2023-02-22T15:08:11.509Z"
   },
   {
    "duration": 40,
    "start_time": "2023-02-22T15:08:11.618Z"
   },
   {
    "duration": 20,
    "start_time": "2023-02-22T15:08:11.659Z"
   },
   {
    "duration": 7,
    "start_time": "2023-02-22T15:08:11.680Z"
   },
   {
    "duration": 17,
    "start_time": "2023-02-22T15:08:11.688Z"
   },
   {
    "duration": 52,
    "start_time": "2023-02-22T15:08:11.707Z"
   },
   {
    "duration": 14,
    "start_time": "2023-02-22T15:08:11.760Z"
   },
   {
    "duration": 1221,
    "start_time": "2023-02-22T15:08:11.775Z"
   },
   {
    "duration": 0,
    "start_time": "2023-02-22T15:08:12.998Z"
   },
   {
    "duration": 0,
    "start_time": "2023-02-22T15:08:12.999Z"
   },
   {
    "duration": 0,
    "start_time": "2023-02-22T15:08:13.000Z"
   },
   {
    "duration": 0,
    "start_time": "2023-02-22T15:08:13.001Z"
   },
   {
    "duration": 0,
    "start_time": "2023-02-22T15:08:13.002Z"
   },
   {
    "duration": 0,
    "start_time": "2023-02-22T15:08:13.004Z"
   },
   {
    "duration": 0,
    "start_time": "2023-02-22T15:08:13.005Z"
   },
   {
    "duration": 0,
    "start_time": "2023-02-22T15:08:13.006Z"
   },
   {
    "duration": 0,
    "start_time": "2023-02-22T15:08:13.007Z"
   },
   {
    "duration": 0,
    "start_time": "2023-02-22T15:08:13.008Z"
   },
   {
    "duration": 0,
    "start_time": "2023-02-22T15:08:13.009Z"
   },
   {
    "duration": 0,
    "start_time": "2023-02-22T15:08:13.010Z"
   },
   {
    "duration": 0,
    "start_time": "2023-02-22T15:08:13.012Z"
   },
   {
    "duration": 1172,
    "start_time": "2023-02-22T15:08:25.634Z"
   },
   {
    "duration": 4,
    "start_time": "2023-02-22T15:08:46.691Z"
   },
   {
    "duration": 10,
    "start_time": "2023-02-22T15:08:53.335Z"
   },
   {
    "duration": 14,
    "start_time": "2023-02-22T15:09:35.274Z"
   },
   {
    "duration": 4,
    "start_time": "2023-02-22T15:09:56.598Z"
   },
   {
    "duration": 653,
    "start_time": "2023-02-22T15:09:56.603Z"
   },
   {
    "duration": 553,
    "start_time": "2023-02-22T15:09:57.258Z"
   },
   {
    "duration": 106,
    "start_time": "2023-02-22T15:09:57.814Z"
   },
   {
    "duration": 82,
    "start_time": "2023-02-22T15:09:57.923Z"
   },
   {
    "duration": 136,
    "start_time": "2023-02-22T15:09:58.007Z"
   },
   {
    "duration": 14,
    "start_time": "2023-02-22T15:09:58.144Z"
   },
   {
    "duration": 43,
    "start_time": "2023-02-22T15:09:58.160Z"
   },
   {
    "duration": 10,
    "start_time": "2023-02-22T15:09:58.205Z"
   },
   {
    "duration": 111,
    "start_time": "2023-02-22T15:09:58.217Z"
   },
   {
    "duration": 45,
    "start_time": "2023-02-22T15:09:58.331Z"
   },
   {
    "duration": 27,
    "start_time": "2023-02-22T15:09:58.378Z"
   },
   {
    "duration": 8,
    "start_time": "2023-02-22T15:09:58.407Z"
   },
   {
    "duration": 47,
    "start_time": "2023-02-22T15:09:58.417Z"
   },
   {
    "duration": 18,
    "start_time": "2023-02-22T15:09:58.466Z"
   },
   {
    "duration": 13,
    "start_time": "2023-02-22T15:09:58.486Z"
   },
   {
    "duration": 10,
    "start_time": "2023-02-22T15:09:58.500Z"
   },
   {
    "duration": 64,
    "start_time": "2023-02-22T15:09:58.512Z"
   },
   {
    "duration": 159,
    "start_time": "2023-02-22T15:09:58.578Z"
   },
   {
    "duration": 19,
    "start_time": "2023-02-22T15:09:58.739Z"
   },
   {
    "duration": 13,
    "start_time": "2023-02-22T15:09:58.760Z"
   },
   {
    "duration": 32,
    "start_time": "2023-02-22T15:09:58.774Z"
   },
   {
    "duration": 51,
    "start_time": "2023-02-22T15:09:58.807Z"
   },
   {
    "duration": 165,
    "start_time": "2023-02-22T15:09:58.860Z"
   },
   {
    "duration": 201,
    "start_time": "2023-02-22T15:09:59.026Z"
   },
   {
    "duration": 201,
    "start_time": "2023-02-22T15:09:59.228Z"
   },
   {
    "duration": 27,
    "start_time": "2023-02-22T15:09:59.431Z"
   },
   {
    "duration": 18,
    "start_time": "2023-02-22T15:09:59.460Z"
   },
   {
    "duration": 13,
    "start_time": "2023-02-22T15:09:59.481Z"
   },
   {
    "duration": 103,
    "start_time": "2023-02-22T15:09:59.496Z"
   },
   {
    "duration": 5,
    "start_time": "2023-02-22T15:10:29.776Z"
   },
   {
    "duration": 597,
    "start_time": "2023-02-22T15:10:29.783Z"
   },
   {
    "duration": 505,
    "start_time": "2023-02-22T15:10:30.382Z"
   },
   {
    "duration": 90,
    "start_time": "2023-02-22T15:10:30.888Z"
   },
   {
    "duration": 77,
    "start_time": "2023-02-22T15:10:30.981Z"
   },
   {
    "duration": 142,
    "start_time": "2023-02-22T15:10:31.060Z"
   },
   {
    "duration": 8,
    "start_time": "2023-02-22T15:10:31.204Z"
   },
   {
    "duration": 71,
    "start_time": "2023-02-22T15:10:31.213Z"
   },
   {
    "duration": 10,
    "start_time": "2023-02-22T15:10:31.286Z"
   },
   {
    "duration": 110,
    "start_time": "2023-02-22T15:10:31.298Z"
   },
   {
    "duration": 31,
    "start_time": "2023-02-22T15:10:31.410Z"
   },
   {
    "duration": 18,
    "start_time": "2023-02-22T15:10:31.453Z"
   },
   {
    "duration": 24,
    "start_time": "2023-02-22T15:10:31.473Z"
   },
   {
    "duration": 37,
    "start_time": "2023-02-22T15:10:31.500Z"
   },
   {
    "duration": 38,
    "start_time": "2023-02-22T15:10:31.538Z"
   },
   {
    "duration": 22,
    "start_time": "2023-02-22T15:10:31.578Z"
   },
   {
    "duration": 66,
    "start_time": "2023-02-22T15:10:31.602Z"
   },
   {
    "duration": 0,
    "start_time": "2023-02-22T15:10:31.670Z"
   },
   {
    "duration": 0,
    "start_time": "2023-02-22T15:10:31.671Z"
   },
   {
    "duration": 0,
    "start_time": "2023-02-22T15:10:31.672Z"
   },
   {
    "duration": 0,
    "start_time": "2023-02-22T15:10:31.673Z"
   },
   {
    "duration": 0,
    "start_time": "2023-02-22T15:10:31.674Z"
   },
   {
    "duration": 0,
    "start_time": "2023-02-22T15:10:31.675Z"
   },
   {
    "duration": 0,
    "start_time": "2023-02-22T15:10:31.676Z"
   },
   {
    "duration": 0,
    "start_time": "2023-02-22T15:10:31.677Z"
   },
   {
    "duration": 0,
    "start_time": "2023-02-22T15:10:31.678Z"
   },
   {
    "duration": 0,
    "start_time": "2023-02-22T15:10:31.679Z"
   },
   {
    "duration": 0,
    "start_time": "2023-02-22T15:10:31.680Z"
   },
   {
    "duration": 0,
    "start_time": "2023-02-22T15:10:31.681Z"
   },
   {
    "duration": 0,
    "start_time": "2023-02-22T15:10:31.682Z"
   },
   {
    "duration": 9,
    "start_time": "2023-02-22T15:10:37.980Z"
   },
   {
    "duration": 11,
    "start_time": "2023-02-22T15:10:41.735Z"
   },
   {
    "duration": 13,
    "start_time": "2023-02-22T15:11:36.809Z"
   },
   {
    "duration": 12,
    "start_time": "2023-02-22T15:12:22.777Z"
   },
   {
    "duration": 13,
    "start_time": "2023-02-22T15:12:30.136Z"
   },
   {
    "duration": 20,
    "start_time": "2023-02-22T15:13:13.072Z"
   },
   {
    "duration": 5,
    "start_time": "2023-02-22T15:13:37.741Z"
   },
   {
    "duration": 577,
    "start_time": "2023-02-22T15:13:37.748Z"
   },
   {
    "duration": 458,
    "start_time": "2023-02-22T15:13:38.328Z"
   },
   {
    "duration": 99,
    "start_time": "2023-02-22T15:13:38.788Z"
   },
   {
    "duration": 74,
    "start_time": "2023-02-22T15:13:38.889Z"
   },
   {
    "duration": 140,
    "start_time": "2023-02-22T15:13:38.965Z"
   },
   {
    "duration": 7,
    "start_time": "2023-02-22T15:13:39.107Z"
   },
   {
    "duration": 64,
    "start_time": "2023-02-22T15:13:39.116Z"
   },
   {
    "duration": 11,
    "start_time": "2023-02-22T15:13:39.182Z"
   },
   {
    "duration": 97,
    "start_time": "2023-02-22T15:13:39.194Z"
   },
   {
    "duration": 32,
    "start_time": "2023-02-22T15:13:39.292Z"
   },
   {
    "duration": 39,
    "start_time": "2023-02-22T15:13:39.326Z"
   },
   {
    "duration": 6,
    "start_time": "2023-02-22T15:13:39.367Z"
   },
   {
    "duration": 16,
    "start_time": "2023-02-22T15:13:39.375Z"
   },
   {
    "duration": 16,
    "start_time": "2023-02-22T15:13:39.392Z"
   },
   {
    "duration": 11,
    "start_time": "2023-02-22T15:13:39.410Z"
   },
   {
    "duration": 18,
    "start_time": "2023-02-22T15:13:39.454Z"
   },
   {
    "duration": 0,
    "start_time": "2023-02-22T15:13:39.473Z"
   },
   {
    "duration": 0,
    "start_time": "2023-02-22T15:13:39.474Z"
   },
   {
    "duration": 0,
    "start_time": "2023-02-22T15:13:39.475Z"
   },
   {
    "duration": 0,
    "start_time": "2023-02-22T15:13:39.476Z"
   },
   {
    "duration": 0,
    "start_time": "2023-02-22T15:13:39.477Z"
   },
   {
    "duration": 0,
    "start_time": "2023-02-22T15:13:39.479Z"
   },
   {
    "duration": 0,
    "start_time": "2023-02-22T15:13:39.480Z"
   },
   {
    "duration": 0,
    "start_time": "2023-02-22T15:13:39.481Z"
   },
   {
    "duration": 0,
    "start_time": "2023-02-22T15:13:39.483Z"
   },
   {
    "duration": 0,
    "start_time": "2023-02-22T15:13:39.484Z"
   },
   {
    "duration": 0,
    "start_time": "2023-02-22T15:13:39.485Z"
   },
   {
    "duration": 0,
    "start_time": "2023-02-22T15:13:39.486Z"
   },
   {
    "duration": 0,
    "start_time": "2023-02-22T15:13:39.487Z"
   },
   {
    "duration": 19,
    "start_time": "2023-02-22T15:13:55.233Z"
   },
   {
    "duration": 20,
    "start_time": "2023-02-22T15:16:01.299Z"
   },
   {
    "duration": 14,
    "start_time": "2023-02-22T15:16:06.069Z"
   },
   {
    "duration": 13,
    "start_time": "2023-02-22T15:16:09.004Z"
   },
   {
    "duration": 16,
    "start_time": "2023-02-22T15:16:41.366Z"
   },
   {
    "duration": 12,
    "start_time": "2023-02-22T15:16:53.086Z"
   },
   {
    "duration": 15,
    "start_time": "2023-02-22T15:17:21.524Z"
   },
   {
    "duration": 13,
    "start_time": "2023-02-22T15:17:34.510Z"
   },
   {
    "duration": 16,
    "start_time": "2023-02-22T15:21:04.063Z"
   },
   {
    "duration": 13,
    "start_time": "2023-02-22T15:21:05.345Z"
   },
   {
    "duration": 4,
    "start_time": "2023-02-22T15:21:15.704Z"
   },
   {
    "duration": 585,
    "start_time": "2023-02-22T15:21:15.711Z"
   },
   {
    "duration": 504,
    "start_time": "2023-02-22T15:21:16.298Z"
   },
   {
    "duration": 98,
    "start_time": "2023-02-22T15:21:16.803Z"
   },
   {
    "duration": 76,
    "start_time": "2023-02-22T15:21:16.903Z"
   },
   {
    "duration": 135,
    "start_time": "2023-02-22T15:21:16.981Z"
   },
   {
    "duration": 8,
    "start_time": "2023-02-22T15:21:17.118Z"
   },
   {
    "duration": 70,
    "start_time": "2023-02-22T15:21:17.128Z"
   },
   {
    "duration": 11,
    "start_time": "2023-02-22T15:21:17.200Z"
   },
   {
    "duration": 121,
    "start_time": "2023-02-22T15:21:17.213Z"
   },
   {
    "duration": 43,
    "start_time": "2023-02-22T15:21:17.337Z"
   },
   {
    "duration": 20,
    "start_time": "2023-02-22T15:21:17.382Z"
   },
   {
    "duration": 7,
    "start_time": "2023-02-22T15:21:17.404Z"
   },
   {
    "duration": 48,
    "start_time": "2023-02-22T15:21:17.413Z"
   },
   {
    "duration": 22,
    "start_time": "2023-02-22T15:21:17.464Z"
   },
   {
    "duration": 23,
    "start_time": "2023-02-22T15:21:17.488Z"
   },
   {
    "duration": 57,
    "start_time": "2023-02-22T15:21:17.513Z"
   },
   {
    "duration": 18,
    "start_time": "2023-02-22T15:21:17.572Z"
   },
   {
    "duration": 0,
    "start_time": "2023-02-22T15:21:17.593Z"
   },
   {
    "duration": 0,
    "start_time": "2023-02-22T15:21:17.595Z"
   },
   {
    "duration": 1,
    "start_time": "2023-02-22T15:21:17.596Z"
   },
   {
    "duration": 0,
    "start_time": "2023-02-22T15:21:17.598Z"
   },
   {
    "duration": 0,
    "start_time": "2023-02-22T15:21:17.600Z"
   },
   {
    "duration": 0,
    "start_time": "2023-02-22T15:21:17.602Z"
   },
   {
    "duration": 0,
    "start_time": "2023-02-22T15:21:17.603Z"
   },
   {
    "duration": 0,
    "start_time": "2023-02-22T15:21:17.605Z"
   },
   {
    "duration": 0,
    "start_time": "2023-02-22T15:21:17.607Z"
   },
   {
    "duration": 0,
    "start_time": "2023-02-22T15:21:17.608Z"
   },
   {
    "duration": 0,
    "start_time": "2023-02-22T15:21:17.609Z"
   },
   {
    "duration": 0,
    "start_time": "2023-02-22T15:21:17.654Z"
   },
   {
    "duration": 0,
    "start_time": "2023-02-22T15:21:17.656Z"
   },
   {
    "duration": 11,
    "start_time": "2023-02-22T15:23:13.891Z"
   },
   {
    "duration": 4,
    "start_time": "2023-02-22T15:24:41.650Z"
   },
   {
    "duration": 535,
    "start_time": "2023-02-22T15:24:41.655Z"
   },
   {
    "duration": 468,
    "start_time": "2023-02-22T15:24:42.192Z"
   },
   {
    "duration": 67,
    "start_time": "2023-02-22T15:24:42.661Z"
   },
   {
    "duration": 84,
    "start_time": "2023-02-22T15:24:42.730Z"
   },
   {
    "duration": 151,
    "start_time": "2023-02-22T15:24:42.815Z"
   },
   {
    "duration": 8,
    "start_time": "2023-02-22T15:24:42.968Z"
   },
   {
    "duration": 62,
    "start_time": "2023-02-22T15:24:42.977Z"
   },
   {
    "duration": 20,
    "start_time": "2023-02-22T15:24:43.042Z"
   },
   {
    "duration": 96,
    "start_time": "2023-02-22T15:24:43.063Z"
   },
   {
    "duration": 30,
    "start_time": "2023-02-22T15:24:43.162Z"
   },
   {
    "duration": 17,
    "start_time": "2023-02-22T15:24:43.194Z"
   },
   {
    "duration": 7,
    "start_time": "2023-02-22T15:24:43.212Z"
   },
   {
    "duration": 44,
    "start_time": "2023-02-22T15:24:43.220Z"
   },
   {
    "duration": 16,
    "start_time": "2023-02-22T15:24:43.265Z"
   },
   {
    "duration": 11,
    "start_time": "2023-02-22T15:24:43.283Z"
   },
   {
    "duration": 16,
    "start_time": "2023-02-22T15:24:43.295Z"
   },
   {
    "duration": 50,
    "start_time": "2023-02-22T15:24:43.312Z"
   },
   {
    "duration": 0,
    "start_time": "2023-02-22T15:24:43.364Z"
   },
   {
    "duration": 0,
    "start_time": "2023-02-22T15:24:43.365Z"
   },
   {
    "duration": 0,
    "start_time": "2023-02-22T15:24:43.367Z"
   },
   {
    "duration": 0,
    "start_time": "2023-02-22T15:24:43.368Z"
   },
   {
    "duration": 0,
    "start_time": "2023-02-22T15:24:43.369Z"
   },
   {
    "duration": 0,
    "start_time": "2023-02-22T15:24:43.370Z"
   },
   {
    "duration": 0,
    "start_time": "2023-02-22T15:24:43.371Z"
   },
   {
    "duration": 0,
    "start_time": "2023-02-22T15:24:43.372Z"
   },
   {
    "duration": 0,
    "start_time": "2023-02-22T15:24:43.373Z"
   },
   {
    "duration": 1,
    "start_time": "2023-02-22T15:24:43.374Z"
   },
   {
    "duration": 0,
    "start_time": "2023-02-22T15:24:43.375Z"
   },
   {
    "duration": 0,
    "start_time": "2023-02-22T15:24:43.377Z"
   },
   {
    "duration": 1,
    "start_time": "2023-02-22T15:24:43.377Z"
   },
   {
    "duration": 17,
    "start_time": "2023-02-22T15:25:04.313Z"
   },
   {
    "duration": 17,
    "start_time": "2023-02-22T15:25:17.522Z"
   },
   {
    "duration": 13,
    "start_time": "2023-02-22T15:25:20.170Z"
   },
   {
    "duration": 12,
    "start_time": "2023-02-22T15:26:51.612Z"
   },
   {
    "duration": 11,
    "start_time": "2023-02-22T15:27:01.664Z"
   },
   {
    "duration": 14,
    "start_time": "2023-02-22T15:27:11.775Z"
   },
   {
    "duration": 13,
    "start_time": "2023-02-22T15:28:11.961Z"
   },
   {
    "duration": 23,
    "start_time": "2023-02-22T15:28:58.619Z"
   },
   {
    "duration": 147,
    "start_time": "2023-02-22T15:29:01.667Z"
   },
   {
    "duration": 13,
    "start_time": "2023-02-22T15:29:02.069Z"
   },
   {
    "duration": 14,
    "start_time": "2023-02-22T15:29:04.697Z"
   },
   {
    "duration": 33,
    "start_time": "2023-02-22T15:29:10.858Z"
   },
   {
    "duration": 18,
    "start_time": "2023-02-22T15:29:11.478Z"
   },
   {
    "duration": 151,
    "start_time": "2023-02-22T15:29:11.963Z"
   },
   {
    "duration": 181,
    "start_time": "2023-02-22T15:29:12.981Z"
   },
   {
    "duration": 212,
    "start_time": "2023-02-22T15:29:17.465Z"
   },
   {
    "duration": 4,
    "start_time": "2023-02-22T15:33:33.191Z"
   },
   {
    "duration": 565,
    "start_time": "2023-02-22T15:33:33.197Z"
   },
   {
    "duration": 463,
    "start_time": "2023-02-22T15:33:33.763Z"
   },
   {
    "duration": 70,
    "start_time": "2023-02-22T15:33:34.254Z"
   },
   {
    "duration": 78,
    "start_time": "2023-02-22T15:33:34.326Z"
   },
   {
    "duration": 147,
    "start_time": "2023-02-22T15:33:34.406Z"
   },
   {
    "duration": 8,
    "start_time": "2023-02-22T15:33:34.555Z"
   },
   {
    "duration": 52,
    "start_time": "2023-02-22T15:33:34.565Z"
   },
   {
    "duration": 11,
    "start_time": "2023-02-22T15:33:34.618Z"
   },
   {
    "duration": 80,
    "start_time": "2023-02-22T15:33:34.654Z"
   },
   {
    "duration": 47,
    "start_time": "2023-02-22T15:33:34.737Z"
   },
   {
    "duration": 19,
    "start_time": "2023-02-22T15:33:34.786Z"
   },
   {
    "duration": 6,
    "start_time": "2023-02-22T15:33:34.806Z"
   },
   {
    "duration": 48,
    "start_time": "2023-02-22T15:33:34.814Z"
   },
   {
    "duration": 198,
    "start_time": "2023-02-22T15:33:34.864Z"
   },
   {
    "duration": 18,
    "start_time": "2023-02-22T15:33:35.064Z"
   },
   {
    "duration": 15,
    "start_time": "2023-02-22T15:33:35.083Z"
   },
   {
    "duration": 27,
    "start_time": "2023-02-22T15:33:35.099Z"
   },
   {
    "duration": 173,
    "start_time": "2023-02-22T15:33:35.128Z"
   },
   {
    "duration": 13,
    "start_time": "2023-02-22T15:33:35.303Z"
   },
   {
    "duration": 16,
    "start_time": "2023-02-22T15:33:35.317Z"
   },
   {
    "duration": 50,
    "start_time": "2023-02-22T15:33:35.335Z"
   },
   {
    "duration": 17,
    "start_time": "2023-02-22T15:33:35.387Z"
   },
   {
    "duration": 191,
    "start_time": "2023-02-22T15:33:35.406Z"
   },
   {
    "duration": 196,
    "start_time": "2023-02-22T15:33:35.599Z"
   },
   {
    "duration": 204,
    "start_time": "2023-02-22T15:33:35.798Z"
   },
   {
    "duration": 76,
    "start_time": "2023-02-22T15:33:36.004Z"
   },
   {
    "duration": 0,
    "start_time": "2023-02-22T15:33:36.082Z"
   },
   {
    "duration": 0,
    "start_time": "2023-02-22T15:33:36.083Z"
   },
   {
    "duration": 0,
    "start_time": "2023-02-22T15:33:36.084Z"
   },
   {
    "duration": 0,
    "start_time": "2023-02-22T15:33:36.085Z"
   },
   {
    "duration": 182,
    "start_time": "2023-02-22T15:34:04.397Z"
   },
   {
    "duration": 17,
    "start_time": "2023-02-22T15:35:32.086Z"
   },
   {
    "duration": 5,
    "start_time": "2023-02-22T15:38:09.599Z"
   },
   {
    "duration": 574,
    "start_time": "2023-02-22T15:38:09.607Z"
   },
   {
    "duration": 601,
    "start_time": "2023-02-22T15:38:10.183Z"
   },
   {
    "duration": 85,
    "start_time": "2023-02-22T15:38:10.787Z"
   },
   {
    "duration": 80,
    "start_time": "2023-02-22T15:38:10.874Z"
   },
   {
    "duration": 140,
    "start_time": "2023-02-22T15:38:10.955Z"
   },
   {
    "duration": 201,
    "start_time": "2023-02-22T15:38:11.096Z"
   },
   {
    "duration": 8,
    "start_time": "2023-02-22T15:38:11.299Z"
   },
   {
    "duration": 54,
    "start_time": "2023-02-22T15:38:11.310Z"
   },
   {
    "duration": 13,
    "start_time": "2023-02-22T15:38:11.366Z"
   },
   {
    "duration": 107,
    "start_time": "2023-02-22T15:38:11.381Z"
   },
   {
    "duration": 46,
    "start_time": "2023-02-22T15:38:11.490Z"
   },
   {
    "duration": 31,
    "start_time": "2023-02-22T15:38:11.538Z"
   },
   {
    "duration": 7,
    "start_time": "2023-02-22T15:38:11.571Z"
   },
   {
    "duration": 20,
    "start_time": "2023-02-22T15:38:11.579Z"
   },
   {
    "duration": 19,
    "start_time": "2023-02-22T15:38:11.601Z"
   },
   {
    "duration": 14,
    "start_time": "2023-02-22T15:38:11.654Z"
   },
   {
    "duration": 11,
    "start_time": "2023-02-22T15:38:11.669Z"
   },
   {
    "duration": 22,
    "start_time": "2023-02-22T15:38:11.682Z"
   },
   {
    "duration": 177,
    "start_time": "2023-02-22T15:38:11.706Z"
   },
   {
    "duration": 11,
    "start_time": "2023-02-22T15:38:11.885Z"
   },
   {
    "duration": 14,
    "start_time": "2023-02-22T15:38:11.898Z"
   },
   {
    "duration": 57,
    "start_time": "2023-02-22T15:38:11.914Z"
   },
   {
    "duration": 18,
    "start_time": "2023-02-22T15:38:11.974Z"
   },
   {
    "duration": 193,
    "start_time": "2023-02-22T15:38:11.995Z"
   },
   {
    "duration": 217,
    "start_time": "2023-02-22T15:38:12.190Z"
   },
   {
    "duration": 190,
    "start_time": "2023-02-22T15:38:12.409Z"
   },
   {
    "duration": 17,
    "start_time": "2023-02-22T15:38:12.601Z"
   },
   {
    "duration": 198,
    "start_time": "2023-02-22T15:38:12.620Z"
   },
   {
    "duration": 20,
    "start_time": "2023-02-22T15:38:12.820Z"
   },
   {
    "duration": 26,
    "start_time": "2023-02-22T15:38:12.842Z"
   },
   {
    "duration": 7,
    "start_time": "2023-02-22T15:38:12.870Z"
   },
   {
    "duration": 96,
    "start_time": "2023-02-22T15:38:12.878Z"
   },
   {
    "duration": 4,
    "start_time": "2023-02-22T15:39:41.962Z"
   },
   {
    "duration": 538,
    "start_time": "2023-02-22T15:39:42.982Z"
   },
   {
    "duration": 438,
    "start_time": "2023-02-22T15:39:43.982Z"
   },
   {
    "duration": 73,
    "start_time": "2023-02-22T15:39:44.883Z"
   },
   {
    "duration": 65,
    "start_time": "2023-02-22T15:39:47.111Z"
   },
   {
    "duration": 130,
    "start_time": "2023-02-22T15:39:49.191Z"
   },
   {
    "duration": 163,
    "start_time": "2023-02-22T15:39:50.453Z"
   },
   {
    "duration": 168,
    "start_time": "2023-02-22T15:39:54.875Z"
   },
   {
    "duration": 5,
    "start_time": "2023-02-22T15:40:34.782Z"
   },
   {
    "duration": 549,
    "start_time": "2023-02-22T15:40:34.790Z"
   },
   {
    "duration": 531,
    "start_time": "2023-02-22T15:40:35.341Z"
   },
   {
    "duration": 98,
    "start_time": "2023-02-22T15:40:35.873Z"
   },
   {
    "duration": 92,
    "start_time": "2023-02-22T15:40:35.973Z"
   },
   {
    "duration": 137,
    "start_time": "2023-02-22T15:40:36.067Z"
   },
   {
    "duration": 219,
    "start_time": "2023-02-22T15:40:36.205Z"
   },
   {
    "duration": 8,
    "start_time": "2023-02-22T15:40:36.426Z"
   },
   {
    "duration": 56,
    "start_time": "2023-02-22T15:40:36.435Z"
   },
   {
    "duration": 12,
    "start_time": "2023-02-22T15:40:36.493Z"
   },
   {
    "duration": 119,
    "start_time": "2023-02-22T15:40:36.508Z"
   },
   {
    "duration": 44,
    "start_time": "2023-02-22T15:40:36.629Z"
   },
   {
    "duration": 22,
    "start_time": "2023-02-22T15:40:36.675Z"
   },
   {
    "duration": 7,
    "start_time": "2023-02-22T15:40:36.699Z"
   },
   {
    "duration": 47,
    "start_time": "2023-02-22T15:40:36.708Z"
   },
   {
    "duration": 20,
    "start_time": "2023-02-22T15:40:36.757Z"
   },
   {
    "duration": 14,
    "start_time": "2023-02-22T15:40:36.779Z"
   },
   {
    "duration": 12,
    "start_time": "2023-02-22T15:40:36.794Z"
   },
   {
    "duration": 66,
    "start_time": "2023-02-22T15:40:36.808Z"
   },
   {
    "duration": 181,
    "start_time": "2023-02-22T15:40:36.876Z"
   },
   {
    "duration": 12,
    "start_time": "2023-02-22T15:40:37.059Z"
   },
   {
    "duration": 16,
    "start_time": "2023-02-22T15:40:37.073Z"
   },
   {
    "duration": 70,
    "start_time": "2023-02-22T15:40:37.091Z"
   },
   {
    "duration": 19,
    "start_time": "2023-02-22T15:40:37.162Z"
   },
   {
    "duration": 210,
    "start_time": "2023-02-22T15:40:37.183Z"
   },
   {
    "duration": 271,
    "start_time": "2023-02-22T15:40:37.395Z"
   },
   {
    "duration": 216,
    "start_time": "2023-02-22T15:40:37.669Z"
   },
   {
    "duration": 16,
    "start_time": "2023-02-22T15:40:37.887Z"
   },
   {
    "duration": 220,
    "start_time": "2023-02-22T15:40:37.906Z"
   },
   {
    "duration": 35,
    "start_time": "2023-02-22T15:40:38.128Z"
   },
   {
    "duration": 19,
    "start_time": "2023-02-22T15:40:38.164Z"
   },
   {
    "duration": 7,
    "start_time": "2023-02-22T15:40:38.185Z"
   },
   {
    "duration": 110,
    "start_time": "2023-02-22T15:40:38.194Z"
   },
   {
    "duration": 112,
    "start_time": "2023-02-22T15:41:41.609Z"
   },
   {
    "duration": 183,
    "start_time": "2023-02-22T15:41:46.612Z"
   },
   {
    "duration": 147,
    "start_time": "2023-02-22T15:41:53.489Z"
   },
   {
    "duration": 174,
    "start_time": "2023-02-22T15:42:00.597Z"
   },
   {
    "duration": 106,
    "start_time": "2023-02-22T15:42:09.267Z"
   },
   {
    "duration": 136,
    "start_time": "2023-02-22T15:42:47.873Z"
   },
   {
    "duration": 5,
    "start_time": "2023-02-22T15:42:57.083Z"
   },
   {
    "duration": 652,
    "start_time": "2023-02-22T15:42:57.091Z"
   },
   {
    "duration": 552,
    "start_time": "2023-02-22T15:42:57.745Z"
   },
   {
    "duration": 99,
    "start_time": "2023-02-22T15:42:58.299Z"
   },
   {
    "duration": 81,
    "start_time": "2023-02-22T15:42:58.400Z"
   },
   {
    "duration": 136,
    "start_time": "2023-02-22T15:42:58.482Z"
   },
   {
    "duration": 201,
    "start_time": "2023-02-22T15:42:58.620Z"
   },
   {
    "duration": 9,
    "start_time": "2023-02-22T15:42:58.824Z"
   },
   {
    "duration": 62,
    "start_time": "2023-02-22T15:42:58.835Z"
   },
   {
    "duration": 11,
    "start_time": "2023-02-22T15:42:58.899Z"
   },
   {
    "duration": 111,
    "start_time": "2023-02-22T15:42:58.913Z"
   },
   {
    "duration": 47,
    "start_time": "2023-02-22T15:42:59.025Z"
   },
   {
    "duration": 18,
    "start_time": "2023-02-22T15:42:59.074Z"
   },
   {
    "duration": 7,
    "start_time": "2023-02-22T15:42:59.094Z"
   },
   {
    "duration": 22,
    "start_time": "2023-02-22T15:42:59.102Z"
   },
   {
    "duration": 41,
    "start_time": "2023-02-22T15:42:59.126Z"
   },
   {
    "duration": 16,
    "start_time": "2023-02-22T15:42:59.169Z"
   },
   {
    "duration": 15,
    "start_time": "2023-02-22T15:42:59.187Z"
   },
   {
    "duration": 60,
    "start_time": "2023-02-22T15:42:59.204Z"
   },
   {
    "duration": 150,
    "start_time": "2023-02-22T15:42:59.266Z"
   },
   {
    "duration": 11,
    "start_time": "2023-02-22T15:42:59.418Z"
   },
   {
    "duration": 30,
    "start_time": "2023-02-22T15:42:59.430Z"
   },
   {
    "duration": 34,
    "start_time": "2023-02-22T15:42:59.461Z"
   },
   {
    "duration": 21,
    "start_time": "2023-02-22T15:42:59.497Z"
   },
   {
    "duration": 205,
    "start_time": "2023-02-22T15:42:59.519Z"
   },
   {
    "duration": 313,
    "start_time": "2023-02-22T15:42:59.726Z"
   },
   {
    "duration": 203,
    "start_time": "2023-02-22T15:43:00.041Z"
   },
   {
    "duration": 51,
    "start_time": "2023-02-22T15:43:00.246Z"
   },
   {
    "duration": 229,
    "start_time": "2023-02-22T15:43:00.300Z"
   },
   {
    "duration": 39,
    "start_time": "2023-02-22T15:43:00.532Z"
   },
   {
    "duration": 21,
    "start_time": "2023-02-22T15:43:00.573Z"
   },
   {
    "duration": 22,
    "start_time": "2023-02-22T15:43:00.596Z"
   },
   {
    "duration": 104,
    "start_time": "2023-02-22T15:43:00.620Z"
   },
   {
    "duration": 121,
    "start_time": "2023-02-22T15:44:29.904Z"
   },
   {
    "duration": 4,
    "start_time": "2023-02-22T15:44:49.318Z"
   },
   {
    "duration": 622,
    "start_time": "2023-02-22T15:44:49.324Z"
   },
   {
    "duration": 450,
    "start_time": "2023-02-22T15:44:49.948Z"
   },
   {
    "duration": 100,
    "start_time": "2023-02-22T15:44:50.399Z"
   },
   {
    "duration": 74,
    "start_time": "2023-02-22T15:44:50.501Z"
   },
   {
    "duration": 144,
    "start_time": "2023-02-22T15:44:50.577Z"
   },
   {
    "duration": 248,
    "start_time": "2023-02-22T15:44:50.723Z"
   },
   {
    "duration": 8,
    "start_time": "2023-02-22T15:44:50.972Z"
   },
   {
    "duration": 46,
    "start_time": "2023-02-22T15:44:50.983Z"
   },
   {
    "duration": 12,
    "start_time": "2023-02-22T15:44:51.053Z"
   },
   {
    "duration": 116,
    "start_time": "2023-02-22T15:44:51.067Z"
   },
   {
    "duration": 36,
    "start_time": "2023-02-22T15:44:51.185Z"
   },
   {
    "duration": 41,
    "start_time": "2023-02-22T15:44:51.223Z"
   },
   {
    "duration": 7,
    "start_time": "2023-02-22T15:44:51.266Z"
   },
   {
    "duration": 30,
    "start_time": "2023-02-22T15:44:51.274Z"
   },
   {
    "duration": 20,
    "start_time": "2023-02-22T15:44:51.305Z"
   },
   {
    "duration": 30,
    "start_time": "2023-02-22T15:44:51.326Z"
   },
   {
    "duration": 14,
    "start_time": "2023-02-22T15:44:51.358Z"
   },
   {
    "duration": 36,
    "start_time": "2023-02-22T15:44:51.374Z"
   },
   {
    "duration": 182,
    "start_time": "2023-02-22T15:44:51.412Z"
   },
   {
    "duration": 11,
    "start_time": "2023-02-22T15:44:51.596Z"
   },
   {
    "duration": 13,
    "start_time": "2023-02-22T15:44:51.609Z"
   },
   {
    "duration": 54,
    "start_time": "2023-02-22T15:44:51.624Z"
   },
   {
    "duration": 19,
    "start_time": "2023-02-22T15:44:51.681Z"
   },
   {
    "duration": 186,
    "start_time": "2023-02-22T15:44:51.702Z"
   },
   {
    "duration": 202,
    "start_time": "2023-02-22T15:44:51.890Z"
   },
   {
    "duration": 196,
    "start_time": "2023-02-22T15:44:52.094Z"
   },
   {
    "duration": 43,
    "start_time": "2023-02-22T15:44:52.292Z"
   },
   {
    "duration": 202,
    "start_time": "2023-02-22T15:44:52.354Z"
   },
   {
    "duration": 22,
    "start_time": "2023-02-22T15:44:52.557Z"
   },
   {
    "duration": 20,
    "start_time": "2023-02-22T15:44:52.581Z"
   },
   {
    "duration": 7,
    "start_time": "2023-02-22T15:44:52.603Z"
   },
   {
    "duration": 109,
    "start_time": "2023-02-22T15:44:52.612Z"
   },
   {
    "duration": 22,
    "start_time": "2023-02-22T15:52:23.820Z"
   },
   {
    "duration": 22,
    "start_time": "2023-02-22T15:53:00.357Z"
   },
   {
    "duration": 30,
    "start_time": "2023-02-22T15:53:27.268Z"
   },
   {
    "duration": 28,
    "start_time": "2023-02-22T15:53:57.628Z"
   },
   {
    "duration": 24,
    "start_time": "2023-02-22T15:54:05.530Z"
   },
   {
    "duration": 20,
    "start_time": "2023-02-22T15:54:11.658Z"
   },
   {
    "duration": 22,
    "start_time": "2023-02-22T15:55:47.684Z"
   },
   {
    "duration": 23,
    "start_time": "2023-02-22T15:55:49.488Z"
   },
   {
    "duration": 24,
    "start_time": "2023-02-22T15:58:02.073Z"
   },
   {
    "duration": 30,
    "start_time": "2023-02-22T15:58:07.687Z"
   },
   {
    "duration": 17,
    "start_time": "2023-02-22T15:58:28.707Z"
   },
   {
    "duration": 26,
    "start_time": "2023-02-22T15:59:06.511Z"
   },
   {
    "duration": 18,
    "start_time": "2023-02-22T15:59:09.968Z"
   },
   {
    "duration": 68,
    "start_time": "2023-02-22T15:59:19.832Z"
   },
   {
    "duration": 7,
    "start_time": "2023-02-22T16:09:47.534Z"
   },
   {
    "duration": 64,
    "start_time": "2023-02-22T16:09:52.640Z"
   },
   {
    "duration": 6,
    "start_time": "2023-02-22T16:12:26.916Z"
   },
   {
    "duration": 75,
    "start_time": "2023-02-22T16:12:27.494Z"
   },
   {
    "duration": 7,
    "start_time": "2023-02-22T16:12:36.680Z"
   },
   {
    "duration": 80,
    "start_time": "2023-02-22T16:12:37.830Z"
   },
   {
    "duration": 7,
    "start_time": "2023-02-22T16:12:40.924Z"
   },
   {
    "duration": 63,
    "start_time": "2023-02-22T16:12:41.432Z"
   },
   {
    "duration": 11,
    "start_time": "2023-02-22T16:14:43.807Z"
   },
   {
    "duration": 7,
    "start_time": "2023-02-22T16:15:30.869Z"
   },
   {
    "duration": 64,
    "start_time": "2023-02-22T16:15:33.724Z"
   },
   {
    "duration": 6,
    "start_time": "2023-02-22T16:15:41.609Z"
   },
   {
    "duration": 67,
    "start_time": "2023-02-22T16:15:44.100Z"
   },
   {
    "duration": 83,
    "start_time": "2023-02-22T16:16:25.959Z"
   },
   {
    "duration": 1230,
    "start_time": "2023-02-22T16:46:28.766Z"
   },
   {
    "duration": 1043,
    "start_time": "2023-02-22T16:46:29.998Z"
   },
   {
    "duration": 513,
    "start_time": "2023-02-22T16:46:31.043Z"
   },
   {
    "duration": 105,
    "start_time": "2023-02-22T16:46:31.558Z"
   },
   {
    "duration": 69,
    "start_time": "2023-02-22T16:46:31.664Z"
   },
   {
    "duration": 148,
    "start_time": "2023-02-22T16:46:31.735Z"
   },
   {
    "duration": 238,
    "start_time": "2023-02-22T16:46:31.885Z"
   },
   {
    "duration": 8,
    "start_time": "2023-02-22T16:46:32.125Z"
   },
   {
    "duration": 49,
    "start_time": "2023-02-22T16:46:32.134Z"
   },
   {
    "duration": 11,
    "start_time": "2023-02-22T16:46:32.186Z"
   },
   {
    "duration": 86,
    "start_time": "2023-02-22T16:46:32.199Z"
   },
   {
    "duration": 28,
    "start_time": "2023-02-22T16:46:32.287Z"
   },
   {
    "duration": 16,
    "start_time": "2023-02-22T16:46:32.317Z"
   },
   {
    "duration": 6,
    "start_time": "2023-02-22T16:46:32.353Z"
   },
   {
    "duration": 20,
    "start_time": "2023-02-22T16:46:32.361Z"
   },
   {
    "duration": 16,
    "start_time": "2023-02-22T16:46:32.382Z"
   },
   {
    "duration": 11,
    "start_time": "2023-02-22T16:46:32.400Z"
   },
   {
    "duration": 10,
    "start_time": "2023-02-22T16:46:32.413Z"
   },
   {
    "duration": 48,
    "start_time": "2023-02-22T16:46:32.424Z"
   },
   {
    "duration": 146,
    "start_time": "2023-02-22T16:46:32.474Z"
   },
   {
    "duration": 12,
    "start_time": "2023-02-22T16:46:32.622Z"
   },
   {
    "duration": 28,
    "start_time": "2023-02-22T16:46:32.635Z"
   },
   {
    "duration": 31,
    "start_time": "2023-02-22T16:46:32.665Z"
   },
   {
    "duration": 17,
    "start_time": "2023-02-22T16:46:32.698Z"
   },
   {
    "duration": 198,
    "start_time": "2023-02-22T16:46:32.717Z"
   },
   {
    "duration": 205,
    "start_time": "2023-02-22T16:46:32.917Z"
   },
   {
    "duration": 256,
    "start_time": "2023-02-22T16:46:33.125Z"
   },
   {
    "duration": 42,
    "start_time": "2023-02-22T16:46:33.385Z"
   },
   {
    "duration": 201,
    "start_time": "2023-02-22T16:46:33.429Z"
   },
   {
    "duration": 34,
    "start_time": "2023-02-22T16:46:33.632Z"
   },
   {
    "duration": 449,
    "start_time": "2023-02-22T16:46:33.667Z"
   },
   {
    "duration": 52,
    "start_time": "2023-02-22T16:46:34.118Z"
   },
   {
    "duration": 25,
    "start_time": "2023-02-22T16:46:34.172Z"
   },
   {
    "duration": 57,
    "start_time": "2023-02-22T16:46:34.200Z"
   },
   {
    "duration": 126,
    "start_time": "2023-02-22T16:46:34.259Z"
   },
   {
    "duration": 6,
    "start_time": "2023-02-22T16:46:34.387Z"
   },
   {
    "duration": 86,
    "start_time": "2023-02-22T16:46:34.395Z"
   },
   {
    "duration": 5,
    "start_time": "2023-02-22T16:47:26.466Z"
   },
   {
    "duration": 1717,
    "start_time": "2023-02-22T17:32:24.375Z"
   },
   {
    "duration": 391,
    "start_time": "2023-02-22T17:32:48.131Z"
   },
   {
    "duration": 252,
    "start_time": "2023-02-22T17:32:55.954Z"
   },
   {
    "duration": 379,
    "start_time": "2023-02-22T17:33:06.380Z"
   },
   {
    "duration": 494,
    "start_time": "2023-02-22T17:33:46.761Z"
   },
   {
    "duration": 343,
    "start_time": "2023-02-22T17:33:53.505Z"
   },
   {
    "duration": 348,
    "start_time": "2023-02-22T17:34:15.439Z"
   },
   {
    "duration": 447,
    "start_time": "2023-02-22T17:34:20.995Z"
   },
   {
    "duration": 298,
    "start_time": "2023-02-22T17:34:25.446Z"
   },
   {
    "duration": 316,
    "start_time": "2023-02-22T17:34:30.531Z"
   },
   {
    "duration": 353,
    "start_time": "2023-02-22T17:34:36.956Z"
   },
   {
    "duration": 299,
    "start_time": "2023-02-22T17:34:39.937Z"
   },
   {
    "duration": 450,
    "start_time": "2023-02-22T17:40:10.170Z"
   },
   {
    "duration": 337,
    "start_time": "2023-02-22T17:40:15.379Z"
   },
   {
    "duration": 319,
    "start_time": "2023-02-22T17:45:05.064Z"
   },
   {
    "duration": 309,
    "start_time": "2023-02-22T17:47:10.302Z"
   },
   {
    "duration": 4,
    "start_time": "2023-02-22T17:49:20.385Z"
   },
   {
    "duration": 543,
    "start_time": "2023-02-22T17:49:20.391Z"
   },
   {
    "duration": 502,
    "start_time": "2023-02-22T17:49:20.936Z"
   },
   {
    "duration": 70,
    "start_time": "2023-02-22T17:49:21.454Z"
   },
   {
    "duration": 84,
    "start_time": "2023-02-22T17:49:21.526Z"
   },
   {
    "duration": 127,
    "start_time": "2023-02-22T17:49:21.612Z"
   },
   {
    "duration": 227,
    "start_time": "2023-02-22T17:49:21.740Z"
   },
   {
    "duration": 7,
    "start_time": "2023-02-22T17:49:21.969Z"
   },
   {
    "duration": 41,
    "start_time": "2023-02-22T17:49:21.978Z"
   },
   {
    "duration": 34,
    "start_time": "2023-02-22T17:49:22.021Z"
   },
   {
    "duration": 106,
    "start_time": "2023-02-22T17:49:22.058Z"
   },
   {
    "duration": 32,
    "start_time": "2023-02-22T17:49:22.166Z"
   },
   {
    "duration": 18,
    "start_time": "2023-02-22T17:49:22.200Z"
   },
   {
    "duration": 34,
    "start_time": "2023-02-22T17:49:22.220Z"
   },
   {
    "duration": 16,
    "start_time": "2023-02-22T17:49:22.256Z"
   },
   {
    "duration": 19,
    "start_time": "2023-02-22T17:49:22.274Z"
   },
   {
    "duration": 13,
    "start_time": "2023-02-22T17:49:22.295Z"
   },
   {
    "duration": 48,
    "start_time": "2023-02-22T17:49:22.310Z"
   },
   {
    "duration": 26,
    "start_time": "2023-02-22T17:49:22.360Z"
   },
   {
    "duration": 153,
    "start_time": "2023-02-22T17:49:22.388Z"
   },
   {
    "duration": 19,
    "start_time": "2023-02-22T17:49:22.543Z"
   },
   {
    "duration": 13,
    "start_time": "2023-02-22T17:49:22.563Z"
   },
   {
    "duration": 29,
    "start_time": "2023-02-22T17:49:22.577Z"
   },
   {
    "duration": 16,
    "start_time": "2023-02-22T17:49:22.608Z"
   },
   {
    "duration": 149,
    "start_time": "2023-02-22T17:49:22.654Z"
   },
   {
    "duration": 193,
    "start_time": "2023-02-22T17:49:22.804Z"
   },
   {
    "duration": 187,
    "start_time": "2023-02-22T17:49:22.998Z"
   },
   {
    "duration": 43,
    "start_time": "2023-02-22T17:49:23.186Z"
   },
   {
    "duration": 201,
    "start_time": "2023-02-22T17:49:23.232Z"
   },
   {
    "duration": 495,
    "start_time": "2023-02-22T17:49:23.435Z"
   },
   {
    "duration": 337,
    "start_time": "2023-02-22T17:49:23.932Z"
   },
   {
    "duration": 19,
    "start_time": "2023-02-22T17:49:24.270Z"
   },
   {
    "duration": 16,
    "start_time": "2023-02-22T17:49:24.291Z"
   },
   {
    "duration": 50,
    "start_time": "2023-02-22T17:49:24.309Z"
   },
   {
    "duration": 18,
    "start_time": "2023-02-22T17:49:24.361Z"
   },
   {
    "duration": 9,
    "start_time": "2023-02-22T17:49:24.381Z"
   },
   {
    "duration": 105,
    "start_time": "2023-02-22T17:49:24.391Z"
   },
   {
    "duration": 8,
    "start_time": "2023-02-22T17:49:24.498Z"
   },
   {
    "duration": 90,
    "start_time": "2023-02-22T17:49:24.508Z"
   },
   {
    "duration": 23,
    "start_time": "2023-02-22T17:49:42.424Z"
   },
   {
    "duration": 20,
    "start_time": "2023-02-22T17:49:43.076Z"
   },
   {
    "duration": 1263,
    "start_time": "2023-02-22T17:49:54.430Z"
   },
   {
    "duration": 618,
    "start_time": "2023-02-22T17:49:55.696Z"
   },
   {
    "duration": 544,
    "start_time": "2023-02-22T17:49:56.316Z"
   },
   {
    "duration": 119,
    "start_time": "2023-02-22T17:49:56.863Z"
   },
   {
    "duration": 80,
    "start_time": "2023-02-22T17:49:56.984Z"
   },
   {
    "duration": 146,
    "start_time": "2023-02-22T17:49:57.066Z"
   },
   {
    "duration": 269,
    "start_time": "2023-02-22T17:49:57.213Z"
   },
   {
    "duration": 10,
    "start_time": "2023-02-22T17:49:57.484Z"
   },
   {
    "duration": 71,
    "start_time": "2023-02-22T17:49:57.496Z"
   },
   {
    "duration": 14,
    "start_time": "2023-02-22T17:49:57.570Z"
   },
   {
    "duration": 133,
    "start_time": "2023-02-22T17:49:57.586Z"
   },
   {
    "duration": 46,
    "start_time": "2023-02-22T17:49:57.721Z"
   },
   {
    "duration": 15,
    "start_time": "2023-02-22T17:49:57.769Z"
   },
   {
    "duration": 5,
    "start_time": "2023-02-22T17:49:57.786Z"
   },
   {
    "duration": 15,
    "start_time": "2023-02-22T17:49:57.793Z"
   },
   {
    "duration": 45,
    "start_time": "2023-02-22T17:49:57.810Z"
   },
   {
    "duration": 11,
    "start_time": "2023-02-22T17:49:57.857Z"
   },
   {
    "duration": 10,
    "start_time": "2023-02-22T17:49:57.870Z"
   },
   {
    "duration": 29,
    "start_time": "2023-02-22T17:49:57.882Z"
   },
   {
    "duration": 155,
    "start_time": "2023-02-22T17:49:57.913Z"
   },
   {
    "duration": 10,
    "start_time": "2023-02-22T17:49:58.070Z"
   },
   {
    "duration": 13,
    "start_time": "2023-02-22T17:49:58.081Z"
   },
   {
    "duration": 32,
    "start_time": "2023-02-22T17:49:58.095Z"
   },
   {
    "duration": 37,
    "start_time": "2023-02-22T17:49:58.128Z"
   },
   {
    "duration": 176,
    "start_time": "2023-02-22T17:49:58.166Z"
   },
   {
    "duration": 186,
    "start_time": "2023-02-22T17:49:58.343Z"
   },
   {
    "duration": 247,
    "start_time": "2023-02-22T17:49:58.531Z"
   },
   {
    "duration": 41,
    "start_time": "2023-02-22T17:49:58.781Z"
   },
   {
    "duration": 216,
    "start_time": "2023-02-22T17:49:58.824Z"
   },
   {
    "duration": 409,
    "start_time": "2023-02-22T17:49:59.042Z"
   },
   {
    "duration": 342,
    "start_time": "2023-02-22T17:49:59.453Z"
   },
   {
    "duration": 21,
    "start_time": "2023-02-22T17:49:59.797Z"
   },
   {
    "duration": 149,
    "start_time": "2023-02-22T17:49:59.819Z"
   },
   {
    "duration": 21,
    "start_time": "2023-02-22T17:49:59.970Z"
   },
   {
    "duration": 70,
    "start_time": "2023-02-22T17:49:59.993Z"
   },
   {
    "duration": 17,
    "start_time": "2023-02-22T17:50:00.065Z"
   },
   {
    "duration": 124,
    "start_time": "2023-02-22T17:50:00.084Z"
   },
   {
    "duration": 44,
    "start_time": "2023-02-22T17:50:00.209Z"
   },
   {
    "duration": 92,
    "start_time": "2023-02-22T17:50:00.255Z"
   },
   {
    "duration": 10,
    "start_time": "2023-02-22T17:59:51.607Z"
   },
   {
    "duration": 89,
    "start_time": "2023-02-22T18:01:12.437Z"
   },
   {
    "duration": 70,
    "start_time": "2023-02-22T18:01:37.315Z"
   },
   {
    "duration": 70,
    "start_time": "2023-02-22T18:01:43.098Z"
   },
   {
    "duration": 74,
    "start_time": "2023-02-22T18:01:48.766Z"
   },
   {
    "duration": 82,
    "start_time": "2023-02-22T18:02:10.277Z"
   },
   {
    "duration": 4,
    "start_time": "2023-02-22T18:02:15.529Z"
   },
   {
    "duration": 559,
    "start_time": "2023-02-22T18:02:15.536Z"
   },
   {
    "duration": 496,
    "start_time": "2023-02-22T18:02:16.097Z"
   },
   {
    "duration": 90,
    "start_time": "2023-02-22T18:02:16.596Z"
   },
   {
    "duration": 69,
    "start_time": "2023-02-22T18:02:16.688Z"
   },
   {
    "duration": 143,
    "start_time": "2023-02-22T18:02:16.758Z"
   },
   {
    "duration": 231,
    "start_time": "2023-02-22T18:02:16.903Z"
   },
   {
    "duration": 22,
    "start_time": "2023-02-22T18:02:17.136Z"
   },
   {
    "duration": 42,
    "start_time": "2023-02-22T18:02:17.160Z"
   },
   {
    "duration": 12,
    "start_time": "2023-02-22T18:02:17.204Z"
   },
   {
    "duration": 106,
    "start_time": "2023-02-22T18:02:17.220Z"
   },
   {
    "duration": 48,
    "start_time": "2023-02-22T18:02:17.328Z"
   },
   {
    "duration": 19,
    "start_time": "2023-02-22T18:02:17.378Z"
   },
   {
    "duration": 8,
    "start_time": "2023-02-22T18:02:17.398Z"
   },
   {
    "duration": 55,
    "start_time": "2023-02-22T18:02:17.408Z"
   },
   {
    "duration": 22,
    "start_time": "2023-02-22T18:02:17.465Z"
   },
   {
    "duration": 27,
    "start_time": "2023-02-22T18:02:17.490Z"
   },
   {
    "duration": 36,
    "start_time": "2023-02-22T18:02:17.519Z"
   },
   {
    "duration": 33,
    "start_time": "2023-02-22T18:02:17.558Z"
   },
   {
    "duration": 196,
    "start_time": "2023-02-22T18:02:17.594Z"
   },
   {
    "duration": 11,
    "start_time": "2023-02-22T18:02:17.791Z"
   },
   {
    "duration": 13,
    "start_time": "2023-02-22T18:02:17.804Z"
   },
   {
    "duration": 57,
    "start_time": "2023-02-22T18:02:17.818Z"
   },
   {
    "duration": 20,
    "start_time": "2023-02-22T18:02:17.877Z"
   },
   {
    "duration": 218,
    "start_time": "2023-02-22T18:02:17.898Z"
   },
   {
    "duration": 193,
    "start_time": "2023-02-22T18:02:18.118Z"
   },
   {
    "duration": 191,
    "start_time": "2023-02-22T18:02:18.314Z"
   },
   {
    "duration": 47,
    "start_time": "2023-02-22T18:02:18.507Z"
   },
   {
    "duration": 205,
    "start_time": "2023-02-22T18:02:18.559Z"
   },
   {
    "duration": 325,
    "start_time": "2023-02-22T18:02:18.766Z"
   },
   {
    "duration": 341,
    "start_time": "2023-02-22T18:02:19.093Z"
   },
   {
    "duration": 31,
    "start_time": "2023-02-22T18:02:19.436Z"
   },
   {
    "duration": 24,
    "start_time": "2023-02-22T18:02:19.470Z"
   },
   {
    "duration": 70,
    "start_time": "2023-02-22T18:02:19.496Z"
   },
   {
    "duration": 0,
    "start_time": "2023-02-22T18:02:19.567Z"
   },
   {
    "duration": 0,
    "start_time": "2023-02-22T18:02:19.569Z"
   },
   {
    "duration": 0,
    "start_time": "2023-02-22T18:02:19.570Z"
   },
   {
    "duration": 0,
    "start_time": "2023-02-22T18:02:19.571Z"
   },
   {
    "duration": 0,
    "start_time": "2023-02-22T18:02:19.572Z"
   },
   {
    "duration": 0,
    "start_time": "2023-02-22T18:02:19.573Z"
   },
   {
    "duration": 0,
    "start_time": "2023-02-22T18:02:19.574Z"
   },
   {
    "duration": 17,
    "start_time": "2023-02-22T18:02:48.285Z"
   },
   {
    "duration": 16,
    "start_time": "2023-02-22T18:02:54.334Z"
   },
   {
    "duration": 17,
    "start_time": "2023-02-22T18:03:00.030Z"
   },
   {
    "duration": 23,
    "start_time": "2023-02-22T18:03:25.367Z"
   },
   {
    "duration": 18,
    "start_time": "2023-02-22T18:03:30.112Z"
   },
   {
    "duration": 22,
    "start_time": "2023-02-22T18:04:27.295Z"
   },
   {
    "duration": 13,
    "start_time": "2023-02-22T18:04:31.337Z"
   },
   {
    "duration": 28,
    "start_time": "2023-02-22T18:05:45.598Z"
   },
   {
    "duration": 9,
    "start_time": "2023-02-22T18:06:03.858Z"
   },
   {
    "duration": 75,
    "start_time": "2023-02-22T18:06:34.566Z"
   },
   {
    "duration": 74,
    "start_time": "2023-02-22T18:13:55.236Z"
   },
   {
    "duration": 9,
    "start_time": "2023-02-22T18:14:01.427Z"
   },
   {
    "duration": 1738,
    "start_time": "2023-02-22T18:54:46.747Z"
   },
   {
    "duration": 1041,
    "start_time": "2023-02-22T18:54:48.487Z"
   },
   {
    "duration": 466,
    "start_time": "2023-02-22T18:54:49.530Z"
   },
   {
    "duration": 120,
    "start_time": "2023-02-22T18:54:49.998Z"
   },
   {
    "duration": 72,
    "start_time": "2023-02-22T18:54:50.120Z"
   },
   {
    "duration": 132,
    "start_time": "2023-02-22T18:54:50.194Z"
   },
   {
    "duration": 209,
    "start_time": "2023-02-22T18:54:50.328Z"
   },
   {
    "duration": 16,
    "start_time": "2023-02-22T18:54:50.539Z"
   },
   {
    "duration": 35,
    "start_time": "2023-02-22T18:54:50.556Z"
   },
   {
    "duration": 9,
    "start_time": "2023-02-22T18:54:50.593Z"
   },
   {
    "duration": 88,
    "start_time": "2023-02-22T18:54:50.604Z"
   },
   {
    "duration": 23,
    "start_time": "2023-02-22T18:54:50.694Z"
   },
   {
    "duration": 14,
    "start_time": "2023-02-22T18:54:50.719Z"
   },
   {
    "duration": 20,
    "start_time": "2023-02-22T18:54:50.735Z"
   },
   {
    "duration": 17,
    "start_time": "2023-02-22T18:54:50.756Z"
   },
   {
    "duration": 17,
    "start_time": "2023-02-22T18:54:50.775Z"
   },
   {
    "duration": 13,
    "start_time": "2023-02-22T18:54:50.793Z"
   },
   {
    "duration": 11,
    "start_time": "2023-02-22T18:54:50.807Z"
   },
   {
    "duration": 51,
    "start_time": "2023-02-22T18:54:50.819Z"
   },
   {
    "duration": 135,
    "start_time": "2023-02-22T18:54:50.872Z"
   },
   {
    "duration": 10,
    "start_time": "2023-02-22T18:54:51.009Z"
   },
   {
    "duration": 12,
    "start_time": "2023-02-22T18:54:51.021Z"
   },
   {
    "duration": 49,
    "start_time": "2023-02-22T18:54:51.035Z"
   },
   {
    "duration": 17,
    "start_time": "2023-02-22T18:54:51.085Z"
   },
   {
    "duration": 182,
    "start_time": "2023-02-22T18:54:51.104Z"
   },
   {
    "duration": 177,
    "start_time": "2023-02-22T18:54:51.287Z"
   },
   {
    "duration": 262,
    "start_time": "2023-02-22T18:54:51.465Z"
   },
   {
    "duration": 50,
    "start_time": "2023-02-22T18:54:51.730Z"
   },
   {
    "duration": 209,
    "start_time": "2023-02-22T18:54:51.781Z"
   },
   {
    "duration": 418,
    "start_time": "2023-02-22T18:54:51.991Z"
   },
   {
    "duration": 324,
    "start_time": "2023-02-22T18:54:52.411Z"
   },
   {
    "duration": 30,
    "start_time": "2023-02-22T18:54:52.738Z"
   },
   {
    "duration": 345,
    "start_time": "2023-02-22T18:54:52.770Z"
   },
   {
    "duration": 37,
    "start_time": "2023-02-22T18:54:53.117Z"
   },
   {
    "duration": 9,
    "start_time": "2023-02-22T18:54:53.156Z"
   },
   {
    "duration": 27,
    "start_time": "2023-02-22T18:54:53.166Z"
   },
   {
    "duration": 68,
    "start_time": "2023-02-22T18:54:53.194Z"
   },
   {
    "duration": 21,
    "start_time": "2023-02-22T18:54:53.264Z"
   },
   {
    "duration": 83,
    "start_time": "2023-02-22T18:54:53.287Z"
   },
   {
    "duration": 7,
    "start_time": "2023-02-22T18:54:53.371Z"
   },
   {
    "duration": 82,
    "start_time": "2023-02-22T18:54:53.379Z"
   },
   {
    "duration": 1541,
    "start_time": "2023-06-08T08:23:01.708Z"
   },
   {
    "duration": 922,
    "start_time": "2023-06-08T08:23:03.251Z"
   },
   {
    "duration": 384,
    "start_time": "2023-06-08T08:23:04.175Z"
   },
   {
    "duration": 110,
    "start_time": "2023-06-08T08:23:04.561Z"
   },
   {
    "duration": 67,
    "start_time": "2023-06-08T08:23:04.673Z"
   },
   {
    "duration": 122,
    "start_time": "2023-06-08T08:23:04.741Z"
   },
   {
    "duration": 169,
    "start_time": "2023-06-08T08:23:04.864Z"
   },
   {
    "duration": 6,
    "start_time": "2023-06-08T08:23:05.035Z"
   },
   {
    "duration": 33,
    "start_time": "2023-06-08T08:23:05.042Z"
   },
   {
    "duration": 24,
    "start_time": "2023-06-08T08:23:05.078Z"
   },
   {
    "duration": 61,
    "start_time": "2023-06-08T08:23:05.104Z"
   },
   {
    "duration": 49,
    "start_time": "2023-06-08T08:23:05.167Z"
   },
   {
    "duration": 13,
    "start_time": "2023-06-08T08:23:05.218Z"
   },
   {
    "duration": 5,
    "start_time": "2023-06-08T08:23:05.232Z"
   },
   {
    "duration": 14,
    "start_time": "2023-06-08T08:23:05.238Z"
   },
   {
    "duration": 17,
    "start_time": "2023-06-08T08:23:05.254Z"
   },
   {
    "duration": 25,
    "start_time": "2023-06-08T08:23:05.273Z"
   },
   {
    "duration": 11,
    "start_time": "2023-06-08T08:23:05.300Z"
   },
   {
    "duration": 26,
    "start_time": "2023-06-08T08:23:05.312Z"
   },
   {
    "duration": 112,
    "start_time": "2023-06-08T08:23:05.340Z"
   },
   {
    "duration": 10,
    "start_time": "2023-06-08T08:23:05.453Z"
   },
   {
    "duration": 62,
    "start_time": "2023-06-08T08:23:05.464Z"
   },
   {
    "duration": 27,
    "start_time": "2023-06-08T08:23:05.527Z"
   },
   {
    "duration": 13,
    "start_time": "2023-06-08T08:23:05.556Z"
   },
   {
    "duration": 160,
    "start_time": "2023-06-08T08:23:05.571Z"
   },
   {
    "duration": 172,
    "start_time": "2023-06-08T08:23:05.732Z"
   },
   {
    "duration": 246,
    "start_time": "2023-06-08T08:23:05.906Z"
   },
   {
    "duration": 60,
    "start_time": "2023-06-08T08:23:06.155Z"
   },
   {
    "duration": 196,
    "start_time": "2023-06-08T08:23:06.216Z"
   },
   {
    "duration": 324,
    "start_time": "2023-06-08T08:23:06.413Z"
   },
   {
    "duration": 277,
    "start_time": "2023-06-08T08:23:06.738Z"
   },
   {
    "duration": 21,
    "start_time": "2023-06-08T08:23:07.017Z"
   },
   {
    "duration": 290,
    "start_time": "2023-06-08T08:23:07.040Z"
   },
   {
    "duration": 15,
    "start_time": "2023-06-08T08:23:07.332Z"
   },
   {
    "duration": 8,
    "start_time": "2023-06-08T08:23:07.348Z"
   },
   {
    "duration": 51,
    "start_time": "2023-06-08T08:23:07.358Z"
   },
   {
    "duration": 77,
    "start_time": "2023-06-08T08:23:07.412Z"
   },
   {
    "duration": 9,
    "start_time": "2023-06-08T08:23:07.491Z"
   },
   {
    "duration": 83,
    "start_time": "2023-06-08T08:23:07.502Z"
   },
   {
    "duration": 9,
    "start_time": "2023-06-08T08:23:07.587Z"
   },
   {
    "duration": 61,
    "start_time": "2023-06-08T08:23:07.597Z"
   },
   {
    "duration": 3,
    "start_time": "2023-06-08T08:31:55.828Z"
   },
   {
    "duration": 512,
    "start_time": "2023-06-08T08:31:55.833Z"
   },
   {
    "duration": 359,
    "start_time": "2023-06-08T08:31:56.347Z"
   },
   {
    "duration": 47,
    "start_time": "2023-06-08T08:31:56.707Z"
   },
   {
    "duration": 69,
    "start_time": "2023-06-08T08:31:56.756Z"
   },
   {
    "duration": 115,
    "start_time": "2023-06-08T08:31:56.827Z"
   },
   {
    "duration": 195,
    "start_time": "2023-06-08T08:31:56.944Z"
   },
   {
    "duration": 35,
    "start_time": "2023-06-08T08:31:57.141Z"
   },
   {
    "duration": 34,
    "start_time": "2023-06-08T08:31:57.177Z"
   },
   {
    "duration": 66,
    "start_time": "2023-06-08T08:31:57.212Z"
   },
   {
    "duration": 32,
    "start_time": "2023-06-08T08:31:57.280Z"
   },
   {
    "duration": 15,
    "start_time": "2023-06-08T08:31:57.314Z"
   },
   {
    "duration": 5,
    "start_time": "2023-06-08T08:31:57.330Z"
   },
   {
    "duration": 15,
    "start_time": "2023-06-08T08:31:57.337Z"
   },
   {
    "duration": 21,
    "start_time": "2023-06-08T08:31:57.353Z"
   },
   {
    "duration": 18,
    "start_time": "2023-06-08T08:31:57.375Z"
   },
   {
    "duration": 21,
    "start_time": "2023-06-08T08:31:57.394Z"
   },
   {
    "duration": 104,
    "start_time": "2023-06-08T08:31:57.416Z"
   },
   {
    "duration": 9,
    "start_time": "2023-06-08T08:31:57.521Z"
   },
   {
    "duration": 10,
    "start_time": "2023-06-08T08:31:57.532Z"
   },
   {
    "duration": 52,
    "start_time": "2023-06-08T08:31:57.544Z"
   },
   {
    "duration": 14,
    "start_time": "2023-06-08T08:31:57.598Z"
   },
   {
    "duration": 138,
    "start_time": "2023-06-08T08:31:57.613Z"
   },
   {
    "duration": 160,
    "start_time": "2023-06-08T08:31:57.752Z"
   },
   {
    "duration": 154,
    "start_time": "2023-06-08T08:31:57.913Z"
   },
   {
    "duration": 46,
    "start_time": "2023-06-08T08:31:58.068Z"
   },
   {
    "duration": 179,
    "start_time": "2023-06-08T08:31:58.116Z"
   },
   {
    "duration": 340,
    "start_time": "2023-06-08T08:31:58.300Z"
   },
   {
    "duration": 275,
    "start_time": "2023-06-08T08:31:58.642Z"
   },
   {
    "duration": 17,
    "start_time": "2023-06-08T08:31:58.918Z"
   },
   {
    "duration": 29,
    "start_time": "2023-06-08T08:31:58.937Z"
   },
   {
    "duration": 31,
    "start_time": "2023-06-08T08:31:58.967Z"
   },
   {
    "duration": 8,
    "start_time": "2023-06-08T08:31:59.000Z"
   },
   {
    "duration": 29,
    "start_time": "2023-06-08T08:31:59.009Z"
   },
   {
    "duration": 16,
    "start_time": "2023-06-08T08:31:59.039Z"
   },
   {
    "duration": 61,
    "start_time": "2023-06-08T08:31:59.056Z"
   },
   {
    "duration": 65,
    "start_time": "2023-06-08T08:31:59.119Z"
   },
   {
    "duration": 13,
    "start_time": "2023-06-08T08:31:59.185Z"
   },
   {
    "duration": 77,
    "start_time": "2023-06-08T08:31:59.199Z"
   },
   {
    "duration": 20,
    "start_time": "2023-06-08T08:33:07.127Z"
   },
   {
    "duration": 4,
    "start_time": "2023-06-08T08:37:30.203Z"
   },
   {
    "duration": 734,
    "start_time": "2023-06-08T08:37:30.208Z"
   },
   {
    "duration": 365,
    "start_time": "2023-06-08T08:37:30.943Z"
   },
   {
    "duration": 49,
    "start_time": "2023-06-08T08:37:31.310Z"
   },
   {
    "duration": 158,
    "start_time": "2023-06-08T08:37:31.361Z"
   },
   {
    "duration": 228,
    "start_time": "2023-06-08T08:37:31.520Z"
   },
   {
    "duration": 270,
    "start_time": "2023-06-08T08:37:31.750Z"
   },
   {
    "duration": 35,
    "start_time": "2023-06-08T08:37:32.021Z"
   },
   {
    "duration": 72,
    "start_time": "2023-06-08T08:37:32.058Z"
   },
   {
    "duration": 106,
    "start_time": "2023-06-08T08:37:32.131Z"
   },
   {
    "duration": 24,
    "start_time": "2023-06-08T08:37:32.238Z"
   },
   {
    "duration": 47,
    "start_time": "2023-06-08T08:37:32.263Z"
   },
   {
    "duration": 51,
    "start_time": "2023-06-08T08:37:32.311Z"
   },
   {
    "duration": 55,
    "start_time": "2023-06-08T08:37:32.363Z"
   },
   {
    "duration": 31,
    "start_time": "2023-06-08T08:37:32.420Z"
   },
   {
    "duration": 24,
    "start_time": "2023-06-08T08:37:32.452Z"
   },
   {
    "duration": 43,
    "start_time": "2023-06-08T08:37:32.477Z"
   },
   {
    "duration": 105,
    "start_time": "2023-06-08T08:37:32.522Z"
   },
   {
    "duration": 30,
    "start_time": "2023-06-08T08:37:32.629Z"
   },
   {
    "duration": 194,
    "start_time": "2023-06-08T08:37:32.661Z"
   },
   {
    "duration": 106,
    "start_time": "2023-06-08T08:37:32.856Z"
   },
   {
    "duration": 38,
    "start_time": "2023-06-08T08:37:32.963Z"
   },
   {
    "duration": 175,
    "start_time": "2023-06-08T08:37:33.002Z"
   },
   {
    "duration": 171,
    "start_time": "2023-06-08T08:37:33.179Z"
   },
   {
    "duration": 53,
    "start_time": "2023-06-08T08:37:33.352Z"
   },
   {
    "duration": 173,
    "start_time": "2023-06-08T08:37:33.407Z"
   },
   {
    "duration": 357,
    "start_time": "2023-06-08T08:37:33.584Z"
   },
   {
    "duration": 298,
    "start_time": "2023-06-08T08:37:33.942Z"
   },
   {
    "duration": 16,
    "start_time": "2023-06-08T08:37:34.242Z"
   },
   {
    "duration": 84,
    "start_time": "2023-06-08T08:37:34.260Z"
   },
   {
    "duration": 81,
    "start_time": "2023-06-08T08:37:34.346Z"
   },
   {
    "duration": 17,
    "start_time": "2023-06-08T08:37:34.429Z"
   },
   {
    "duration": 16,
    "start_time": "2023-06-08T08:37:34.447Z"
   },
   {
    "duration": 69,
    "start_time": "2023-06-08T08:37:34.464Z"
   },
   {
    "duration": 6,
    "start_time": "2023-06-08T08:37:34.535Z"
   },
   {
    "duration": 65,
    "start_time": "2023-06-08T08:37:34.542Z"
   },
   {
    "duration": 6,
    "start_time": "2023-06-08T08:40:26.974Z"
   }
  ],
  "kernelspec": {
   "display_name": "Python 3 (ipykernel)",
   "language": "python",
   "name": "python3"
  },
  "language_info": {
   "codemirror_mode": {
    "name": "ipython",
    "version": 3
   },
   "file_extension": ".py",
   "mimetype": "text/x-python",
   "name": "python",
   "nbconvert_exporter": "python",
   "pygments_lexer": "ipython3",
   "version": "3.9.5"
  },
  "toc": {
   "base_numbering": 1,
   "nav_menu": {},
   "number_sections": true,
   "sideBar": true,
   "skip_h1_title": true,
   "title_cell": "Table of Contents",
   "title_sidebar": "Contents",
   "toc_cell": false,
   "toc_position": {},
   "toc_section_display": true,
   "toc_window_display": true
  }
 },
 "nbformat": 4,
 "nbformat_minor": 2
}
